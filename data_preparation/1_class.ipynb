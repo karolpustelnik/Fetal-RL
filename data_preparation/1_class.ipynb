{
 "cells": [
  {
   "cell_type": "code",
   "execution_count": 1,
   "metadata": {},
   "outputs": [],
   "source": [
    "from sklearn.model_selection import train_test_split\n",
    "import pandas as pd"
   ]
  },
  {
   "cell_type": "code",
   "execution_count": 16,
   "metadata": {},
   "outputs": [
    {
     "data": {
      "text/html": [
       "<div>\n",
       "<style scoped>\n",
       "    .dataframe tbody tr th:only-of-type {\n",
       "        vertical-align: middle;\n",
       "    }\n",
       "\n",
       "    .dataframe tbody tr th {\n",
       "        vertical-align: top;\n",
       "    }\n",
       "\n",
       "    .dataframe thead th {\n",
       "        text-align: right;\n",
       "    }\n",
       "</style>\n",
       "<table border=\"1\" class=\"dataframe\">\n",
       "  <thead>\n",
       "    <tr style=\"text-align: right;\">\n",
       "      <th></th>\n",
       "      <th>index</th>\n",
       "      <th>Class</th>\n",
       "      <th>score</th>\n",
       "      <th>video_x</th>\n",
       "    </tr>\n",
       "  </thead>\n",
       "  <tbody>\n",
       "    <tr>\n",
       "      <th>0</th>\n",
       "      <td>1_1_1</td>\n",
       "      <td>1</td>\n",
       "      <td>0.226296</td>\n",
       "      <td>1_1</td>\n",
       "    </tr>\n",
       "    <tr>\n",
       "      <th>1</th>\n",
       "      <td>1_1_2</td>\n",
       "      <td>1</td>\n",
       "      <td>0.242073</td>\n",
       "      <td>1_1</td>\n",
       "    </tr>\n",
       "    <tr>\n",
       "      <th>2</th>\n",
       "      <td>1_1_3</td>\n",
       "      <td>1</td>\n",
       "      <td>0.258714</td>\n",
       "      <td>1_1</td>\n",
       "    </tr>\n",
       "    <tr>\n",
       "      <th>3</th>\n",
       "      <td>1_1_4</td>\n",
       "      <td>1</td>\n",
       "      <td>0.273772</td>\n",
       "      <td>1_1</td>\n",
       "    </tr>\n",
       "    <tr>\n",
       "      <th>4</th>\n",
       "      <td>1_1_5</td>\n",
       "      <td>1</td>\n",
       "      <td>0.283500</td>\n",
       "      <td>1_1</td>\n",
       "    </tr>\n",
       "    <tr>\n",
       "      <th>...</th>\n",
       "      <td>...</td>\n",
       "      <td>...</td>\n",
       "      <td>...</td>\n",
       "      <td>...</td>\n",
       "    </tr>\n",
       "    <tr>\n",
       "      <th>163098</th>\n",
       "      <td>707_3_23</td>\n",
       "      <td>6</td>\n",
       "      <td>1.000000</td>\n",
       "      <td>707_3</td>\n",
       "    </tr>\n",
       "    <tr>\n",
       "      <th>163099</th>\n",
       "      <td>707_3_24</td>\n",
       "      <td>6</td>\n",
       "      <td>0.929001</td>\n",
       "      <td>707_3</td>\n",
       "    </tr>\n",
       "    <tr>\n",
       "      <th>163100</th>\n",
       "      <td>707_3_25</td>\n",
       "      <td>5</td>\n",
       "      <td>0.829789</td>\n",
       "      <td>707_3</td>\n",
       "    </tr>\n",
       "    <tr>\n",
       "      <th>163101</th>\n",
       "      <td>707_3_26</td>\n",
       "      <td>5</td>\n",
       "      <td>0.722700</td>\n",
       "      <td>707_3</td>\n",
       "    </tr>\n",
       "    <tr>\n",
       "      <th>163102</th>\n",
       "      <td>707_3_27</td>\n",
       "      <td>5</td>\n",
       "      <td>0.663825</td>\n",
       "      <td>707_3</td>\n",
       "    </tr>\n",
       "  </tbody>\n",
       "</table>\n",
       "<p>163103 rows × 4 columns</p>\n",
       "</div>"
      ],
      "text/plain": [
       "           index  Class     score video_x\n",
       "0          1_1_1      1  0.226296     1_1\n",
       "1          1_1_2      1  0.242073     1_1\n",
       "2          1_1_3      1  0.258714     1_1\n",
       "3          1_1_4      1  0.273772     1_1\n",
       "4          1_1_5      1  0.283500     1_1\n",
       "...          ...    ...       ...     ...\n",
       "163098  707_3_23      6  1.000000   707_3\n",
       "163099  707_3_24      6  0.929001   707_3\n",
       "163100  707_3_25      5  0.829789   707_3\n",
       "163101  707_3_26      5  0.722700   707_3\n",
       "163102  707_3_27      5  0.663825   707_3\n",
       "\n",
       "[163103 rows x 4 columns]"
      ]
     },
     "execution_count": 16,
     "metadata": {},
     "output_type": "execute_result"
    }
   ],
   "source": [
    "score_labels = pd.read_csv('./outputs/score_labels.csv')\n",
    "score_labels"
   ]
  },
  {
   "cell_type": "code",
   "execution_count": 38,
   "metadata": {},
   "outputs": [],
   "source": [
    "labels = []\n",
    "indexes = []\n",
    "videos = []\n",
    "scores = []\n",
    "for i in range(len(score_labels)):\n",
    "    if score_labels['video_x'][i].split('_')[1] == '3':\n",
    "        labels.append(score_labels['Class'][i])\n",
    "        indexes.append(score_labels['index'][i])\n",
    "        videos.append(score_labels['video_x'][i])\n",
    "        scores.append(score_labels['score'][i])\n",
    "\n",
    "femur_data = pd.DataFrame({'index': indexes, 'Class': labels, 'score' : scores, 'video_x': videos})"
   ]
  },
  {
   "cell_type": "code",
   "execution_count": 39,
   "metadata": {},
   "outputs": [],
   "source": [
    "femur_data.to_csv('./outputs/femur_data.csv', index = False)"
   ]
  },
  {
   "cell_type": "code",
   "execution_count": 40,
   "metadata": {},
   "outputs": [],
   "source": [
    "videos = list(femur_data['video_x'].unique())"
   ]
  },
  {
   "cell_type": "code",
   "execution_count": 3,
   "metadata": {},
   "outputs": [],
   "source": [
    "score_labels = pd.read_csv('./outputs/labels_corrected.csv')"
   ]
  },
  {
   "cell_type": "code",
   "execution_count": 9,
   "metadata": {},
   "outputs": [
    {
     "data": {
      "text/plain": [
       "1515"
      ]
     },
     "execution_count": 9,
     "metadata": {},
     "output_type": "execute_result"
    }
   ],
   "source": [
    "len(score_labels['video'].unique())"
   ]
  },
  {
   "cell_type": "code",
   "execution_count": 9,
   "metadata": {},
   "outputs": [],
   "source": [
    "im = Image.open('/data/kpusteln/fetal/fetal_extracted/1_1_1.png')"
   ]
  },
  {
   "cell_type": "code",
   "execution_count": 2,
   "metadata": {},
   "outputs": [],
   "source": [
    "from PIL import Image\n",
    "import os\n",
    "import torch\n",
    "import numpy as np\n",
    "import torch.distributed as dist\n",
    "from torchvision import datasets, transforms\n",
    "#from timm.data.constants import IMAGENET_DEFAULT_MEAN, IMAGENET_DEFAULT_STD\n",
    "#from timm.data import Mixup\n",
    "#from timm.data import create_transform"
   ]
  },
  {
   "cell_type": "code",
   "execution_count": 8,
   "metadata": {},
   "outputs": [
    {
     "ename": "ValueError",
     "evalue": "conversion from RGB to GRAYSCALE not supported",
     "output_type": "error",
     "traceback": [
      "\u001b[0;31m---------------------------------------------------------------------------\u001b[0m",
      "\u001b[0;31mValueError\u001b[0m                                Traceback (most recent call last)",
      "\u001b[0;32m/opt/conda/lib/python3.9/site-packages/PIL/Image.py\u001b[0m in \u001b[0;36mconvert\u001b[0;34m(self, mode, matrix, dither, palette, colors)\u001b[0m\n\u001b[1;32m   1045\u001b[0m         \u001b[0;32mtry\u001b[0m\u001b[0;34m:\u001b[0m\u001b[0;34m\u001b[0m\u001b[0;34m\u001b[0m\u001b[0m\n\u001b[0;32m-> 1046\u001b[0;31m             \u001b[0mim\u001b[0m \u001b[0;34m=\u001b[0m \u001b[0mself\u001b[0m\u001b[0;34m.\u001b[0m\u001b[0mim\u001b[0m\u001b[0;34m.\u001b[0m\u001b[0mconvert\u001b[0m\u001b[0;34m(\u001b[0m\u001b[0mmode\u001b[0m\u001b[0;34m,\u001b[0m \u001b[0mdither\u001b[0m\u001b[0;34m)\u001b[0m\u001b[0;34m\u001b[0m\u001b[0;34m\u001b[0m\u001b[0m\n\u001b[0m\u001b[1;32m   1047\u001b[0m         \u001b[0;32mexcept\u001b[0m \u001b[0mValueError\u001b[0m\u001b[0;34m:\u001b[0m\u001b[0;34m\u001b[0m\u001b[0;34m\u001b[0m\u001b[0m\n",
      "\u001b[0;31mValueError\u001b[0m: conversion from RGB to GRAYSCALE not supported",
      "\nDuring handling of the above exception, another exception occurred:\n",
      "\u001b[0;31mValueError\u001b[0m                                Traceback (most recent call last)",
      "\u001b[0;32m/tmp/ipykernel_2308471/2610078698.py\u001b[0m in \u001b[0;36m<module>\u001b[0;34m\u001b[0m\n\u001b[0;32m----> 1\u001b[0;31m \u001b[0mim\u001b[0m \u001b[0;34m=\u001b[0m \u001b[0mim\u001b[0m\u001b[0;34m.\u001b[0m\u001b[0mconvert\u001b[0m\u001b[0;34m(\u001b[0m\u001b[0;34m'GRAYSCALE'\u001b[0m\u001b[0;34m)\u001b[0m\u001b[0;34m\u001b[0m\u001b[0;34m\u001b[0m\u001b[0m\n\u001b[0m",
      "\u001b[0;32m/opt/conda/lib/python3.9/site-packages/PIL/Image.py\u001b[0m in \u001b[0;36mconvert\u001b[0;34m(self, mode, matrix, dither, palette, colors)\u001b[0m\n\u001b[1;32m   1049\u001b[0m                 \u001b[0;31m# normalize source image and try again\u001b[0m\u001b[0;34m\u001b[0m\u001b[0;34m\u001b[0m\u001b[0m\n\u001b[1;32m   1050\u001b[0m                 \u001b[0mim\u001b[0m \u001b[0;34m=\u001b[0m \u001b[0mself\u001b[0m\u001b[0;34m.\u001b[0m\u001b[0mim\u001b[0m\u001b[0;34m.\u001b[0m\u001b[0mconvert\u001b[0m\u001b[0;34m(\u001b[0m\u001b[0mgetmodebase\u001b[0m\u001b[0;34m(\u001b[0m\u001b[0mself\u001b[0m\u001b[0;34m.\u001b[0m\u001b[0mmode\u001b[0m\u001b[0;34m)\u001b[0m\u001b[0;34m)\u001b[0m\u001b[0;34m\u001b[0m\u001b[0;34m\u001b[0m\u001b[0m\n\u001b[0;32m-> 1051\u001b[0;31m                 \u001b[0mim\u001b[0m \u001b[0;34m=\u001b[0m \u001b[0mim\u001b[0m\u001b[0;34m.\u001b[0m\u001b[0mconvert\u001b[0m\u001b[0;34m(\u001b[0m\u001b[0mmode\u001b[0m\u001b[0;34m,\u001b[0m \u001b[0mdither\u001b[0m\u001b[0;34m)\u001b[0m\u001b[0;34m\u001b[0m\u001b[0;34m\u001b[0m\u001b[0m\n\u001b[0m\u001b[1;32m   1052\u001b[0m             \u001b[0;32mexcept\u001b[0m \u001b[0mKeyError\u001b[0m \u001b[0;32mas\u001b[0m \u001b[0me\u001b[0m\u001b[0;34m:\u001b[0m\u001b[0;34m\u001b[0m\u001b[0;34m\u001b[0m\u001b[0m\n\u001b[1;32m   1053\u001b[0m                 \u001b[0;32mraise\u001b[0m \u001b[0mValueError\u001b[0m\u001b[0;34m(\u001b[0m\u001b[0;34m\"illegal conversion\"\u001b[0m\u001b[0;34m)\u001b[0m \u001b[0;32mfrom\u001b[0m \u001b[0me\u001b[0m\u001b[0;34m\u001b[0m\u001b[0;34m\u001b[0m\u001b[0m\n",
      "\u001b[0;31mValueError\u001b[0m: conversion from RGB to GRAYSCALE not supported"
     ]
    }
   ],
   "source": [
    "im = im"
   ]
  },
  {
   "cell_type": "code",
   "execution_count": 8,
   "metadata": {},
   "outputs": [],
   "source": [
    "import os\n",
    "import json\n",
    "import torch.utils.data as data\n",
    "import numpy as np\n",
    "from PIL import Image\n",
    "import pandas as pd\n",
    "from torch.utils.data import Dataset, DataLoader\n",
    "import warnings\n",
    "import torchvision.transforms as transforms\n",
    "from torchvision.utils import save_image\n",
    "\n",
    "warnings.filterwarnings(\"ignore\", \"(Possibly )?corrupt EXIF data\", UserWarning)\n",
    "\n",
    "\n",
    "class Fetal(data.Dataset):\n",
    "    def __init__(self, root, ann_path, transform=None, target_transform=None):\n",
    "\n",
    "        self.data_path = root\n",
    "        self.ann_path = ann_path\n",
    "        self.transform = transform\n",
    "        self.target_transform = target_transform\n",
    "        # id & label: https://github.com/google-research/big_transfer/issues/7\n",
    "        # total: 21843; only 21841 class have images: map 21841->9205; 21842->15027\n",
    "        self.database = pd.read_csv(self.ann_path)\n",
    "\n",
    "    def _load_image(self, path):\n",
    "        try:\n",
    "            im = Image.open(path)\n",
    "        except:\n",
    "            print(\"ERROR IMG LOADED: \", path)\n",
    "            random_img = np.random.rand(224, 224, 3) * 255\n",
    "            im = Image.fromarray(np.uint8(random_img))\n",
    "        return im\n",
    "\n",
    "    def __getitem__(self, index):\n",
    "        \"\"\"\n",
    "        Args:\n",
    "            index (int): Index\n",
    "        Returns:\n",
    "            tuple: (image, target) where target is class_index of the target class.\n",
    "        \"\"\"\n",
    "        idb = self.database.iloc[index]\n",
    "\n",
    "        # images\n",
    "        images = self._load_image(self.data_path  + idb[0] + '.png')\n",
    "        if self.transform is not None:\n",
    "            images = self.transform(images)\n",
    "\n",
    "        # target\n",
    "        indexes = idb[0]\n",
    "        target = idb[1]\n",
    "        #score = idb[2]\n",
    "        score = 1\n",
    "        if self.target_transform is not None:\n",
    "            target = self.target_transform(target)\n",
    "        #save_image(images[0], '/data/kpusteln/examples' + str(index) + '.png')\n",
    "        return images, target, score\n",
    "\n",
    "    def __len__(self):\n",
    "        return len(self.database)\n"
   ]
  },
  {
   "cell_type": "code",
   "execution_count": 12,
   "metadata": {},
   "outputs": [],
   "source": [
    "t = transforms.Compose([transforms.Resize((450, 600)),\n",
    "                transforms.Pad((0, 0, 0, 150), fill = 0, padding_mode = 'constant'),\n",
    "                transforms.Resize((512, 512)),\n",
    "                transforms.ToTensor(),\n",
    "                transforms.Normalize(mean=mean, std=std)])"
   ]
  },
  {
   "cell_type": "code",
   "execution_count": 13,
   "metadata": {},
   "outputs": [],
   "source": [
    "fetal = Fetal(root = '/data/kpusteln/fetal/fetal_extracted/', ann_path = './outputs/labels_corrected.csv', transform=t)"
   ]
  },
  {
   "cell_type": "code",
   "execution_count": 16,
   "metadata": {},
   "outputs": [],
   "source": [
    "batch_size= 1"
   ]
  },
  {
   "cell_type": "code",
   "execution_count": 14,
   "metadata": {},
   "outputs": [],
   "source": [
    "from torchvision.utils import save_image"
   ]
  },
  {
   "cell_type": "code",
   "execution_count": 17,
   "metadata": {},
   "outputs": [],
   "source": [
    "loader = torch.utils.data.DataLoader(\n",
    "      fetal,\n",
    "      batch_size=batch_size,\n",
    "      shuffle=False,\n",
    "      num_workers=40,\n",
    "  )"
   ]
  },
  {
   "cell_type": "code",
   "execution_count": 18,
   "metadata": {},
   "outputs": [],
   "source": [
    "for data in loader:\n",
    "    data = data[0]\n",
    "    save_image(data, 'example1.png')\n",
    "    break"
   ]
  },
  {
   "cell_type": "code",
   "execution_count": 309,
   "metadata": {},
   "outputs": [
    {
     "data": {
      "text/plain": [
       "array(0.1447944, dtype=float32)"
      ]
     },
     "execution_count": 309,
     "metadata": {},
     "output_type": "execute_result"
    }
   ],
   "source": [
    "mean"
   ]
  },
  {
   "cell_type": "code",
   "execution_count": 288,
   "metadata": {},
   "outputs": [],
   "source": [
    "meansq = var + mean**2"
   ]
  },
  {
   "cell_type": "code",
   "execution_count": 289,
   "metadata": {},
   "outputs": [],
   "source": [
    "true_meansq = meansq/(224*224)\n",
    "true_mean = mean/(224*224)"
   ]
  },
  {
   "cell_type": "code",
   "execution_count": 290,
   "metadata": {},
   "outputs": [],
   "source": [
    "true_std = np.sqrt(true_meansq - true_mean**2)"
   ]
  },
  {
   "cell_type": "code",
   "execution_count": 297,
   "metadata": {},
   "outputs": [
    {
     "data": {
      "text/plain": [
       "2369.5637"
      ]
     },
     "execution_count": 297,
     "metadata": {},
     "output_type": "execute_result"
    }
   ],
   "source": [
    "std"
   ]
  },
  {
   "cell_type": "code",
   "execution_count": 6,
   "metadata": {},
   "outputs": [],
   "source": [
    "mean_std = np.load('./mean_std.npy')"
   ]
  },
  {
   "cell_type": "code",
   "execution_count": 11,
   "metadata": {},
   "outputs": [],
   "source": [
    "mean_std\n",
    "mean = mean_std[0]\n",
    "std = mean_std[1]"
   ]
  },
  {
   "cell_type": "code",
   "execution_count": 20,
   "metadata": {},
   "outputs": [
    {
     "data": {
      "text/plain": [
       "0.18222201"
      ]
     },
     "execution_count": 20,
     "metadata": {},
     "output_type": "execute_result"
    }
   ],
   "source": [
    "std"
   ]
  },
  {
   "cell_type": "code",
   "execution_count": 1,
   "metadata": {},
   "outputs": [
    {
     "name": "stdout",
     "output_type": "stream",
     "text": [
      "0\n",
      "1\n",
      "2\n",
      "3\n",
      "4\n",
      "5\n",
      "6\n",
      "7\n",
      "8\n",
      "9\n"
     ]
    }
   ],
   "source": [
    "for i in range(10):\n",
    "    print(i)"
   ]
  },
  {
   "cell_type": "code",
   "execution_count": 2,
   "metadata": {},
   "outputs": [],
   "source": [
    "frame_position = [i+1 for i in range(10)]"
   ]
  },
  {
   "cell_type": "code",
   "execution_count": 3,
   "metadata": {},
   "outputs": [
    {
     "data": {
      "text/plain": [
       "[1, 2, 3, 4, 5, 6, 7, 8, 9, 10]"
      ]
     },
     "execution_count": 3,
     "metadata": {},
     "output_type": "execute_result"
    }
   ],
   "source": [
    "frame_position"
   ]
  },
  {
   "cell_type": "code",
   "execution_count": 3,
   "metadata": {},
   "outputs": [
    {
     "data": {
      "text/plain": [
       "47"
      ]
     },
     "execution_count": 3,
     "metadata": {},
     "output_type": "execute_result"
    }
   ],
   "source": [
    "int(355/8) + 355%8"
   ]
  },
  {
   "cell_type": "code",
   "execution_count": 4,
   "metadata": {},
   "outputs": [],
   "source": [
    "import torch"
   ]
  },
  {
   "cell_type": "code",
   "execution_count": 5,
   "metadata": {},
   "outputs": [],
   "source": [
    "x = torch.randn(64, 3, 224, 224)"
   ]
  },
  {
   "cell_type": "code",
   "execution_count": null,
   "metadata": {},
   "outputs": [],
   "source": [
    "y = torch.randn(1, 8, 2304, 1)"
   ]
  },
  {
   "cell_type": "code",
   "execution_count": null,
   "metadata": {},
   "outputs": [],
   "source": [
    "for i in range(int((64)/8)) :\n",
    "    x[i*8:(i+1)*8] = self.backbone(x[i*8:(i+1)*8])\n",
    "x[(i+1)*8:] = self.backbone(x[(i+1)*8:])"
   ]
  },
  {
   "cell_type": "code",
   "execution_count": 286,
   "metadata": {},
   "outputs": [],
   "source": [
    "import pandas as pd"
   ]
  },
  {
   "cell_type": "code",
   "execution_count": 294,
   "metadata": {},
   "outputs": [],
   "source": [
    "data = pd.read_csv('./outputs/labels_corrected.csv')"
   ]
  },
  {
   "cell_type": "code",
   "execution_count": 290,
   "metadata": {},
   "outputs": [
    {
     "name": "stdout",
     "output_type": "stream",
     "text": [
      "420_3_1\n",
      "420_3\n",
      "420_3_2\n",
      "420_3\n",
      "420_3_3\n",
      "420_3\n",
      "420_3_4\n",
      "420_3\n",
      "420_3_5\n",
      "420_3\n",
      "420_3_6\n",
      "420_3\n",
      "420_3_7\n",
      "420_3\n",
      "420_3_8\n",
      "420_3\n",
      "420_3_9\n",
      "420_3\n",
      "420_3_10\n",
      "420_3\n",
      "420_3_11\n",
      "420_3\n",
      "420_3_12\n",
      "420_3\n",
      "420_3_13\n",
      "420_3\n",
      "420_3_14\n",
      "420_3\n",
      "420_3_15\n",
      "420_3\n",
      "420_3_16\n",
      "420_3\n",
      "420_3_17\n",
      "420_3\n",
      "420_3_18\n",
      "420_3\n",
      "420_3_19\n",
      "420_3\n",
      "420_3_20\n",
      "420_3\n",
      "420_3_21\n",
      "420_3\n",
      "420_3_22\n",
      "420_3\n",
      "420_3_23\n",
      "420_3\n",
      "420_3_24\n",
      "420_3\n",
      "420_3_25\n",
      "420_3\n",
      "420_3_26\n",
      "420_3\n",
      "420_3_27\n",
      "420_3\n",
      "420_3_28\n",
      "420_3\n",
      "420_3_29\n",
      "420_3\n",
      "420_3_30\n",
      "420_3\n",
      "420_3_31\n",
      "420_3\n",
      "420_3_32\n",
      "420_3\n",
      "420_3_33\n",
      "420_3\n",
      "420_3_34\n",
      "420_3\n",
      "420_3_35\n",
      "420_3\n",
      "420_3_36\n",
      "420_3\n",
      "420_3_37\n",
      "420_3\n",
      "420_3_38\n",
      "420_3\n",
      "420_3_39\n",
      "420_3\n",
      "420_3_40\n",
      "420_3\n",
      "420_3_41\n",
      "420_3\n",
      "420_3_42\n",
      "420_3\n",
      "420_3_43\n",
      "420_3\n",
      "420_3_44\n",
      "420_3\n",
      "420_3_45\n",
      "420_3\n",
      "420_3_46\n",
      "420_3\n",
      "420_3_47\n",
      "420_3\n",
      "420_3_48\n",
      "420_3\n",
      "420_3_49\n",
      "420_3\n",
      "420_3_50\n",
      "420_3\n",
      "420_3_51\n",
      "420_3\n",
      "420_3_52\n",
      "420_3\n",
      "420_3_53\n",
      "420_3\n",
      "420_3_54\n",
      "420_3\n",
      "420_3_55\n",
      "420_3\n",
      "420_3_56\n",
      "420_3\n",
      "420_3_57\n",
      "420_3\n",
      "420_3_58\n",
      "420_3\n",
      "420_3_59\n",
      "420_3\n",
      "420_3_60\n",
      "420_3\n",
      "420_3_61\n",
      "420_3\n",
      "420_3_62\n",
      "420_3\n",
      "420_3_63\n",
      "420_3\n",
      "420_3_64\n",
      "420_3\n",
      "420_3_65\n",
      "420_3\n",
      "420_3_66\n",
      "420_3\n",
      "420_3_67\n",
      "420_3\n",
      "420_3_68\n",
      "420_3\n",
      "420_3_69\n",
      "420_3\n",
      "420_3_70\n",
      "420_3\n",
      "420_3_71\n",
      "420_3\n",
      "420_3_72\n",
      "420_3\n",
      "420_3_73\n",
      "420_3\n",
      "420_3_74\n",
      "420_3\n",
      "420_3_75\n",
      "420_3\n",
      "420_3_76\n",
      "420_3\n",
      "420_3_77\n",
      "420_3\n",
      "420_3_78\n",
      "420_3\n",
      "420_3_79\n",
      "420_3\n",
      "420_3_80\n",
      "420_3\n",
      "420_3_81\n",
      "420_3\n",
      "420_3_82\n",
      "420_3\n",
      "420_3_83\n",
      "420_3\n",
      "420_3_84\n",
      "420_3\n",
      "420_3_85\n",
      "420_3\n",
      "420_3_86\n",
      "420_3\n",
      "420_3_87\n",
      "420_3\n",
      "420_3_88\n",
      "420_3\n",
      "420_3_89\n",
      "420_3\n",
      "420_3_90\n",
      "420_3\n",
      "420_3_91\n",
      "420_3\n",
      "420_3_92\n",
      "420_3\n",
      "420_3_93\n",
      "420_3\n",
      "420_3_94\n",
      "420_3\n",
      "420_3_95\n",
      "420_3\n",
      "420_3_96\n",
      "420_3\n",
      "420_3_97\n",
      "420_3\n",
      "420_3_98\n",
      "420_3\n",
      "420_3_99\n",
      "420_3\n",
      "420_3_100\n",
      "420_3\n",
      "420_3_101\n",
      "420_3\n",
      "420_3_102\n",
      "420_3\n",
      "420_3_103\n",
      "420_3\n",
      "420_3_104\n",
      "420_3\n",
      "420_3_105\n",
      "420_3\n",
      "420_3_106\n",
      "420_3\n",
      "420_3_107\n",
      "420_3\n",
      "420_3_108\n",
      "420_3\n",
      "420_3_109\n",
      "420_3\n",
      "420_3_110\n",
      "420_3\n",
      "420_3_111\n",
      "420_3\n",
      "420_3_112\n",
      "420_3\n",
      "420_3_113\n",
      "420_3\n",
      "420_3_114\n",
      "420_3\n",
      "420_3_115\n",
      "420_3\n",
      "420_3_116\n",
      "420_3\n",
      "420_3_117\n",
      "420_3\n",
      "420_3_118\n",
      "420_3\n",
      "420_3_119\n",
      "420_3\n",
      "420_3_120\n",
      "420_3\n",
      "420_3_121\n",
      "420_3\n",
      "420_3_122\n",
      "420_3\n",
      "420_3_123\n",
      "420_3\n",
      "420_3_124\n",
      "420_3\n",
      "420_3_125\n",
      "420_3\n",
      "420_3_126\n",
      "420_3\n",
      "420_3_127\n",
      "420_3\n",
      "420_3_128\n",
      "420_3\n",
      "420_3_129\n",
      "420_3\n",
      "420_3_130\n",
      "420_3\n",
      "420_3_131\n",
      "420_3\n",
      "420_3_132\n",
      "420_3\n",
      "420_3_133\n",
      "420_3\n",
      "420_3_134\n",
      "420_3\n",
      "420_3_135\n",
      "420_3\n",
      "420_3_136\n",
      "420_3\n",
      "420_3_137\n",
      "420_3\n",
      "420_3_138\n",
      "420_3\n",
      "420_3_139\n",
      "420_3\n",
      "420_3_140\n",
      "420_3\n",
      "420_3_141\n",
      "420_3\n",
      "420_3_142\n",
      "420_3\n",
      "420_3_143\n",
      "420_3\n",
      "420_3_144\n",
      "420_3\n",
      "420_3_145\n",
      "420_3\n",
      "420_3_146\n",
      "420_3\n",
      "420_3_147\n",
      "420_3\n",
      "420_3_148\n",
      "420_3\n",
      "420_3_149\n",
      "420_3\n",
      "420_3_150\n",
      "420_3\n",
      "420_3_151\n",
      "420_3\n",
      "420_3_152\n",
      "420_3\n",
      "420_3_153\n",
      "420_3\n",
      "420_3_154\n",
      "420_3\n",
      "420_3_155\n",
      "420_3\n",
      "420_3_156\n",
      "420_3\n",
      "420_3_157\n",
      "420_3\n",
      "420_3_158\n",
      "420_3\n",
      "420_3_159\n",
      "420_3\n",
      "420_3_160\n",
      "420_3\n",
      "420_3_161\n",
      "420_3\n",
      "420_3_162\n",
      "420_3\n",
      "420_3_163\n",
      "420_3\n",
      "420_3_164\n",
      "420_3\n",
      "420_3_165\n",
      "420_3\n",
      "420_3_166\n",
      "420_3\n",
      "420_3_167\n",
      "420_3\n",
      "420_3_168\n",
      "420_3\n",
      "420_3_169\n",
      "420_3\n",
      "420_3_170\n",
      "420_3\n",
      "420_3_171\n",
      "420_3\n",
      "420_3_172\n",
      "420_3\n",
      "420_3_173\n",
      "420_3\n",
      "420_3_174\n",
      "420_3\n",
      "420_3_175\n",
      "420_3\n",
      "420_3_176\n",
      "420_3\n",
      "420_3_177\n",
      "420_3\n",
      "420_3_178\n",
      "420_3\n",
      "420_3_179\n",
      "420_3\n",
      "420_3_180\n",
      "420_3\n",
      "420_3_181\n",
      "420_3\n",
      "420_3_182\n",
      "420_3\n",
      "420_3_183\n",
      "420_3\n",
      "420_3_184\n",
      "420_3\n",
      "420_3_185\n",
      "420_3\n",
      "420_3_186\n",
      "420_3\n",
      "420_3_187\n",
      "420_3\n",
      "420_3_188\n",
      "420_3\n",
      "420_3_189\n",
      "420_3\n",
      "420_3_190\n",
      "420_3\n",
      "420_3_191\n",
      "420_3\n",
      "420_3_192\n",
      "420_3\n",
      "420_3_193\n",
      "420_3\n",
      "420_3_194\n",
      "420_3\n",
      "420_3_195\n",
      "420_3\n",
      "420_3_196\n",
      "420_3\n",
      "420_3_197\n",
      "420_3\n",
      "420_3_198\n",
      "420_3\n",
      "420_3_199\n",
      "420_3\n",
      "420_3_200\n",
      "420_3\n",
      "420_3_201\n",
      "420_3\n",
      "420_3_202\n",
      "420_3\n",
      "420_3_203\n",
      "420_3\n",
      "420_3_204\n",
      "420_3\n",
      "420_3_205\n",
      "420_3\n",
      "420_3_206\n",
      "420_3\n",
      "420_3_207\n",
      "420_3\n",
      "420_3_208\n",
      "420_3\n",
      "420_3_209\n",
      "420_3\n",
      "420_3_210\n",
      "420_3\n",
      "420_3_211\n",
      "420_3\n",
      "420_3_212\n",
      "420_3\n",
      "420_3_213\n",
      "420_3\n",
      "420_3_214\n",
      "420_3\n",
      "420_3_215\n",
      "420_3\n",
      "420_3_216\n",
      "420_3\n",
      "420_3_217\n",
      "420_3\n",
      "420_3_218\n",
      "420_3\n",
      "420_3_219\n",
      "420_3\n",
      "420_3_220\n",
      "420_3\n",
      "420_3_221\n",
      "420_3\n",
      "420_3_222\n",
      "420_3\n",
      "420_3_223\n",
      "420_3\n",
      "420_3_224\n",
      "420_3\n",
      "420_3_225\n",
      "420_3\n",
      "420_3_226\n",
      "420_3\n",
      "420_3_227\n",
      "420_3\n",
      "420_3_228\n",
      "420_3\n",
      "420_3_229\n",
      "420_3\n",
      "420_3_230\n",
      "420_3\n",
      "420_3_231\n",
      "420_3\n",
      "420_3_232\n",
      "420_3\n",
      "420_3_233\n",
      "420_3\n",
      "420_3_234\n",
      "420_3\n",
      "420_3_235\n",
      "420_3\n",
      "420_3_236\n",
      "420_3\n",
      "420_3_237\n",
      "420_3\n",
      "420_3_238\n",
      "420_3\n"
     ]
    }
   ],
   "source": [
    "indexes = []\n",
    "videos = []\n",
    "for i in range(len(data)):\n",
    "    row = data.iloc[i]\n",
    "    idx = row[0]\n",
    "    label = row[1]\n",
    "    video = row[2]\n",
    "    if video == '420_2':\n",
    "        if label == 5 or label == 6:\n",
    "            video = video.split('_')\n",
    "            video[1] = '3'\n",
    "            video = '_'.join(video)\n",
    "            idx = idx.split('_')\n",
    "            idx[1] = '3'\n",
    "            idx = '_'.join(idx)\n",
    "            print(idx)\n",
    "            print(video)\n",
    "    videos.append(video)\n",
    "    indexes.append(idx)\n",
    "            \n",
    "            \n",
    "        \n",
    "        \n",
    "    "
   ]
  },
  {
   "cell_type": "code",
   "execution_count": 292,
   "metadata": {},
   "outputs": [],
   "source": [
    "data['index'] = indexes\n",
    "data['video'] = videos"
   ]
  },
  {
   "cell_type": "code",
   "execution_count": 295,
   "metadata": {},
   "outputs": [
    {
     "data": {
      "text/plain": [
       "261527"
      ]
     },
     "execution_count": 295,
     "metadata": {},
     "output_type": "execute_result"
    }
   ],
   "source": [
    "len(data['index'].unique())"
   ]
  },
  {
   "cell_type": "code",
   "execution_count": null,
   "metadata": {},
   "outputs": [],
   "source": [
    "data.to_csv('./outputs/labels_corrected.csv', index = False)"
   ]
  }
 ],
 "metadata": {
  "kernelspec": {
   "display_name": "Python 3.9.7 ('base')",
   "language": "python",
   "name": "python3"
  },
  "language_info": {
   "codemirror_mode": {
    "name": "ipython",
    "version": 3
   },
   "file_extension": ".py",
   "mimetype": "text/x-python",
   "name": "python",
   "nbconvert_exporter": "python",
   "pygments_lexer": "ipython3",
   "version": "3.9.7 (default, Sep 16 2021, 13:09:58) \n[GCC 7.5.0]"
  },
  "orig_nbformat": 4,
  "vscode": {
   "interpreter": {
    "hash": "d4d1e4263499bec80672ea0156c357c1ee493ec2b1c70f0acce89fc37c4a6abe"
   }
  }
 },
 "nbformat": 4,
 "nbformat_minor": 2
}
