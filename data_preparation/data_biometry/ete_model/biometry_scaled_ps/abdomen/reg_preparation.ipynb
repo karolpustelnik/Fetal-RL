{
 "cells": [
  {
   "cell_type": "code",
   "execution_count": 8,
   "metadata": {},
   "outputs": [],
   "source": [
    "import pandas as pd\n",
    "import numpy as np\n",
    "import torch\n",
    "from collections import Counter\n",
    "import random\n",
    "import scipy.stats\n",
    "from sklearn.preprocessing import MinMaxScaler\n",
    "import joblib"
   ]
  },
  {
   "cell_type": "code",
   "execution_count": 9,
   "metadata": {},
   "outputs": [
    {
     "data": {
      "text/plain": [
       "'labels:\\n0 - other\\n1 - head non-standard plane\\n2 - head standard plane\\n3 - femur non-standard plane\\n4 - femur standard plane\\n5 - femur non standard plane\\n6 - femur standard plane'"
      ]
     },
     "execution_count": 9,
     "metadata": {},
     "output_type": "execute_result"
    }
   ],
   "source": [
    "\"\"\"labels:\n",
    "0 - other\n",
    "1 - head non-standard plane\n",
    "2 - head standard plane\n",
    "3 - femur non-standard plane\n",
    "4 - femur standard plane\n",
    "5 - femur non standard plane\n",
    "6 - femur standard plane\"\"\""
   ]
  },
  {
   "cell_type": "code",
   "execution_count": 10,
   "metadata": {},
   "outputs": [],
   "source": [
    "train = pd.read_csv('/data/kpusteln/Fetal-RL/data_preparation/data_biometry/ete_model/biometry_scaled_ps/biometry_train_scaled_size.csv')\n",
    "val = pd.read_csv('/data/kpusteln/Fetal-RL/data_preparation/data_biometry/ete_model/biometry_scaled_ps/biometry_val_scaled_size.csv')\n",
    "test = pd.read_csv('/data/kpusteln/Fetal-RL/data_preparation/data_biometry/ete_model/biometry_scaled_ps/biometry_test_scaled_size.csv')"
   ]
  },
  {
   "cell_type": "code",
   "execution_count": 11,
   "metadata": {},
   "outputs": [],
   "source": [
    "train_org = pd.read_csv('/data/kpusteln/Fetal-RL/data_preparation/data_biometry/ete_model/biometry_train.csv')\n",
    "test_org = pd.read_csv('/data/kpusteln/Fetal-RL/data_preparation/data_biometry/ete_model/biometry_test.csv')\n",
    "\n",
    "val_org = pd.read_csv('/data/kpusteln/Fetal-RL/data_preparation/data_biometry/ete_model/biometry_val.csv')"
   ]
  },
  {
   "cell_type": "code",
   "execution_count": 12,
   "metadata": {},
   "outputs": [],
   "source": [
    "train['days'] = train_org['days']\n",
    "test['days'] = test_org['days']\n",
    "val['days'] = val_org['days']"
   ]
  },
  {
   "cell_type": "code",
   "execution_count": 13,
   "metadata": {},
   "outputs": [],
   "source": [
    "train = pd.concat([train, test])"
   ]
  },
  {
   "cell_type": "code",
   "execution_count": 14,
   "metadata": {},
   "outputs": [],
   "source": [
    "train_head = train[train['Class'] == 2]\n",
    "train_abdomen = train[train['Class'] == 4]\n",
    "train_femur = train[train['Class'] == 6]\n",
    "\n",
    "val_head = val[val['Class'] == 2]\n",
    "val_abdomen = val[val['Class'] == 4]\n",
    "val_femur = val[val['Class'] == 6]\n",
    "\n",
    "#test_head = test[test['Class'] == 2]\n",
    "#test_abdomen = test[test['Class'] == 4]\n",
    "#test_femur = test[test['Class'] == 6]"
   ]
  },
  {
   "cell_type": "code",
   "execution_count": 19,
   "metadata": {},
   "outputs": [],
   "source": [
    "classes = train_abdomen['video'].str.split('_', expand=True)[1]"
   ]
  },
  {
   "cell_type": "code",
   "execution_count": 20,
   "metadata": {},
   "outputs": [
    {
     "data": {
      "text/plain": [
       "2    3625\n",
       "3      26\n",
       "Name: 1, dtype: int64"
      ]
     },
     "execution_count": 20,
     "metadata": {},
     "output_type": "execute_result"
    }
   ],
   "source": [
    "classes.value_counts()"
   ]
  },
  {
   "cell_type": "code",
   "execution_count": 21,
   "metadata": {},
   "outputs": [],
   "source": [
    "train_abdomen_filtered = train_abdomen[classes == '2']\n",
    "#test_abdomen_filtered = test_abdomen[test_abdomen['video'].str.split('_', expand=True)[1] == '2']\n",
    "val_abdomen_filtered = val_abdomen[val_abdomen['video'].str.split('_', expand=True)[1] == '2']"
   ]
  },
  {
   "cell_type": "code",
   "execution_count": 22,
   "metadata": {},
   "outputs": [],
   "source": [
    "train_head_filtered = train_head[train_head['video'].str.split('_', expand=True)[1] == '1']\n",
    "#test_head_filtered = test_head[test_head['video'].str.split('_', expand=True)[1] == '1']\n",
    "val_head_filtered = val_head[val_head['video'].str.split('_', expand=True)[1] == '1']"
   ]
  },
  {
   "cell_type": "code",
   "execution_count": 23,
   "metadata": {},
   "outputs": [],
   "source": [
    "train_femur_filtered = train_femur[train_femur['video'].str.split('_', expand=True)[1] == '3']\n",
    "#test_femur_filtered = test_femur[test_femur['video'].str.split('_', expand=True)[1] == '3']\n",
    "val_femur_filtered = val_femur[val_femur['video'].str.split('_', expand=True)[1] == '3']"
   ]
  },
  {
   "cell_type": "code",
   "execution_count": 24,
   "metadata": {},
   "outputs": [
    {
     "data": {
      "text/html": [
       "<div>\n",
       "<style scoped>\n",
       "    .dataframe tbody tr th:only-of-type {\n",
       "        vertical-align: middle;\n",
       "    }\n",
       "\n",
       "    .dataframe tbody tr th {\n",
       "        vertical-align: top;\n",
       "    }\n",
       "\n",
       "    .dataframe thead th {\n",
       "        text-align: right;\n",
       "    }\n",
       "</style>\n",
       "<table border=\"1\" class=\"dataframe\">\n",
       "  <thead>\n",
       "    <tr style=\"text-align: right;\">\n",
       "      <th></th>\n",
       "      <th>index</th>\n",
       "      <th>Class</th>\n",
       "      <th>video</th>\n",
       "      <th>measures</th>\n",
       "      <th>ps</th>\n",
       "      <th>frames_n</th>\n",
       "      <th>measure_scaled</th>\n",
       "      <th>days</th>\n",
       "      <th>frame_loc</th>\n",
       "      <th>height</th>\n",
       "      <th>width</th>\n",
       "      <th>height_org</th>\n",
       "      <th>width_org</th>\n",
       "      <th>measure_normalized</th>\n",
       "    </tr>\n",
       "  </thead>\n",
       "  <tbody>\n",
       "    <tr>\n",
       "      <th>226</th>\n",
       "      <td>6_2_35</td>\n",
       "      <td>4</td>\n",
       "      <td>6_2</td>\n",
       "      <td>16.47</td>\n",
       "      <td>0.120130</td>\n",
       "      <td>51</td>\n",
       "      <td>0.598042</td>\n",
       "      <td>147</td>\n",
       "      <td>0.686275</td>\n",
       "      <td>86.49360</td>\n",
       "      <td>115.32480</td>\n",
       "      <td>720</td>\n",
       "      <td>960</td>\n",
       "      <td>0.457089</td>\n",
       "    </tr>\n",
       "    <tr>\n",
       "      <th>227</th>\n",
       "      <td>6_2_36</td>\n",
       "      <td>4</td>\n",
       "      <td>6_2</td>\n",
       "      <td>16.47</td>\n",
       "      <td>0.120130</td>\n",
       "      <td>51</td>\n",
       "      <td>0.598042</td>\n",
       "      <td>147</td>\n",
       "      <td>0.705882</td>\n",
       "      <td>86.49360</td>\n",
       "      <td>115.32480</td>\n",
       "      <td>720</td>\n",
       "      <td>960</td>\n",
       "      <td>0.457089</td>\n",
       "    </tr>\n",
       "    <tr>\n",
       "      <th>228</th>\n",
       "      <td>6_2_37</td>\n",
       "      <td>4</td>\n",
       "      <td>6_2</td>\n",
       "      <td>16.47</td>\n",
       "      <td>0.120130</td>\n",
       "      <td>51</td>\n",
       "      <td>0.598042</td>\n",
       "      <td>147</td>\n",
       "      <td>0.725490</td>\n",
       "      <td>86.49360</td>\n",
       "      <td>115.32480</td>\n",
       "      <td>720</td>\n",
       "      <td>960</td>\n",
       "      <td>0.457089</td>\n",
       "    </tr>\n",
       "    <tr>\n",
       "      <th>229</th>\n",
       "      <td>6_2_38</td>\n",
       "      <td>4</td>\n",
       "      <td>6_2</td>\n",
       "      <td>16.47</td>\n",
       "      <td>0.120130</td>\n",
       "      <td>51</td>\n",
       "      <td>0.598042</td>\n",
       "      <td>147</td>\n",
       "      <td>0.745098</td>\n",
       "      <td>86.49360</td>\n",
       "      <td>115.32480</td>\n",
       "      <td>720</td>\n",
       "      <td>960</td>\n",
       "      <td>0.457089</td>\n",
       "    </tr>\n",
       "    <tr>\n",
       "      <th>230</th>\n",
       "      <td>6_2_39</td>\n",
       "      <td>4</td>\n",
       "      <td>6_2</td>\n",
       "      <td>16.47</td>\n",
       "      <td>0.120130</td>\n",
       "      <td>51</td>\n",
       "      <td>0.598042</td>\n",
       "      <td>147</td>\n",
       "      <td>0.764706</td>\n",
       "      <td>86.49360</td>\n",
       "      <td>115.32480</td>\n",
       "      <td>720</td>\n",
       "      <td>960</td>\n",
       "      <td>0.457089</td>\n",
       "    </tr>\n",
       "    <tr>\n",
       "      <th>...</th>\n",
       "      <td>...</td>\n",
       "      <td>...</td>\n",
       "      <td>...</td>\n",
       "      <td>...</td>\n",
       "      <td>...</td>\n",
       "      <td>...</td>\n",
       "      <td>...</td>\n",
       "      <td>...</td>\n",
       "      <td>...</td>\n",
       "      <td>...</td>\n",
       "      <td>...</td>\n",
       "      <td>...</td>\n",
       "      <td>...</td>\n",
       "      <td>...</td>\n",
       "    </tr>\n",
       "    <tr>\n",
       "      <th>19374</th>\n",
       "      <td>669_2_46</td>\n",
       "      <td>4</td>\n",
       "      <td>669_2</td>\n",
       "      <td>22.90</td>\n",
       "      <td>0.170650</td>\n",
       "      <td>47</td>\n",
       "      <td>0.584303</td>\n",
       "      <td>171</td>\n",
       "      <td>0.978723</td>\n",
       "      <td>122.86800</td>\n",
       "      <td>163.82400</td>\n",
       "      <td>720</td>\n",
       "      <td>960</td>\n",
       "      <td>0.659227</td>\n",
       "    </tr>\n",
       "    <tr>\n",
       "      <th>19375</th>\n",
       "      <td>669_2_47</td>\n",
       "      <td>4</td>\n",
       "      <td>669_2</td>\n",
       "      <td>22.90</td>\n",
       "      <td>0.170650</td>\n",
       "      <td>47</td>\n",
       "      <td>0.584303</td>\n",
       "      <td>171</td>\n",
       "      <td>1.000000</td>\n",
       "      <td>122.86800</td>\n",
       "      <td>163.82400</td>\n",
       "      <td>720</td>\n",
       "      <td>960</td>\n",
       "      <td>0.659227</td>\n",
       "    </tr>\n",
       "    <tr>\n",
       "      <th>19555</th>\n",
       "      <td>675_2_56</td>\n",
       "      <td>4</td>\n",
       "      <td>675_2</td>\n",
       "      <td>31.87</td>\n",
       "      <td>0.199092</td>\n",
       "      <td>61</td>\n",
       "      <td>0.706560</td>\n",
       "      <td>257</td>\n",
       "      <td>0.918033</td>\n",
       "      <td>143.34624</td>\n",
       "      <td>191.12832</td>\n",
       "      <td>720</td>\n",
       "      <td>960</td>\n",
       "      <td>0.941213</td>\n",
       "    </tr>\n",
       "    <tr>\n",
       "      <th>19556</th>\n",
       "      <td>675_2_57</td>\n",
       "      <td>4</td>\n",
       "      <td>675_2</td>\n",
       "      <td>31.87</td>\n",
       "      <td>0.199092</td>\n",
       "      <td>61</td>\n",
       "      <td>0.706560</td>\n",
       "      <td>257</td>\n",
       "      <td>0.934426</td>\n",
       "      <td>143.34624</td>\n",
       "      <td>191.12832</td>\n",
       "      <td>720</td>\n",
       "      <td>960</td>\n",
       "      <td>0.941213</td>\n",
       "    </tr>\n",
       "    <tr>\n",
       "      <th>19557</th>\n",
       "      <td>675_2_58</td>\n",
       "      <td>4</td>\n",
       "      <td>675_2</td>\n",
       "      <td>31.87</td>\n",
       "      <td>0.199092</td>\n",
       "      <td>61</td>\n",
       "      <td>0.706560</td>\n",
       "      <td>257</td>\n",
       "      <td>0.950820</td>\n",
       "      <td>143.34624</td>\n",
       "      <td>191.12832</td>\n",
       "      <td>720</td>\n",
       "      <td>960</td>\n",
       "      <td>0.941213</td>\n",
       "    </tr>\n",
       "  </tbody>\n",
       "</table>\n",
       "<p>3625 rows × 14 columns</p>\n",
       "</div>"
      ],
      "text/plain": [
       "          index  Class  video  measures        ps  frames_n  measure_scaled  \\\n",
       "226      6_2_35      4    6_2     16.47  0.120130        51        0.598042   \n",
       "227      6_2_36      4    6_2     16.47  0.120130        51        0.598042   \n",
       "228      6_2_37      4    6_2     16.47  0.120130        51        0.598042   \n",
       "229      6_2_38      4    6_2     16.47  0.120130        51        0.598042   \n",
       "230      6_2_39      4    6_2     16.47  0.120130        51        0.598042   \n",
       "...         ...    ...    ...       ...       ...       ...             ...   \n",
       "19374  669_2_46      4  669_2     22.90  0.170650        47        0.584303   \n",
       "19375  669_2_47      4  669_2     22.90  0.170650        47        0.584303   \n",
       "19555  675_2_56      4  675_2     31.87  0.199092        61        0.706560   \n",
       "19556  675_2_57      4  675_2     31.87  0.199092        61        0.706560   \n",
       "19557  675_2_58      4  675_2     31.87  0.199092        61        0.706560   \n",
       "\n",
       "       days  frame_loc     height      width  height_org  width_org  \\\n",
       "226     147   0.686275   86.49360  115.32480         720        960   \n",
       "227     147   0.705882   86.49360  115.32480         720        960   \n",
       "228     147   0.725490   86.49360  115.32480         720        960   \n",
       "229     147   0.745098   86.49360  115.32480         720        960   \n",
       "230     147   0.764706   86.49360  115.32480         720        960   \n",
       "...     ...        ...        ...        ...         ...        ...   \n",
       "19374   171   0.978723  122.86800  163.82400         720        960   \n",
       "19375   171   1.000000  122.86800  163.82400         720        960   \n",
       "19555   257   0.918033  143.34624  191.12832         720        960   \n",
       "19556   257   0.934426  143.34624  191.12832         720        960   \n",
       "19557   257   0.950820  143.34624  191.12832         720        960   \n",
       "\n",
       "       measure_normalized  \n",
       "226              0.457089  \n",
       "227              0.457089  \n",
       "228              0.457089  \n",
       "229              0.457089  \n",
       "230              0.457089  \n",
       "...                   ...  \n",
       "19374            0.659227  \n",
       "19375            0.659227  \n",
       "19555            0.941213  \n",
       "19556            0.941213  \n",
       "19557            0.941213  \n",
       "\n",
       "[3625 rows x 14 columns]"
      ]
     },
     "execution_count": 24,
     "metadata": {},
     "output_type": "execute_result"
    }
   ],
   "source": [
    "train_abdomen_filtered"
   ]
  },
  {
   "cell_type": "code",
   "execution_count": 25,
   "metadata": {},
   "outputs": [
    {
     "name": "stderr",
     "output_type": "stream",
     "text": [
      "/data/kpusteln/my-envs/swin/lib/python3.7/site-packages/ipykernel_launcher.py:1: SettingWithCopyWarning: \n",
      "A value is trying to be set on a copy of a slice from a DataFrame.\n",
      "Try using .loc[row_indexer,col_indexer] = value instead\n",
      "\n",
      "See the caveats in the documentation: https://pandas.pydata.org/pandas-docs/stable/user_guide/indexing.html#returning-a-view-versus-a-copy\n",
      "  \"\"\"Entry point for launching an IPython kernel.\n",
      "/data/kpusteln/my-envs/swin/lib/python3.7/site-packages/ipykernel_launcher.py:3: SettingWithCopyWarning: \n",
      "A value is trying to be set on a copy of a slice from a DataFrame.\n",
      "Try using .loc[row_indexer,col_indexer] = value instead\n",
      "\n",
      "See the caveats in the documentation: https://pandas.pydata.org/pandas-docs/stable/user_guide/indexing.html#returning-a-view-versus-a-copy\n",
      "  This is separate from the ipykernel package so we can avoid doing imports until\n"
     ]
    }
   ],
   "source": [
    "train_abdomen_filtered['measure_scaled'] = train_abdomen_filtered['measures']/train_abdomen_filtered['ps']\n",
    "#test_abdomen_filtered['measure_scaled'] = test_abdomen_filtered['measures']/test_abdomen_filtered['ps']\n",
    "val_abdomen_filtered['measure_scaled'] = val_abdomen_filtered['measures']/val_abdomen_filtered['ps']"
   ]
  },
  {
   "cell_type": "code",
   "execution_count": 26,
   "metadata": {},
   "outputs": [
    {
     "data": {
      "text/plain": [
       "MinMaxScaler()"
      ]
     },
     "execution_count": 26,
     "metadata": {},
     "output_type": "execute_result"
    }
   ],
   "source": [
    "scaler = MinMaxScaler()\n",
    "measure_scaled = train_abdomen_filtered['measure_scaled']\n",
    "scaler.fit(measure_scaled.values.reshape(-1,1))"
   ]
  },
  {
   "cell_type": "code",
   "execution_count": 27,
   "metadata": {},
   "outputs": [
    {
     "name": "stderr",
     "output_type": "stream",
     "text": [
      "/data/kpusteln/my-envs/swin/lib/python3.7/site-packages/ipykernel_launcher.py:1: SettingWithCopyWarning: \n",
      "A value is trying to be set on a copy of a slice from a DataFrame.\n",
      "Try using .loc[row_indexer,col_indexer] = value instead\n",
      "\n",
      "See the caveats in the documentation: https://pandas.pydata.org/pandas-docs/stable/user_guide/indexing.html#returning-a-view-versus-a-copy\n",
      "  \"\"\"Entry point for launching an IPython kernel.\n",
      "/data/kpusteln/my-envs/swin/lib/python3.7/site-packages/ipykernel_launcher.py:3: SettingWithCopyWarning: \n",
      "A value is trying to be set on a copy of a slice from a DataFrame.\n",
      "Try using .loc[row_indexer,col_indexer] = value instead\n",
      "\n",
      "See the caveats in the documentation: https://pandas.pydata.org/pandas-docs/stable/user_guide/indexing.html#returning-a-view-versus-a-copy\n",
      "  This is separate from the ipykernel package so we can avoid doing imports until\n"
     ]
    }
   ],
   "source": [
    "train_abdomen_filtered['measure_scaled'] = scaler.transform(train_abdomen_filtered['measure_scaled'].values.reshape(-1,1))\n",
    "#test_abdomen_filtered['measure_scaled'] = scaler.transform(test_abdomen_filtered['measure_scaled'].values.reshape(-1,1))\n",
    "val_abdomen_filtered['measure_scaled'] = scaler.transform(val_abdomen_filtered['measure_scaled'].values.reshape(-1,1))"
   ]
  },
  {
   "cell_type": "code",
   "execution_count": 28,
   "metadata": {},
   "outputs": [
    {
     "data": {
      "text/plain": [
       "array([[137.1014734 ],\n",
       "       [137.1014734 ],\n",
       "       [137.1014734 ],\n",
       "       ...,\n",
       "       [160.07674844],\n",
       "       [160.07674844],\n",
       "       [160.07674844]])"
      ]
     },
     "execution_count": 28,
     "metadata": {},
     "output_type": "execute_result"
    }
   ],
   "source": [
    "scaler.inverse_transform(train_abdomen_filtered['measure_scaled'].values.reshape(-1,1))"
   ]
  },
  {
   "cell_type": "code",
   "execution_count": 29,
   "metadata": {},
   "outputs": [
    {
     "data": {
      "text/plain": [
       "['abdomen_scaler']"
      ]
     },
     "execution_count": 29,
     "metadata": {},
     "output_type": "execute_result"
    }
   ],
   "source": [
    "joblib.dump(scaler, 'abdomen_scaler')"
   ]
  },
  {
   "cell_type": "code",
   "execution_count": 30,
   "metadata": {},
   "outputs": [
    {
     "name": "stderr",
     "output_type": "stream",
     "text": [
      "/data/kpusteln/my-envs/swin/lib/python3.7/site-packages/ipykernel_launcher.py:1: SettingWithCopyWarning: \n",
      "A value is trying to be set on a copy of a slice from a DataFrame.\n",
      "Try using .loc[row_indexer,col_indexer] = value instead\n",
      "\n",
      "See the caveats in the documentation: https://pandas.pydata.org/pandas-docs/stable/user_guide/indexing.html#returning-a-view-versus-a-copy\n",
      "  \"\"\"Entry point for launching an IPython kernel.\n"
     ]
    }
   ],
   "source": [
    "train_femur_filtered['measure_scaled'] = train_femur_filtered['measures']/train_femur_filtered['ps']\n",
    "#test_femur_filtered['measure_scaled'] = test_femur_filtered['measures']/test_femur_filtered['ps']\n",
    "val_femur_filtered['measure_scaled'] = val_femur_filtered['measures']/val_femur_filtered['ps']"
   ]
  },
  {
   "cell_type": "code",
   "execution_count": 31,
   "metadata": {},
   "outputs": [
    {
     "data": {
      "text/plain": [
       "MinMaxScaler()"
      ]
     },
     "execution_count": 31,
     "metadata": {},
     "output_type": "execute_result"
    }
   ],
   "source": [
    "scaler = MinMaxScaler()\n",
    "measure_scaled = train_femur_filtered['measure_scaled']\n",
    "scaler.fit(measure_scaled.values.reshape(-1,1))"
   ]
  },
  {
   "cell_type": "code",
   "execution_count": 32,
   "metadata": {},
   "outputs": [
    {
     "name": "stderr",
     "output_type": "stream",
     "text": [
      "/data/kpusteln/my-envs/swin/lib/python3.7/site-packages/ipykernel_launcher.py:1: SettingWithCopyWarning: \n",
      "A value is trying to be set on a copy of a slice from a DataFrame.\n",
      "Try using .loc[row_indexer,col_indexer] = value instead\n",
      "\n",
      "See the caveats in the documentation: https://pandas.pydata.org/pandas-docs/stable/user_guide/indexing.html#returning-a-view-versus-a-copy\n",
      "  \"\"\"Entry point for launching an IPython kernel.\n"
     ]
    }
   ],
   "source": [
    "train_femur_filtered['measure_scaled'] = scaler.transform(train_femur_filtered['measure_scaled'].values.reshape(-1,1))\n",
    "#test_femur_filtered['measure_scaled'] = scaler.transform(test_femur_filtered['measure_scaled'].values.reshape(-1,1))\n",
    "val_femur_filtered['measure_scaled'] = scaler.transform(val_femur_filtered['measure_scaled'].values.reshape(-1,1))"
   ]
  },
  {
   "cell_type": "code",
   "execution_count": 33,
   "metadata": {},
   "outputs": [
    {
     "data": {
      "text/plain": [
       "array([[47.37117519],\n",
       "       [47.37117519],\n",
       "       [47.37117519],\n",
       "       ...,\n",
       "       [21.68494119],\n",
       "       [21.68494119],\n",
       "       [36.72128331]])"
      ]
     },
     "execution_count": 33,
     "metadata": {},
     "output_type": "execute_result"
    }
   ],
   "source": [
    "scaler.inverse_transform(train_femur_filtered['measure_scaled'].values.reshape(-1,1))"
   ]
  },
  {
   "cell_type": "code",
   "execution_count": 34,
   "metadata": {},
   "outputs": [
    {
     "data": {
      "text/plain": [
       "['femur_scaler']"
      ]
     },
     "execution_count": 34,
     "metadata": {},
     "output_type": "execute_result"
    }
   ],
   "source": [
    "joblib.dump(scaler, 'femur_scaler')"
   ]
  },
  {
   "cell_type": "code",
   "execution_count": 35,
   "metadata": {},
   "outputs": [
    {
     "name": "stderr",
     "output_type": "stream",
     "text": [
      "/data/kpusteln/my-envs/swin/lib/python3.7/site-packages/ipykernel_launcher.py:1: SettingWithCopyWarning: \n",
      "A value is trying to be set on a copy of a slice from a DataFrame.\n",
      "Try using .loc[row_indexer,col_indexer] = value instead\n",
      "\n",
      "See the caveats in the documentation: https://pandas.pydata.org/pandas-docs/stable/user_guide/indexing.html#returning-a-view-versus-a-copy\n",
      "  \"\"\"Entry point for launching an IPython kernel.\n",
      "/data/kpusteln/my-envs/swin/lib/python3.7/site-packages/ipykernel_launcher.py:3: SettingWithCopyWarning: \n",
      "A value is trying to be set on a copy of a slice from a DataFrame.\n",
      "Try using .loc[row_indexer,col_indexer] = value instead\n",
      "\n",
      "See the caveats in the documentation: https://pandas.pydata.org/pandas-docs/stable/user_guide/indexing.html#returning-a-view-versus-a-copy\n",
      "  This is separate from the ipykernel package so we can avoid doing imports until\n"
     ]
    }
   ],
   "source": [
    "train_head_filtered['measure_scaled'] = train_head_filtered['measures']/train_head_filtered['ps']\n",
    "#test_head_filtered['measure_scaled'] = test_head_filtered['measures']/test_head_filtered['ps']\n",
    "val_head_filtered['measure_scaled'] = val_head_filtered['measures']/val_head_filtered['ps']"
   ]
  },
  {
   "cell_type": "code",
   "execution_count": 36,
   "metadata": {},
   "outputs": [
    {
     "data": {
      "text/plain": [
       "MinMaxScaler()"
      ]
     },
     "execution_count": 36,
     "metadata": {},
     "output_type": "execute_result"
    }
   ],
   "source": [
    "scaler = MinMaxScaler()\n",
    "measure_scaled = train_head_filtered['measure_scaled']\n",
    "scaler.fit(measure_scaled.values.reshape(-1,1))"
   ]
  },
  {
   "cell_type": "code",
   "execution_count": 37,
   "metadata": {},
   "outputs": [
    {
     "name": "stderr",
     "output_type": "stream",
     "text": [
      "/data/kpusteln/my-envs/swin/lib/python3.7/site-packages/ipykernel_launcher.py:1: SettingWithCopyWarning: \n",
      "A value is trying to be set on a copy of a slice from a DataFrame.\n",
      "Try using .loc[row_indexer,col_indexer] = value instead\n",
      "\n",
      "See the caveats in the documentation: https://pandas.pydata.org/pandas-docs/stable/user_guide/indexing.html#returning-a-view-versus-a-copy\n",
      "  \"\"\"Entry point for launching an IPython kernel.\n",
      "/data/kpusteln/my-envs/swin/lib/python3.7/site-packages/ipykernel_launcher.py:3: SettingWithCopyWarning: \n",
      "A value is trying to be set on a copy of a slice from a DataFrame.\n",
      "Try using .loc[row_indexer,col_indexer] = value instead\n",
      "\n",
      "See the caveats in the documentation: https://pandas.pydata.org/pandas-docs/stable/user_guide/indexing.html#returning-a-view-versus-a-copy\n",
      "  This is separate from the ipykernel package so we can avoid doing imports until\n"
     ]
    }
   ],
   "source": [
    "train_head_filtered['measure_scaled'] = scaler.transform(train_head_filtered['measure_scaled'].values.reshape(-1,1))\n",
    "#test_head_filtered['measure_scaled'] = scaler.transform(test_head_filtered['measure_scaled'].values.reshape(-1,1))\n",
    "val_head_filtered['measure_scaled'] = scaler.transform(val_head_filtered['measure_scaled'].values.reshape(-1,1))"
   ]
  },
  {
   "cell_type": "code",
   "execution_count": 38,
   "metadata": {},
   "outputs": [
    {
     "data": {
      "text/plain": [
       "array([[149.17173063],\n",
       "       [149.17173063],\n",
       "       [149.17173063],\n",
       "       ...,\n",
       "       [182.71523118],\n",
       "       [182.71523118],\n",
       "       [182.71523118]])"
      ]
     },
     "execution_count": 38,
     "metadata": {},
     "output_type": "execute_result"
    }
   ],
   "source": [
    "scaler.inverse_transform(train_head_filtered['measure_scaled'].values.reshape(-1,1))"
   ]
  },
  {
   "cell_type": "code",
   "execution_count": 39,
   "metadata": {},
   "outputs": [
    {
     "data": {
      "text/plain": [
       "['head_scaler']"
      ]
     },
     "execution_count": 39,
     "metadata": {},
     "output_type": "execute_result"
    }
   ],
   "source": [
    "joblib.dump(scaler, 'head_scaler')"
   ]
  },
  {
   "cell_type": "code",
   "execution_count": 40,
   "metadata": {},
   "outputs": [],
   "source": [
    "train_abdomen_filtered.to_csv('/data/kpusteln/Fetal-RL/data_preparation/data_biometry/ete_model/biometry_scaled_ps/abdomen/biometry_train_scaled_size_abdomen.csv', index=False)\n",
    "val_abdomen_filtered.to_csv('/data/kpusteln/Fetal-RL/data_preparation/data_biometry/ete_model/biometry_scaled_ps/abdomen/biometry_val_scaled_size_abdomen.csv', index=False)\n",
    "#test_abdomen_filtered.to_csv('/data/kpusteln/Fetal-RL/data_preparation/data_biometry/ete_model/biometry_scaled_ps/abdomen/biometry_test_scaled_size_abdomen.csv', index=False)"
   ]
  },
  {
   "cell_type": "code",
   "execution_count": 41,
   "metadata": {},
   "outputs": [],
   "source": [
    "train_femur_filtered.to_csv('/data/kpusteln/Fetal-RL/data_preparation/data_biometry/ete_model/biometry_scaled_ps/femur/biometry_train_scaled_size_femur.csv', index=False)\n",
    "#test_femur_filtered.to_csv('/data/kpusteln/Fetal-RL/data_preparation/data_biometry/ete_model/biometry_scaled_ps/femur/biometry_test_scaled_size_femur.csv', index=False)\n",
    "val_femur_filtered.to_csv('/data/kpusteln/Fetal-RL/data_preparation/data_biometry/ete_model/biometry_scaled_ps/femur/biometry_val_scaled_size_femur.csv', index=False)\n",
    "\n"
   ]
  },
  {
   "cell_type": "code",
   "execution_count": 42,
   "metadata": {},
   "outputs": [],
   "source": [
    "train_head_filtered.to_csv('/data/kpusteln/Fetal-RL/data_preparation/data_biometry/ete_model/biometry_scaled_ps/head/biometry_train_scaled_size_head.csv', index=False)\n",
    "#test_head_filtered.to_csv('/data/kpusteln/Fetal-RL/data_preparation/data_biometry/ete_model/biometry_scaled_ps/head/biometry_test_scaled_size_head.csv', index=False)\n",
    "val_head_filtered.to_csv('/data/kpusteln/Fetal-RL/data_preparation/data_biometry/ete_model/biometry_scaled_ps/head/biometry_val_scaled_size_head.csv', index=False)"
   ]
  },
  {
   "cell_type": "code",
   "execution_count": 43,
   "metadata": {},
   "outputs": [],
   "source": [
    "train_all = pd.concat([train_abdomen_filtered, train_femur_filtered, train_head_filtered])\n",
    "#test_all = pd.concat([test_abdomen_filtered, test_femur_filtered, test_head_filtered])\n",
    "val_all = pd.concat([val_abdomen_filtered, val_femur_filtered, val_head_filtered])"
   ]
  },
  {
   "cell_type": "code",
   "execution_count": 44,
   "metadata": {},
   "outputs": [],
   "source": [
    "train_all['measure_scaled'] = train_all['measures']/train_all['ps']\n",
    "#test_all['measure_scaled'] = test_all['measures']/test_all['ps']\n",
    "val_all['measure_scaled'] = val_all['measures']/val_all['ps']"
   ]
  },
  {
   "cell_type": "code",
   "execution_count": 45,
   "metadata": {},
   "outputs": [
    {
     "data": {
      "text/html": [
       "<div>\n",
       "<style scoped>\n",
       "    .dataframe tbody tr th:only-of-type {\n",
       "        vertical-align: middle;\n",
       "    }\n",
       "\n",
       "    .dataframe tbody tr th {\n",
       "        vertical-align: top;\n",
       "    }\n",
       "\n",
       "    .dataframe thead th {\n",
       "        text-align: right;\n",
       "    }\n",
       "</style>\n",
       "<table border=\"1\" class=\"dataframe\">\n",
       "  <thead>\n",
       "    <tr style=\"text-align: right;\">\n",
       "      <th></th>\n",
       "      <th>index</th>\n",
       "      <th>Class</th>\n",
       "      <th>video</th>\n",
       "      <th>measures</th>\n",
       "      <th>ps</th>\n",
       "      <th>frames_n</th>\n",
       "      <th>measure_scaled</th>\n",
       "      <th>days</th>\n",
       "      <th>frame_loc</th>\n",
       "      <th>height</th>\n",
       "      <th>width</th>\n",
       "      <th>height_org</th>\n",
       "      <th>width_org</th>\n",
       "      <th>measure_normalized</th>\n",
       "    </tr>\n",
       "  </thead>\n",
       "  <tbody>\n",
       "    <tr>\n",
       "      <th>226</th>\n",
       "      <td>6_2_35</td>\n",
       "      <td>4</td>\n",
       "      <td>6_2</td>\n",
       "      <td>16.47</td>\n",
       "      <td>0.120130</td>\n",
       "      <td>51</td>\n",
       "      <td>137.101473</td>\n",
       "      <td>147</td>\n",
       "      <td>0.686275</td>\n",
       "      <td>86.49360</td>\n",
       "      <td>115.32480</td>\n",
       "      <td>720</td>\n",
       "      <td>960</td>\n",
       "      <td>0.457089</td>\n",
       "    </tr>\n",
       "    <tr>\n",
       "      <th>227</th>\n",
       "      <td>6_2_36</td>\n",
       "      <td>4</td>\n",
       "      <td>6_2</td>\n",
       "      <td>16.47</td>\n",
       "      <td>0.120130</td>\n",
       "      <td>51</td>\n",
       "      <td>137.101473</td>\n",
       "      <td>147</td>\n",
       "      <td>0.705882</td>\n",
       "      <td>86.49360</td>\n",
       "      <td>115.32480</td>\n",
       "      <td>720</td>\n",
       "      <td>960</td>\n",
       "      <td>0.457089</td>\n",
       "    </tr>\n",
       "    <tr>\n",
       "      <th>228</th>\n",
       "      <td>6_2_37</td>\n",
       "      <td>4</td>\n",
       "      <td>6_2</td>\n",
       "      <td>16.47</td>\n",
       "      <td>0.120130</td>\n",
       "      <td>51</td>\n",
       "      <td>137.101473</td>\n",
       "      <td>147</td>\n",
       "      <td>0.725490</td>\n",
       "      <td>86.49360</td>\n",
       "      <td>115.32480</td>\n",
       "      <td>720</td>\n",
       "      <td>960</td>\n",
       "      <td>0.457089</td>\n",
       "    </tr>\n",
       "    <tr>\n",
       "      <th>229</th>\n",
       "      <td>6_2_38</td>\n",
       "      <td>4</td>\n",
       "      <td>6_2</td>\n",
       "      <td>16.47</td>\n",
       "      <td>0.120130</td>\n",
       "      <td>51</td>\n",
       "      <td>137.101473</td>\n",
       "      <td>147</td>\n",
       "      <td>0.745098</td>\n",
       "      <td>86.49360</td>\n",
       "      <td>115.32480</td>\n",
       "      <td>720</td>\n",
       "      <td>960</td>\n",
       "      <td>0.457089</td>\n",
       "    </tr>\n",
       "    <tr>\n",
       "      <th>230</th>\n",
       "      <td>6_2_39</td>\n",
       "      <td>4</td>\n",
       "      <td>6_2</td>\n",
       "      <td>16.47</td>\n",
       "      <td>0.120130</td>\n",
       "      <td>51</td>\n",
       "      <td>137.101473</td>\n",
       "      <td>147</td>\n",
       "      <td>0.764706</td>\n",
       "      <td>86.49360</td>\n",
       "      <td>115.32480</td>\n",
       "      <td>720</td>\n",
       "      <td>960</td>\n",
       "      <td>0.457089</td>\n",
       "    </tr>\n",
       "    <tr>\n",
       "      <th>...</th>\n",
       "      <td>...</td>\n",
       "      <td>...</td>\n",
       "      <td>...</td>\n",
       "      <td>...</td>\n",
       "      <td>...</td>\n",
       "      <td>...</td>\n",
       "      <td>...</td>\n",
       "      <td>...</td>\n",
       "      <td>...</td>\n",
       "      <td>...</td>\n",
       "      <td>...</td>\n",
       "      <td>...</td>\n",
       "      <td>...</td>\n",
       "      <td>...</td>\n",
       "    </tr>\n",
       "    <tr>\n",
       "      <th>3121</th>\n",
       "      <td>117_1_40</td>\n",
       "      <td>2</td>\n",
       "      <td>117_1</td>\n",
       "      <td>19.85</td>\n",
       "      <td>0.108639</td>\n",
       "      <td>44</td>\n",
       "      <td>182.715231</td>\n",
       "      <td>161</td>\n",
       "      <td>0.909091</td>\n",
       "      <td>78.22008</td>\n",
       "      <td>104.29344</td>\n",
       "      <td>720</td>\n",
       "      <td>960</td>\n",
       "      <td>0.563345</td>\n",
       "    </tr>\n",
       "    <tr>\n",
       "      <th>3122</th>\n",
       "      <td>117_1_41</td>\n",
       "      <td>2</td>\n",
       "      <td>117_1</td>\n",
       "      <td>19.85</td>\n",
       "      <td>0.108639</td>\n",
       "      <td>44</td>\n",
       "      <td>182.715231</td>\n",
       "      <td>161</td>\n",
       "      <td>0.931818</td>\n",
       "      <td>78.22008</td>\n",
       "      <td>104.29344</td>\n",
       "      <td>720</td>\n",
       "      <td>960</td>\n",
       "      <td>0.563345</td>\n",
       "    </tr>\n",
       "    <tr>\n",
       "      <th>3123</th>\n",
       "      <td>117_1_42</td>\n",
       "      <td>2</td>\n",
       "      <td>117_1</td>\n",
       "      <td>19.85</td>\n",
       "      <td>0.108639</td>\n",
       "      <td>44</td>\n",
       "      <td>182.715231</td>\n",
       "      <td>161</td>\n",
       "      <td>0.954545</td>\n",
       "      <td>78.22008</td>\n",
       "      <td>104.29344</td>\n",
       "      <td>720</td>\n",
       "      <td>960</td>\n",
       "      <td>0.563345</td>\n",
       "    </tr>\n",
       "    <tr>\n",
       "      <th>3124</th>\n",
       "      <td>117_1_43</td>\n",
       "      <td>2</td>\n",
       "      <td>117_1</td>\n",
       "      <td>19.85</td>\n",
       "      <td>0.108639</td>\n",
       "      <td>44</td>\n",
       "      <td>182.715231</td>\n",
       "      <td>161</td>\n",
       "      <td>0.977273</td>\n",
       "      <td>78.22008</td>\n",
       "      <td>104.29344</td>\n",
       "      <td>720</td>\n",
       "      <td>960</td>\n",
       "      <td>0.563345</td>\n",
       "    </tr>\n",
       "    <tr>\n",
       "      <th>3125</th>\n",
       "      <td>117_1_44</td>\n",
       "      <td>2</td>\n",
       "      <td>117_1</td>\n",
       "      <td>19.85</td>\n",
       "      <td>0.108639</td>\n",
       "      <td>44</td>\n",
       "      <td>182.715231</td>\n",
       "      <td>161</td>\n",
       "      <td>1.000000</td>\n",
       "      <td>78.22008</td>\n",
       "      <td>104.29344</td>\n",
       "      <td>720</td>\n",
       "      <td>960</td>\n",
       "      <td>0.563345</td>\n",
       "    </tr>\n",
       "  </tbody>\n",
       "</table>\n",
       "<p>36255 rows × 14 columns</p>\n",
       "</div>"
      ],
      "text/plain": [
       "         index  Class  video  measures        ps  frames_n  measure_scaled  \\\n",
       "226     6_2_35      4    6_2     16.47  0.120130        51      137.101473   \n",
       "227     6_2_36      4    6_2     16.47  0.120130        51      137.101473   \n",
       "228     6_2_37      4    6_2     16.47  0.120130        51      137.101473   \n",
       "229     6_2_38      4    6_2     16.47  0.120130        51      137.101473   \n",
       "230     6_2_39      4    6_2     16.47  0.120130        51      137.101473   \n",
       "...        ...    ...    ...       ...       ...       ...             ...   \n",
       "3121  117_1_40      2  117_1     19.85  0.108639        44      182.715231   \n",
       "3122  117_1_41      2  117_1     19.85  0.108639        44      182.715231   \n",
       "3123  117_1_42      2  117_1     19.85  0.108639        44      182.715231   \n",
       "3124  117_1_43      2  117_1     19.85  0.108639        44      182.715231   \n",
       "3125  117_1_44      2  117_1     19.85  0.108639        44      182.715231   \n",
       "\n",
       "      days  frame_loc    height      width  height_org  width_org  \\\n",
       "226    147   0.686275  86.49360  115.32480         720        960   \n",
       "227    147   0.705882  86.49360  115.32480         720        960   \n",
       "228    147   0.725490  86.49360  115.32480         720        960   \n",
       "229    147   0.745098  86.49360  115.32480         720        960   \n",
       "230    147   0.764706  86.49360  115.32480         720        960   \n",
       "...    ...        ...       ...        ...         ...        ...   \n",
       "3121   161   0.909091  78.22008  104.29344         720        960   \n",
       "3122   161   0.931818  78.22008  104.29344         720        960   \n",
       "3123   161   0.954545  78.22008  104.29344         720        960   \n",
       "3124   161   0.977273  78.22008  104.29344         720        960   \n",
       "3125   161   1.000000  78.22008  104.29344         720        960   \n",
       "\n",
       "      measure_normalized  \n",
       "226             0.457089  \n",
       "227             0.457089  \n",
       "228             0.457089  \n",
       "229             0.457089  \n",
       "230             0.457089  \n",
       "...                  ...  \n",
       "3121            0.563345  \n",
       "3122            0.563345  \n",
       "3123            0.563345  \n",
       "3124            0.563345  \n",
       "3125            0.563345  \n",
       "\n",
       "[36255 rows x 14 columns]"
      ]
     },
     "execution_count": 45,
     "metadata": {},
     "output_type": "execute_result"
    }
   ],
   "source": [
    "train_all"
   ]
  },
  {
   "cell_type": "code",
   "execution_count": 46,
   "metadata": {},
   "outputs": [
    {
     "data": {
      "text/plain": [
       "MinMaxScaler()"
      ]
     },
     "execution_count": 46,
     "metadata": {},
     "output_type": "execute_result"
    }
   ],
   "source": [
    "scaler = MinMaxScaler()\n",
    "measure_scaled = train_all['measure_scaled']\n",
    "scaler.fit(measure_scaled.values.reshape(-1,1))"
   ]
  },
  {
   "cell_type": "code",
   "execution_count": 47,
   "metadata": {},
   "outputs": [],
   "source": [
    "train_all['measure_scaled'] = scaler.transform(train_all['measure_scaled'].values.reshape(-1,1))\n",
    "#test_all['measure_scaled'] = scaler.transform(test_all['measure_scaled'].values.reshape(-1,1))\n",
    "val_all['measure_scaled'] = scaler.transform(val_all['measure_scaled'].values.reshape(-1,1))"
   ]
  },
  {
   "cell_type": "code",
   "execution_count": 48,
   "metadata": {},
   "outputs": [
    {
     "data": {
      "text/html": [
       "<div>\n",
       "<style scoped>\n",
       "    .dataframe tbody tr th:only-of-type {\n",
       "        vertical-align: middle;\n",
       "    }\n",
       "\n",
       "    .dataframe tbody tr th {\n",
       "        vertical-align: top;\n",
       "    }\n",
       "\n",
       "    .dataframe thead th {\n",
       "        text-align: right;\n",
       "    }\n",
       "</style>\n",
       "<table border=\"1\" class=\"dataframe\">\n",
       "  <thead>\n",
       "    <tr style=\"text-align: right;\">\n",
       "      <th></th>\n",
       "      <th>index</th>\n",
       "      <th>Class</th>\n",
       "      <th>video</th>\n",
       "      <th>measures</th>\n",
       "      <th>ps</th>\n",
       "      <th>frames_n</th>\n",
       "      <th>measure_scaled</th>\n",
       "      <th>days</th>\n",
       "      <th>frame_loc</th>\n",
       "      <th>height</th>\n",
       "      <th>width</th>\n",
       "      <th>height_org</th>\n",
       "      <th>width_org</th>\n",
       "      <th>measure_normalized</th>\n",
       "    </tr>\n",
       "  </thead>\n",
       "  <tbody>\n",
       "    <tr>\n",
       "      <th>226</th>\n",
       "      <td>6_2_35</td>\n",
       "      <td>4</td>\n",
       "      <td>6_2</td>\n",
       "      <td>16.47</td>\n",
       "      <td>0.120130</td>\n",
       "      <td>51</td>\n",
       "      <td>0.618863</td>\n",
       "      <td>147</td>\n",
       "      <td>0.686275</td>\n",
       "      <td>86.49360</td>\n",
       "      <td>115.32480</td>\n",
       "      <td>720</td>\n",
       "      <td>960</td>\n",
       "      <td>0.457089</td>\n",
       "    </tr>\n",
       "    <tr>\n",
       "      <th>227</th>\n",
       "      <td>6_2_36</td>\n",
       "      <td>4</td>\n",
       "      <td>6_2</td>\n",
       "      <td>16.47</td>\n",
       "      <td>0.120130</td>\n",
       "      <td>51</td>\n",
       "      <td>0.618863</td>\n",
       "      <td>147</td>\n",
       "      <td>0.705882</td>\n",
       "      <td>86.49360</td>\n",
       "      <td>115.32480</td>\n",
       "      <td>720</td>\n",
       "      <td>960</td>\n",
       "      <td>0.457089</td>\n",
       "    </tr>\n",
       "    <tr>\n",
       "      <th>228</th>\n",
       "      <td>6_2_37</td>\n",
       "      <td>4</td>\n",
       "      <td>6_2</td>\n",
       "      <td>16.47</td>\n",
       "      <td>0.120130</td>\n",
       "      <td>51</td>\n",
       "      <td>0.618863</td>\n",
       "      <td>147</td>\n",
       "      <td>0.725490</td>\n",
       "      <td>86.49360</td>\n",
       "      <td>115.32480</td>\n",
       "      <td>720</td>\n",
       "      <td>960</td>\n",
       "      <td>0.457089</td>\n",
       "    </tr>\n",
       "    <tr>\n",
       "      <th>229</th>\n",
       "      <td>6_2_38</td>\n",
       "      <td>4</td>\n",
       "      <td>6_2</td>\n",
       "      <td>16.47</td>\n",
       "      <td>0.120130</td>\n",
       "      <td>51</td>\n",
       "      <td>0.618863</td>\n",
       "      <td>147</td>\n",
       "      <td>0.745098</td>\n",
       "      <td>86.49360</td>\n",
       "      <td>115.32480</td>\n",
       "      <td>720</td>\n",
       "      <td>960</td>\n",
       "      <td>0.457089</td>\n",
       "    </tr>\n",
       "    <tr>\n",
       "      <th>230</th>\n",
       "      <td>6_2_39</td>\n",
       "      <td>4</td>\n",
       "      <td>6_2</td>\n",
       "      <td>16.47</td>\n",
       "      <td>0.120130</td>\n",
       "      <td>51</td>\n",
       "      <td>0.618863</td>\n",
       "      <td>147</td>\n",
       "      <td>0.764706</td>\n",
       "      <td>86.49360</td>\n",
       "      <td>115.32480</td>\n",
       "      <td>720</td>\n",
       "      <td>960</td>\n",
       "      <td>0.457089</td>\n",
       "    </tr>\n",
       "    <tr>\n",
       "      <th>...</th>\n",
       "      <td>...</td>\n",
       "      <td>...</td>\n",
       "      <td>...</td>\n",
       "      <td>...</td>\n",
       "      <td>...</td>\n",
       "      <td>...</td>\n",
       "      <td>...</td>\n",
       "      <td>...</td>\n",
       "      <td>...</td>\n",
       "      <td>...</td>\n",
       "      <td>...</td>\n",
       "      <td>...</td>\n",
       "      <td>...</td>\n",
       "      <td>...</td>\n",
       "    </tr>\n",
       "    <tr>\n",
       "      <th>3121</th>\n",
       "      <td>117_1_40</td>\n",
       "      <td>2</td>\n",
       "      <td>117_1</td>\n",
       "      <td>19.85</td>\n",
       "      <td>0.108639</td>\n",
       "      <td>44</td>\n",
       "      <td>0.841410</td>\n",
       "      <td>161</td>\n",
       "      <td>0.909091</td>\n",
       "      <td>78.22008</td>\n",
       "      <td>104.29344</td>\n",
       "      <td>720</td>\n",
       "      <td>960</td>\n",
       "      <td>0.563345</td>\n",
       "    </tr>\n",
       "    <tr>\n",
       "      <th>3122</th>\n",
       "      <td>117_1_41</td>\n",
       "      <td>2</td>\n",
       "      <td>117_1</td>\n",
       "      <td>19.85</td>\n",
       "      <td>0.108639</td>\n",
       "      <td>44</td>\n",
       "      <td>0.841410</td>\n",
       "      <td>161</td>\n",
       "      <td>0.931818</td>\n",
       "      <td>78.22008</td>\n",
       "      <td>104.29344</td>\n",
       "      <td>720</td>\n",
       "      <td>960</td>\n",
       "      <td>0.563345</td>\n",
       "    </tr>\n",
       "    <tr>\n",
       "      <th>3123</th>\n",
       "      <td>117_1_42</td>\n",
       "      <td>2</td>\n",
       "      <td>117_1</td>\n",
       "      <td>19.85</td>\n",
       "      <td>0.108639</td>\n",
       "      <td>44</td>\n",
       "      <td>0.841410</td>\n",
       "      <td>161</td>\n",
       "      <td>0.954545</td>\n",
       "      <td>78.22008</td>\n",
       "      <td>104.29344</td>\n",
       "      <td>720</td>\n",
       "      <td>960</td>\n",
       "      <td>0.563345</td>\n",
       "    </tr>\n",
       "    <tr>\n",
       "      <th>3124</th>\n",
       "      <td>117_1_43</td>\n",
       "      <td>2</td>\n",
       "      <td>117_1</td>\n",
       "      <td>19.85</td>\n",
       "      <td>0.108639</td>\n",
       "      <td>44</td>\n",
       "      <td>0.841410</td>\n",
       "      <td>161</td>\n",
       "      <td>0.977273</td>\n",
       "      <td>78.22008</td>\n",
       "      <td>104.29344</td>\n",
       "      <td>720</td>\n",
       "      <td>960</td>\n",
       "      <td>0.563345</td>\n",
       "    </tr>\n",
       "    <tr>\n",
       "      <th>3125</th>\n",
       "      <td>117_1_44</td>\n",
       "      <td>2</td>\n",
       "      <td>117_1</td>\n",
       "      <td>19.85</td>\n",
       "      <td>0.108639</td>\n",
       "      <td>44</td>\n",
       "      <td>0.841410</td>\n",
       "      <td>161</td>\n",
       "      <td>1.000000</td>\n",
       "      <td>78.22008</td>\n",
       "      <td>104.29344</td>\n",
       "      <td>720</td>\n",
       "      <td>960</td>\n",
       "      <td>0.563345</td>\n",
       "    </tr>\n",
       "  </tbody>\n",
       "</table>\n",
       "<p>36255 rows × 14 columns</p>\n",
       "</div>"
      ],
      "text/plain": [
       "         index  Class  video  measures        ps  frames_n  measure_scaled  \\\n",
       "226     6_2_35      4    6_2     16.47  0.120130        51        0.618863   \n",
       "227     6_2_36      4    6_2     16.47  0.120130        51        0.618863   \n",
       "228     6_2_37      4    6_2     16.47  0.120130        51        0.618863   \n",
       "229     6_2_38      4    6_2     16.47  0.120130        51        0.618863   \n",
       "230     6_2_39      4    6_2     16.47  0.120130        51        0.618863   \n",
       "...        ...    ...    ...       ...       ...       ...             ...   \n",
       "3121  117_1_40      2  117_1     19.85  0.108639        44        0.841410   \n",
       "3122  117_1_41      2  117_1     19.85  0.108639        44        0.841410   \n",
       "3123  117_1_42      2  117_1     19.85  0.108639        44        0.841410   \n",
       "3124  117_1_43      2  117_1     19.85  0.108639        44        0.841410   \n",
       "3125  117_1_44      2  117_1     19.85  0.108639        44        0.841410   \n",
       "\n",
       "      days  frame_loc    height      width  height_org  width_org  \\\n",
       "226    147   0.686275  86.49360  115.32480         720        960   \n",
       "227    147   0.705882  86.49360  115.32480         720        960   \n",
       "228    147   0.725490  86.49360  115.32480         720        960   \n",
       "229    147   0.745098  86.49360  115.32480         720        960   \n",
       "230    147   0.764706  86.49360  115.32480         720        960   \n",
       "...    ...        ...       ...        ...         ...        ...   \n",
       "3121   161   0.909091  78.22008  104.29344         720        960   \n",
       "3122   161   0.931818  78.22008  104.29344         720        960   \n",
       "3123   161   0.954545  78.22008  104.29344         720        960   \n",
       "3124   161   0.977273  78.22008  104.29344         720        960   \n",
       "3125   161   1.000000  78.22008  104.29344         720        960   \n",
       "\n",
       "      measure_normalized  \n",
       "226             0.457089  \n",
       "227             0.457089  \n",
       "228             0.457089  \n",
       "229             0.457089  \n",
       "230             0.457089  \n",
       "...                  ...  \n",
       "3121            0.563345  \n",
       "3122            0.563345  \n",
       "3123            0.563345  \n",
       "3124            0.563345  \n",
       "3125            0.563345  \n",
       "\n",
       "[36255 rows x 14 columns]"
      ]
     },
     "execution_count": 48,
     "metadata": {},
     "output_type": "execute_result"
    }
   ],
   "source": [
    "train_all"
   ]
  },
  {
   "cell_type": "code",
   "execution_count": 49,
   "metadata": {},
   "outputs": [],
   "source": [
    "train_all.to_csv('/data/kpusteln/Fetal-RL/data_preparation/data_biometry/ete_model/biometry_scaled_ps/all/biometry_train_scaled_size_all.csv', index=False)\n",
    "#test_all.to_csv('/data/kpusteln/Fetal-RL/data_preparation/data_biometry/ete_model/biometry_scaled_ps/all/biometry_test_scaled_size_all.csv', index=False)\n",
    "val_all.to_csv('/data/kpusteln/Fetal-RL/data_preparation/data_biometry/ete_model/biometry_scaled_ps/all/biometry_val_scaled_size_all.csv', index=False)"
   ]
  },
  {
   "cell_type": "code",
   "execution_count": 50,
   "metadata": {},
   "outputs": [
    {
     "data": {
      "text/plain": [
       "['all_scaler']"
      ]
     },
     "execution_count": 50,
     "metadata": {},
     "output_type": "execute_result"
    }
   ],
   "source": [
    "joblib.dump(scaler, 'all_scaler')"
   ]
  },
  {
   "cell_type": "code",
   "execution_count": 51,
   "metadata": {},
   "outputs": [],
   "source": [
    "scaler = joblib.load('all_scaler')"
   ]
  },
  {
   "cell_type": "code",
   "execution_count": 52,
   "metadata": {},
   "outputs": [
    {
     "data": {
      "text/html": [
       "<div>\n",
       "<style scoped>\n",
       "    .dataframe tbody tr th:only-of-type {\n",
       "        vertical-align: middle;\n",
       "    }\n",
       "\n",
       "    .dataframe tbody tr th {\n",
       "        vertical-align: top;\n",
       "    }\n",
       "\n",
       "    .dataframe thead th {\n",
       "        text-align: right;\n",
       "    }\n",
       "</style>\n",
       "<table border=\"1\" class=\"dataframe\">\n",
       "  <thead>\n",
       "    <tr style=\"text-align: right;\">\n",
       "      <th></th>\n",
       "      <th>index</th>\n",
       "      <th>Class</th>\n",
       "      <th>video</th>\n",
       "      <th>measures</th>\n",
       "      <th>ps</th>\n",
       "      <th>frames_n</th>\n",
       "      <th>measure_scaled</th>\n",
       "      <th>days</th>\n",
       "      <th>frame_loc</th>\n",
       "      <th>height</th>\n",
       "      <th>width</th>\n",
       "      <th>height_org</th>\n",
       "      <th>width_org</th>\n",
       "      <th>measure_normalized</th>\n",
       "    </tr>\n",
       "  </thead>\n",
       "  <tbody>\n",
       "    <tr>\n",
       "      <th>226</th>\n",
       "      <td>6_2_35</td>\n",
       "      <td>4</td>\n",
       "      <td>6_2</td>\n",
       "      <td>16.47</td>\n",
       "      <td>0.120130</td>\n",
       "      <td>51</td>\n",
       "      <td>0.618863</td>\n",
       "      <td>147</td>\n",
       "      <td>0.686275</td>\n",
       "      <td>86.49360</td>\n",
       "      <td>115.32480</td>\n",
       "      <td>720</td>\n",
       "      <td>960</td>\n",
       "      <td>0.457089</td>\n",
       "    </tr>\n",
       "    <tr>\n",
       "      <th>227</th>\n",
       "      <td>6_2_36</td>\n",
       "      <td>4</td>\n",
       "      <td>6_2</td>\n",
       "      <td>16.47</td>\n",
       "      <td>0.120130</td>\n",
       "      <td>51</td>\n",
       "      <td>0.618863</td>\n",
       "      <td>147</td>\n",
       "      <td>0.705882</td>\n",
       "      <td>86.49360</td>\n",
       "      <td>115.32480</td>\n",
       "      <td>720</td>\n",
       "      <td>960</td>\n",
       "      <td>0.457089</td>\n",
       "    </tr>\n",
       "    <tr>\n",
       "      <th>228</th>\n",
       "      <td>6_2_37</td>\n",
       "      <td>4</td>\n",
       "      <td>6_2</td>\n",
       "      <td>16.47</td>\n",
       "      <td>0.120130</td>\n",
       "      <td>51</td>\n",
       "      <td>0.618863</td>\n",
       "      <td>147</td>\n",
       "      <td>0.725490</td>\n",
       "      <td>86.49360</td>\n",
       "      <td>115.32480</td>\n",
       "      <td>720</td>\n",
       "      <td>960</td>\n",
       "      <td>0.457089</td>\n",
       "    </tr>\n",
       "    <tr>\n",
       "      <th>229</th>\n",
       "      <td>6_2_38</td>\n",
       "      <td>4</td>\n",
       "      <td>6_2</td>\n",
       "      <td>16.47</td>\n",
       "      <td>0.120130</td>\n",
       "      <td>51</td>\n",
       "      <td>0.618863</td>\n",
       "      <td>147</td>\n",
       "      <td>0.745098</td>\n",
       "      <td>86.49360</td>\n",
       "      <td>115.32480</td>\n",
       "      <td>720</td>\n",
       "      <td>960</td>\n",
       "      <td>0.457089</td>\n",
       "    </tr>\n",
       "    <tr>\n",
       "      <th>230</th>\n",
       "      <td>6_2_39</td>\n",
       "      <td>4</td>\n",
       "      <td>6_2</td>\n",
       "      <td>16.47</td>\n",
       "      <td>0.120130</td>\n",
       "      <td>51</td>\n",
       "      <td>0.618863</td>\n",
       "      <td>147</td>\n",
       "      <td>0.764706</td>\n",
       "      <td>86.49360</td>\n",
       "      <td>115.32480</td>\n",
       "      <td>720</td>\n",
       "      <td>960</td>\n",
       "      <td>0.457089</td>\n",
       "    </tr>\n",
       "    <tr>\n",
       "      <th>...</th>\n",
       "      <td>...</td>\n",
       "      <td>...</td>\n",
       "      <td>...</td>\n",
       "      <td>...</td>\n",
       "      <td>...</td>\n",
       "      <td>...</td>\n",
       "      <td>...</td>\n",
       "      <td>...</td>\n",
       "      <td>...</td>\n",
       "      <td>...</td>\n",
       "      <td>...</td>\n",
       "      <td>...</td>\n",
       "      <td>...</td>\n",
       "      <td>...</td>\n",
       "    </tr>\n",
       "    <tr>\n",
       "      <th>3121</th>\n",
       "      <td>117_1_40</td>\n",
       "      <td>2</td>\n",
       "      <td>117_1</td>\n",
       "      <td>19.85</td>\n",
       "      <td>0.108639</td>\n",
       "      <td>44</td>\n",
       "      <td>0.841410</td>\n",
       "      <td>161</td>\n",
       "      <td>0.909091</td>\n",
       "      <td>78.22008</td>\n",
       "      <td>104.29344</td>\n",
       "      <td>720</td>\n",
       "      <td>960</td>\n",
       "      <td>0.563345</td>\n",
       "    </tr>\n",
       "    <tr>\n",
       "      <th>3122</th>\n",
       "      <td>117_1_41</td>\n",
       "      <td>2</td>\n",
       "      <td>117_1</td>\n",
       "      <td>19.85</td>\n",
       "      <td>0.108639</td>\n",
       "      <td>44</td>\n",
       "      <td>0.841410</td>\n",
       "      <td>161</td>\n",
       "      <td>0.931818</td>\n",
       "      <td>78.22008</td>\n",
       "      <td>104.29344</td>\n",
       "      <td>720</td>\n",
       "      <td>960</td>\n",
       "      <td>0.563345</td>\n",
       "    </tr>\n",
       "    <tr>\n",
       "      <th>3123</th>\n",
       "      <td>117_1_42</td>\n",
       "      <td>2</td>\n",
       "      <td>117_1</td>\n",
       "      <td>19.85</td>\n",
       "      <td>0.108639</td>\n",
       "      <td>44</td>\n",
       "      <td>0.841410</td>\n",
       "      <td>161</td>\n",
       "      <td>0.954545</td>\n",
       "      <td>78.22008</td>\n",
       "      <td>104.29344</td>\n",
       "      <td>720</td>\n",
       "      <td>960</td>\n",
       "      <td>0.563345</td>\n",
       "    </tr>\n",
       "    <tr>\n",
       "      <th>3124</th>\n",
       "      <td>117_1_43</td>\n",
       "      <td>2</td>\n",
       "      <td>117_1</td>\n",
       "      <td>19.85</td>\n",
       "      <td>0.108639</td>\n",
       "      <td>44</td>\n",
       "      <td>0.841410</td>\n",
       "      <td>161</td>\n",
       "      <td>0.977273</td>\n",
       "      <td>78.22008</td>\n",
       "      <td>104.29344</td>\n",
       "      <td>720</td>\n",
       "      <td>960</td>\n",
       "      <td>0.563345</td>\n",
       "    </tr>\n",
       "    <tr>\n",
       "      <th>3125</th>\n",
       "      <td>117_1_44</td>\n",
       "      <td>2</td>\n",
       "      <td>117_1</td>\n",
       "      <td>19.85</td>\n",
       "      <td>0.108639</td>\n",
       "      <td>44</td>\n",
       "      <td>0.841410</td>\n",
       "      <td>161</td>\n",
       "      <td>1.000000</td>\n",
       "      <td>78.22008</td>\n",
       "      <td>104.29344</td>\n",
       "      <td>720</td>\n",
       "      <td>960</td>\n",
       "      <td>0.563345</td>\n",
       "    </tr>\n",
       "  </tbody>\n",
       "</table>\n",
       "<p>36255 rows × 14 columns</p>\n",
       "</div>"
      ],
      "text/plain": [
       "         index  Class  video  measures        ps  frames_n  measure_scaled  \\\n",
       "226     6_2_35      4    6_2     16.47  0.120130        51        0.618863   \n",
       "227     6_2_36      4    6_2     16.47  0.120130        51        0.618863   \n",
       "228     6_2_37      4    6_2     16.47  0.120130        51        0.618863   \n",
       "229     6_2_38      4    6_2     16.47  0.120130        51        0.618863   \n",
       "230     6_2_39      4    6_2     16.47  0.120130        51        0.618863   \n",
       "...        ...    ...    ...       ...       ...       ...             ...   \n",
       "3121  117_1_40      2  117_1     19.85  0.108639        44        0.841410   \n",
       "3122  117_1_41      2  117_1     19.85  0.108639        44        0.841410   \n",
       "3123  117_1_42      2  117_1     19.85  0.108639        44        0.841410   \n",
       "3124  117_1_43      2  117_1     19.85  0.108639        44        0.841410   \n",
       "3125  117_1_44      2  117_1     19.85  0.108639        44        0.841410   \n",
       "\n",
       "      days  frame_loc    height      width  height_org  width_org  \\\n",
       "226    147   0.686275  86.49360  115.32480         720        960   \n",
       "227    147   0.705882  86.49360  115.32480         720        960   \n",
       "228    147   0.725490  86.49360  115.32480         720        960   \n",
       "229    147   0.745098  86.49360  115.32480         720        960   \n",
       "230    147   0.764706  86.49360  115.32480         720        960   \n",
       "...    ...        ...       ...        ...         ...        ...   \n",
       "3121   161   0.909091  78.22008  104.29344         720        960   \n",
       "3122   161   0.931818  78.22008  104.29344         720        960   \n",
       "3123   161   0.954545  78.22008  104.29344         720        960   \n",
       "3124   161   0.977273  78.22008  104.29344         720        960   \n",
       "3125   161   1.000000  78.22008  104.29344         720        960   \n",
       "\n",
       "      measure_normalized  \n",
       "226             0.457089  \n",
       "227             0.457089  \n",
       "228             0.457089  \n",
       "229             0.457089  \n",
       "230             0.457089  \n",
       "...                  ...  \n",
       "3121            0.563345  \n",
       "3122            0.563345  \n",
       "3123            0.563345  \n",
       "3124            0.563345  \n",
       "3125            0.563345  \n",
       "\n",
       "[36255 rows x 14 columns]"
      ]
     },
     "execution_count": 52,
     "metadata": {},
     "output_type": "execute_result"
    }
   ],
   "source": [
    "train_all"
   ]
  },
  {
   "cell_type": "code",
   "execution_count": 29,
   "metadata": {},
   "outputs": [
    {
     "name": "stderr",
     "output_type": "stream",
     "text": [
      "/data/kpusteln/my-envs/swin/lib/python3.7/site-packages/ipykernel_launcher.py:2: UserWarning: Implicit dimension choice for softmax has been deprecated. Change the call to include dim=X as an argument.\n",
      "  \n"
     ]
    },
    {
     "data": {
      "text/plain": [
       "tensor([0.3006, 0.3322, 0.3672, 0.0000])"
      ]
     },
     "execution_count": 29,
     "metadata": {},
     "output_type": "execute_result"
    }
   ],
   "source": [
    "softmax = torch.nn.Softmax()\n",
    "softmax(torch.tensor([0.1, 0.2, 0.3, float('-inf')]))"
   ]
  },
  {
   "cell_type": "code",
   "execution_count": 55,
   "metadata": {},
   "outputs": [],
   "source": [
    "train = pd.read_csv('/data/kpusteln/Fetal-RL/data_preparation/data_biometry/ete_model/biometry_scaled_ps/abdomen/biometry_train_scaled_size_abdomen.csv')\n",
    "val = pd.read_csv('/data/kpusteln/Fetal-RL/data_preparation/data_biometry/ete_model/biometry_scaled_ps/abdomen/biometry_val_scaled_size_abdomen.csv')"
   ]
  },
  {
   "cell_type": "code",
   "execution_count": 57,
   "metadata": {},
   "outputs": [],
   "source": [
    "videos_train = train['video'].unique()\n",
    "videos_val = val['video'].unique()\n",
    "videos_train = pd.DataFrame(videos_train, columns=['video'])\n",
    "videos_val = pd.DataFrame(videos_val, columns=['video'])"
   ]
  },
  {
   "cell_type": "code",
   "execution_count": 58,
   "metadata": {},
   "outputs": [],
   "source": [
    "videos_train.to_csv('/data/kpusteln/Fetal-RL/data_preparation/data_biometry/ete_model/biometry_scaled_ps/abdomen/abd_videos_train.csv', index=False)\n",
    "videos_val.to_csv('/data/kpusteln/Fetal-RL/data_preparation/data_biometry/ete_model/biometry_scaled_ps/abdomen/abd_videos_val.csv', index=False)"
   ]
  },
  {
   "cell_type": "code",
   "execution_count": null,
   "metadata": {},
   "outputs": [],
   "source": []
  }
 ],
 "metadata": {
  "kernelspec": {
   "display_name": "swin",
   "language": "python",
   "name": "python3"
  },
  "language_info": {
   "codemirror_mode": {
    "name": "ipython",
    "version": 3
   },
   "file_extension": ".py",
   "mimetype": "text/x-python",
   "name": "python",
   "nbconvert_exporter": "python",
   "pygments_lexer": "ipython3",
   "version": "3.7.12"
  },
  "orig_nbformat": 4,
  "vscode": {
   "interpreter": {
    "hash": "5b772ba6196d99b64d9019a11b57c24f8066632039bdf84a783d1d6c99c4aa12"
   }
  }
 },
 "nbformat": 4,
 "nbformat_minor": 2
}
