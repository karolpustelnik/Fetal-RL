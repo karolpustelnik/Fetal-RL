{
 "cells": [
  {
   "cell_type": "code",
   "execution_count": 89,
   "metadata": {},
   "outputs": [],
   "source": [
    "import pandas as pd\n",
    "import numpy as np\n",
    "import torch\n",
    "from collections import Counter\n",
    "import random\n",
    "import scipy.stats\n",
    "from sklearn.preprocessing import MinMaxScaler\n",
    "import joblib"
   ]
  },
  {
   "cell_type": "code",
   "execution_count": 90,
   "metadata": {},
   "outputs": [
    {
     "data": {
      "text/plain": [
       "'labels:\\n0 - other\\n1 - head non-standard plane\\n2 - head standard plane\\n3 - femur non-standard plane\\n4 - femur standard plane\\n5 - femur non standard plane\\n6 - femur standard plane'"
      ]
     },
     "execution_count": 90,
     "metadata": {},
     "output_type": "execute_result"
    }
   ],
   "source": [
    "\"\"\"labels:\n",
    "0 - other\n",
    "1 - head non-standard plane\n",
    "2 - head standard plane\n",
    "3 - femur non-standard plane\n",
    "4 - femur standard plane\n",
    "5 - femur non standard plane\n",
    "6 - femur standard plane\"\"\""
   ]
  },
  {
   "cell_type": "code",
   "execution_count": 91,
   "metadata": {},
   "outputs": [],
   "source": [
    "train = pd.read_csv('/data/kpusteln/Fetal-RL/data_preparation/data_biometry/ete_model/biometry_scaled_ps/biometry_train_scaled_size.csv')\n",
    "val = pd.read_csv('/data/kpusteln/Fetal-RL/data_preparation/data_biometry/ete_model/biometry_scaled_ps/biometry_val_scaled_size.csv')\n",
    "test = pd.read_csv('/data/kpusteln/Fetal-RL/data_preparation/data_biometry/ete_model/biometry_scaled_ps/biometry_test_scaled_size.csv')"
   ]
  },
  {
   "cell_type": "code",
   "execution_count": 92,
   "metadata": {},
   "outputs": [],
   "source": [
    "train_org = pd.read_csv('/data/kpusteln/Fetal-RL/data_preparation/data_biometry/ete_model/biometry_train.csv')\n",
    "test_org = pd.read_csv('/data/kpusteln/Fetal-RL/data_preparation/data_biometry/ete_model/biometry_test.csv')\n",
    "\n",
    "val_org = pd.read_csv('/data/kpusteln/Fetal-RL/data_preparation/data_biometry/ete_model/biometry_val.csv')"
   ]
  },
  {
   "cell_type": "code",
   "execution_count": 93,
   "metadata": {},
   "outputs": [],
   "source": [
    "train['days'] = train_org['days']\n",
    "test['days'] = test_org['days']\n",
    "val['days'] = val_org['days']"
   ]
  },
  {
   "cell_type": "code",
   "execution_count": 94,
   "metadata": {},
   "outputs": [],
   "source": [
    "train_head = train[train['Class'] == 2]\n",
    "train_abdomen = train[train['Class'] == 4]\n",
    "train_femur = train[train['Class'] == 6]\n",
    "\n",
    "val_head = val[val['Class'] == 2]\n",
    "val_abdomen = val[val['Class'] == 4]\n",
    "val_femur = val[val['Class'] == 6]\n",
    "\n",
    "test_head = test[test['Class'] == 2]\n",
    "test_abdomen = test[test['Class'] == 4]\n",
    "test_femur = test[test['Class'] == 6]"
   ]
  },
  {
   "cell_type": "code",
   "execution_count": 95,
   "metadata": {},
   "outputs": [],
   "source": [
    "classes = train_abdomen['video'].str.split('_', expand=True)[1]"
   ]
  },
  {
   "cell_type": "code",
   "execution_count": 96,
   "metadata": {},
   "outputs": [
    {
     "data": {
      "text/plain": [
       "2    2933\n",
       "3      24\n",
       "Name: 1, dtype: int64"
      ]
     },
     "execution_count": 96,
     "metadata": {},
     "output_type": "execute_result"
    }
   ],
   "source": [
    "classes.value_counts()"
   ]
  },
  {
   "cell_type": "code",
   "execution_count": 97,
   "metadata": {},
   "outputs": [],
   "source": [
    "train_abdomen_filtered = train_abdomen[classes == '2']\n",
    "test_abdomen_filtered = test_abdomen[test_abdomen['video'].str.split('_', expand=True)[1] == '2']\n",
    "val_abdomen_filtered = val_abdomen[val_abdomen['video'].str.split('_', expand=True)[1] == '2']"
   ]
  },
  {
   "cell_type": "code",
   "execution_count": 98,
   "metadata": {},
   "outputs": [],
   "source": [
    "train_head_filtered = train_head[train_head['video'].str.split('_', expand=True)[1] == '1']\n",
    "test_head_filtered = test_head[test_head['video'].str.split('_', expand=True)[1] == '1']\n",
    "val_head_filtered = val_head[val_head['video'].str.split('_', expand=True)[1] == '1']"
   ]
  },
  {
   "cell_type": "code",
   "execution_count": 99,
   "metadata": {},
   "outputs": [],
   "source": [
    "train_femur_filtered = train_femur[train_femur['video'].str.split('_', expand=True)[1] == '3']\n",
    "test_femur_filtered = test_femur[test_femur['video'].str.split('_', expand=True)[1] == '3']\n",
    "val_femur_filtered = val_femur[val_femur['video'].str.split('_', expand=True)[1] == '3']"
   ]
  },
  {
   "cell_type": "code",
   "execution_count": 100,
   "metadata": {},
   "outputs": [
    {
     "data": {
      "text/html": [
       "<div>\n",
       "<style scoped>\n",
       "    .dataframe tbody tr th:only-of-type {\n",
       "        vertical-align: middle;\n",
       "    }\n",
       "\n",
       "    .dataframe tbody tr th {\n",
       "        vertical-align: top;\n",
       "    }\n",
       "\n",
       "    .dataframe thead th {\n",
       "        text-align: right;\n",
       "    }\n",
       "</style>\n",
       "<table border=\"1\" class=\"dataframe\">\n",
       "  <thead>\n",
       "    <tr style=\"text-align: right;\">\n",
       "      <th></th>\n",
       "      <th>index</th>\n",
       "      <th>Class</th>\n",
       "      <th>video</th>\n",
       "      <th>measures</th>\n",
       "      <th>ps</th>\n",
       "      <th>frames_n</th>\n",
       "      <th>measure_scaled</th>\n",
       "      <th>days</th>\n",
       "      <th>frame_loc</th>\n",
       "      <th>height</th>\n",
       "      <th>width</th>\n",
       "      <th>height_org</th>\n",
       "      <th>width_org</th>\n",
       "      <th>measure_normalized</th>\n",
       "    </tr>\n",
       "  </thead>\n",
       "  <tbody>\n",
       "    <tr>\n",
       "      <th>226</th>\n",
       "      <td>6_2_35</td>\n",
       "      <td>4</td>\n",
       "      <td>6_2</td>\n",
       "      <td>16.47</td>\n",
       "      <td>0.120130</td>\n",
       "      <td>51</td>\n",
       "      <td>0.598042</td>\n",
       "      <td>147</td>\n",
       "      <td>0.686275</td>\n",
       "      <td>86.49360</td>\n",
       "      <td>115.32480</td>\n",
       "      <td>720</td>\n",
       "      <td>960</td>\n",
       "      <td>0.457089</td>\n",
       "    </tr>\n",
       "    <tr>\n",
       "      <th>227</th>\n",
       "      <td>6_2_36</td>\n",
       "      <td>4</td>\n",
       "      <td>6_2</td>\n",
       "      <td>16.47</td>\n",
       "      <td>0.120130</td>\n",
       "      <td>51</td>\n",
       "      <td>0.598042</td>\n",
       "      <td>147</td>\n",
       "      <td>0.705882</td>\n",
       "      <td>86.49360</td>\n",
       "      <td>115.32480</td>\n",
       "      <td>720</td>\n",
       "      <td>960</td>\n",
       "      <td>0.457089</td>\n",
       "    </tr>\n",
       "    <tr>\n",
       "      <th>228</th>\n",
       "      <td>6_2_37</td>\n",
       "      <td>4</td>\n",
       "      <td>6_2</td>\n",
       "      <td>16.47</td>\n",
       "      <td>0.120130</td>\n",
       "      <td>51</td>\n",
       "      <td>0.598042</td>\n",
       "      <td>147</td>\n",
       "      <td>0.725490</td>\n",
       "      <td>86.49360</td>\n",
       "      <td>115.32480</td>\n",
       "      <td>720</td>\n",
       "      <td>960</td>\n",
       "      <td>0.457089</td>\n",
       "    </tr>\n",
       "    <tr>\n",
       "      <th>229</th>\n",
       "      <td>6_2_38</td>\n",
       "      <td>4</td>\n",
       "      <td>6_2</td>\n",
       "      <td>16.47</td>\n",
       "      <td>0.120130</td>\n",
       "      <td>51</td>\n",
       "      <td>0.598042</td>\n",
       "      <td>147</td>\n",
       "      <td>0.745098</td>\n",
       "      <td>86.49360</td>\n",
       "      <td>115.32480</td>\n",
       "      <td>720</td>\n",
       "      <td>960</td>\n",
       "      <td>0.457089</td>\n",
       "    </tr>\n",
       "    <tr>\n",
       "      <th>230</th>\n",
       "      <td>6_2_39</td>\n",
       "      <td>4</td>\n",
       "      <td>6_2</td>\n",
       "      <td>16.47</td>\n",
       "      <td>0.120130</td>\n",
       "      <td>51</td>\n",
       "      <td>0.598042</td>\n",
       "      <td>147</td>\n",
       "      <td>0.764706</td>\n",
       "      <td>86.49360</td>\n",
       "      <td>115.32480</td>\n",
       "      <td>720</td>\n",
       "      <td>960</td>\n",
       "      <td>0.457089</td>\n",
       "    </tr>\n",
       "    <tr>\n",
       "      <th>...</th>\n",
       "      <td>...</td>\n",
       "      <td>...</td>\n",
       "      <td>...</td>\n",
       "      <td>...</td>\n",
       "      <td>...</td>\n",
       "      <td>...</td>\n",
       "      <td>...</td>\n",
       "      <td>...</td>\n",
       "      <td>...</td>\n",
       "      <td>...</td>\n",
       "      <td>...</td>\n",
       "      <td>...</td>\n",
       "      <td>...</td>\n",
       "      <td>...</td>\n",
       "    </tr>\n",
       "    <tr>\n",
       "      <th>134553</th>\n",
       "      <td>688_2_31</td>\n",
       "      <td>4</td>\n",
       "      <td>688_2</td>\n",
       "      <td>24.38</td>\n",
       "      <td>0.139701</td>\n",
       "      <td>36</td>\n",
       "      <td>0.774758</td>\n",
       "      <td>192</td>\n",
       "      <td>0.861111</td>\n",
       "      <td>100.58472</td>\n",
       "      <td>134.11296</td>\n",
       "      <td>720</td>\n",
       "      <td>960</td>\n",
       "      <td>0.705753</td>\n",
       "    </tr>\n",
       "    <tr>\n",
       "      <th>134554</th>\n",
       "      <td>688_2_32</td>\n",
       "      <td>4</td>\n",
       "      <td>688_2</td>\n",
       "      <td>24.38</td>\n",
       "      <td>0.139701</td>\n",
       "      <td>36</td>\n",
       "      <td>0.774758</td>\n",
       "      <td>192</td>\n",
       "      <td>0.888889</td>\n",
       "      <td>100.58472</td>\n",
       "      <td>134.11296</td>\n",
       "      <td>720</td>\n",
       "      <td>960</td>\n",
       "      <td>0.705753</td>\n",
       "    </tr>\n",
       "    <tr>\n",
       "      <th>134555</th>\n",
       "      <td>688_2_33</td>\n",
       "      <td>4</td>\n",
       "      <td>688_2</td>\n",
       "      <td>24.38</td>\n",
       "      <td>0.139701</td>\n",
       "      <td>36</td>\n",
       "      <td>0.774758</td>\n",
       "      <td>192</td>\n",
       "      <td>0.916667</td>\n",
       "      <td>100.58472</td>\n",
       "      <td>134.11296</td>\n",
       "      <td>720</td>\n",
       "      <td>960</td>\n",
       "      <td>0.705753</td>\n",
       "    </tr>\n",
       "    <tr>\n",
       "      <th>135147</th>\n",
       "      <td>696_2_91</td>\n",
       "      <td>4</td>\n",
       "      <td>696_2</td>\n",
       "      <td>21.41</td>\n",
       "      <td>0.199092</td>\n",
       "      <td>103</td>\n",
       "      <td>0.458407</td>\n",
       "      <td>183</td>\n",
       "      <td>0.883495</td>\n",
       "      <td>143.34624</td>\n",
       "      <td>191.12832</td>\n",
       "      <td>720</td>\n",
       "      <td>960</td>\n",
       "      <td>0.612386</td>\n",
       "    </tr>\n",
       "    <tr>\n",
       "      <th>135148</th>\n",
       "      <td>696_2_92</td>\n",
       "      <td>4</td>\n",
       "      <td>696_2</td>\n",
       "      <td>21.41</td>\n",
       "      <td>0.199092</td>\n",
       "      <td>103</td>\n",
       "      <td>0.458407</td>\n",
       "      <td>183</td>\n",
       "      <td>0.893204</td>\n",
       "      <td>143.34624</td>\n",
       "      <td>191.12832</td>\n",
       "      <td>720</td>\n",
       "      <td>960</td>\n",
       "      <td>0.612386</td>\n",
       "    </tr>\n",
       "  </tbody>\n",
       "</table>\n",
       "<p>2933 rows × 14 columns</p>\n",
       "</div>"
      ],
      "text/plain": [
       "           index  Class  video  measures        ps  frames_n  measure_scaled  \\\n",
       "226       6_2_35      4    6_2     16.47  0.120130        51        0.598042   \n",
       "227       6_2_36      4    6_2     16.47  0.120130        51        0.598042   \n",
       "228       6_2_37      4    6_2     16.47  0.120130        51        0.598042   \n",
       "229       6_2_38      4    6_2     16.47  0.120130        51        0.598042   \n",
       "230       6_2_39      4    6_2     16.47  0.120130        51        0.598042   \n",
       "...          ...    ...    ...       ...       ...       ...             ...   \n",
       "134553  688_2_31      4  688_2     24.38  0.139701        36        0.774758   \n",
       "134554  688_2_32      4  688_2     24.38  0.139701        36        0.774758   \n",
       "134555  688_2_33      4  688_2     24.38  0.139701        36        0.774758   \n",
       "135147  696_2_91      4  696_2     21.41  0.199092       103        0.458407   \n",
       "135148  696_2_92      4  696_2     21.41  0.199092       103        0.458407   \n",
       "\n",
       "        days  frame_loc     height      width  height_org  width_org  \\\n",
       "226      147   0.686275   86.49360  115.32480         720        960   \n",
       "227      147   0.705882   86.49360  115.32480         720        960   \n",
       "228      147   0.725490   86.49360  115.32480         720        960   \n",
       "229      147   0.745098   86.49360  115.32480         720        960   \n",
       "230      147   0.764706   86.49360  115.32480         720        960   \n",
       "...      ...        ...        ...        ...         ...        ...   \n",
       "134553   192   0.861111  100.58472  134.11296         720        960   \n",
       "134554   192   0.888889  100.58472  134.11296         720        960   \n",
       "134555   192   0.916667  100.58472  134.11296         720        960   \n",
       "135147   183   0.883495  143.34624  191.12832         720        960   \n",
       "135148   183   0.893204  143.34624  191.12832         720        960   \n",
       "\n",
       "        measure_normalized  \n",
       "226               0.457089  \n",
       "227               0.457089  \n",
       "228               0.457089  \n",
       "229               0.457089  \n",
       "230               0.457089  \n",
       "...                    ...  \n",
       "134553            0.705753  \n",
       "134554            0.705753  \n",
       "134555            0.705753  \n",
       "135147            0.612386  \n",
       "135148            0.612386  \n",
       "\n",
       "[2933 rows x 14 columns]"
      ]
     },
     "execution_count": 100,
     "metadata": {},
     "output_type": "execute_result"
    }
   ],
   "source": [
    "train_abdomen_filtered"
   ]
  },
  {
   "cell_type": "code",
   "execution_count": 101,
   "metadata": {},
   "outputs": [
    {
     "name": "stderr",
     "output_type": "stream",
     "text": [
      "/data/kpusteln/my-envs/swin/lib/python3.7/site-packages/ipykernel_launcher.py:1: SettingWithCopyWarning: \n",
      "A value is trying to be set on a copy of a slice from a DataFrame.\n",
      "Try using .loc[row_indexer,col_indexer] = value instead\n",
      "\n",
      "See the caveats in the documentation: https://pandas.pydata.org/pandas-docs/stable/user_guide/indexing.html#returning-a-view-versus-a-copy\n",
      "  \"\"\"Entry point for launching an IPython kernel.\n",
      "/data/kpusteln/my-envs/swin/lib/python3.7/site-packages/ipykernel_launcher.py:2: SettingWithCopyWarning: \n",
      "A value is trying to be set on a copy of a slice from a DataFrame.\n",
      "Try using .loc[row_indexer,col_indexer] = value instead\n",
      "\n",
      "See the caveats in the documentation: https://pandas.pydata.org/pandas-docs/stable/user_guide/indexing.html#returning-a-view-versus-a-copy\n",
      "  \n",
      "/data/kpusteln/my-envs/swin/lib/python3.7/site-packages/ipykernel_launcher.py:3: SettingWithCopyWarning: \n",
      "A value is trying to be set on a copy of a slice from a DataFrame.\n",
      "Try using .loc[row_indexer,col_indexer] = value instead\n",
      "\n",
      "See the caveats in the documentation: https://pandas.pydata.org/pandas-docs/stable/user_guide/indexing.html#returning-a-view-versus-a-copy\n",
      "  This is separate from the ipykernel package so we can avoid doing imports until\n"
     ]
    }
   ],
   "source": [
    "train_abdomen_filtered['measure_scaled'] = train_abdomen_filtered['measures']/train_abdomen_filtered['ps']\n",
    "test_abdomen_filtered['measure_scaled'] = test_abdomen_filtered['measures']/test_abdomen_filtered['ps']\n",
    "val_abdomen_filtered['measure_scaled'] = val_abdomen_filtered['measures']/val_abdomen_filtered['ps']"
   ]
  },
  {
   "cell_type": "code",
   "execution_count": 102,
   "metadata": {},
   "outputs": [
    {
     "data": {
      "text/plain": [
       "MinMaxScaler()"
      ]
     },
     "execution_count": 102,
     "metadata": {},
     "output_type": "execute_result"
    }
   ],
   "source": [
    "scaler = MinMaxScaler()\n",
    "measure_scaled = train_abdomen_filtered['measure_scaled']\n",
    "scaler.fit(measure_scaled.values.reshape(-1,1))"
   ]
  },
  {
   "cell_type": "code",
   "execution_count": 103,
   "metadata": {},
   "outputs": [
    {
     "name": "stderr",
     "output_type": "stream",
     "text": [
      "/data/kpusteln/my-envs/swin/lib/python3.7/site-packages/ipykernel_launcher.py:1: SettingWithCopyWarning: \n",
      "A value is trying to be set on a copy of a slice from a DataFrame.\n",
      "Try using .loc[row_indexer,col_indexer] = value instead\n",
      "\n",
      "See the caveats in the documentation: https://pandas.pydata.org/pandas-docs/stable/user_guide/indexing.html#returning-a-view-versus-a-copy\n",
      "  \"\"\"Entry point for launching an IPython kernel.\n",
      "/data/kpusteln/my-envs/swin/lib/python3.7/site-packages/ipykernel_launcher.py:2: SettingWithCopyWarning: \n",
      "A value is trying to be set on a copy of a slice from a DataFrame.\n",
      "Try using .loc[row_indexer,col_indexer] = value instead\n",
      "\n",
      "See the caveats in the documentation: https://pandas.pydata.org/pandas-docs/stable/user_guide/indexing.html#returning-a-view-versus-a-copy\n",
      "  \n",
      "/data/kpusteln/my-envs/swin/lib/python3.7/site-packages/ipykernel_launcher.py:3: SettingWithCopyWarning: \n",
      "A value is trying to be set on a copy of a slice from a DataFrame.\n",
      "Try using .loc[row_indexer,col_indexer] = value instead\n",
      "\n",
      "See the caveats in the documentation: https://pandas.pydata.org/pandas-docs/stable/user_guide/indexing.html#returning-a-view-versus-a-copy\n",
      "  This is separate from the ipykernel package so we can avoid doing imports until\n"
     ]
    }
   ],
   "source": [
    "train_abdomen_filtered['measure_scaled'] = scaler.transform(train_abdomen_filtered['measure_scaled'].values.reshape(-1,1))\n",
    "test_abdomen_filtered['measure_scaled'] = scaler.transform(test_abdomen_filtered['measure_scaled'].values.reshape(-1,1))\n",
    "val_abdomen_filtered['measure_scaled'] = scaler.transform(val_abdomen_filtered['measure_scaled'].values.reshape(-1,1))"
   ]
  },
  {
   "cell_type": "code",
   "execution_count": 104,
   "metadata": {},
   "outputs": [
    {
     "data": {
      "text/plain": [
       "array([[137.1014734 ],\n",
       "       [137.1014734 ],\n",
       "       [137.1014734 ],\n",
       "       ...,\n",
       "       [174.51557254],\n",
       "       [107.53822353],\n",
       "       [107.53822353]])"
      ]
     },
     "execution_count": 104,
     "metadata": {},
     "output_type": "execute_result"
    }
   ],
   "source": [
    "scaler.inverse_transform(train_abdomen_filtered['measure_scaled'].values.reshape(-1,1))"
   ]
  },
  {
   "cell_type": "code",
   "execution_count": 105,
   "metadata": {},
   "outputs": [
    {
     "data": {
      "text/plain": [
       "['abdomen_scaler']"
      ]
     },
     "execution_count": 105,
     "metadata": {},
     "output_type": "execute_result"
    }
   ],
   "source": [
    "joblib.dump(scaler, 'abdomen_scaler')"
   ]
  },
  {
   "cell_type": "code",
   "execution_count": 106,
   "metadata": {},
   "outputs": [
    {
     "name": "stderr",
     "output_type": "stream",
     "text": [
      "/data/kpusteln/my-envs/swin/lib/python3.7/site-packages/ipykernel_launcher.py:1: SettingWithCopyWarning: \n",
      "A value is trying to be set on a copy of a slice from a DataFrame.\n",
      "Try using .loc[row_indexer,col_indexer] = value instead\n",
      "\n",
      "See the caveats in the documentation: https://pandas.pydata.org/pandas-docs/stable/user_guide/indexing.html#returning-a-view-versus-a-copy\n",
      "  \"\"\"Entry point for launching an IPython kernel.\n",
      "/data/kpusteln/my-envs/swin/lib/python3.7/site-packages/ipykernel_launcher.py:2: SettingWithCopyWarning: \n",
      "A value is trying to be set on a copy of a slice from a DataFrame.\n",
      "Try using .loc[row_indexer,col_indexer] = value instead\n",
      "\n",
      "See the caveats in the documentation: https://pandas.pydata.org/pandas-docs/stable/user_guide/indexing.html#returning-a-view-versus-a-copy\n",
      "  \n"
     ]
    }
   ],
   "source": [
    "train_femur_filtered['measure_scaled'] = train_femur_filtered['measures']/train_femur_filtered['ps']\n",
    "test_femur_filtered['measure_scaled'] = test_femur_filtered['measures']/test_femur_filtered['ps']\n",
    "val_femur_filtered['measure_scaled'] = val_femur_filtered['measures']/val_femur_filtered['ps']"
   ]
  },
  {
   "cell_type": "code",
   "execution_count": 107,
   "metadata": {},
   "outputs": [
    {
     "data": {
      "text/plain": [
       "MinMaxScaler()"
      ]
     },
     "execution_count": 107,
     "metadata": {},
     "output_type": "execute_result"
    }
   ],
   "source": [
    "scaler = MinMaxScaler()\n",
    "measure_scaled = train_femur_filtered['measure_scaled']\n",
    "scaler.fit(measure_scaled.values.reshape(-1,1))"
   ]
  },
  {
   "cell_type": "code",
   "execution_count": 108,
   "metadata": {},
   "outputs": [
    {
     "name": "stderr",
     "output_type": "stream",
     "text": [
      "/data/kpusteln/my-envs/swin/lib/python3.7/site-packages/ipykernel_launcher.py:1: SettingWithCopyWarning: \n",
      "A value is trying to be set on a copy of a slice from a DataFrame.\n",
      "Try using .loc[row_indexer,col_indexer] = value instead\n",
      "\n",
      "See the caveats in the documentation: https://pandas.pydata.org/pandas-docs/stable/user_guide/indexing.html#returning-a-view-versus-a-copy\n",
      "  \"\"\"Entry point for launching an IPython kernel.\n",
      "/data/kpusteln/my-envs/swin/lib/python3.7/site-packages/ipykernel_launcher.py:2: SettingWithCopyWarning: \n",
      "A value is trying to be set on a copy of a slice from a DataFrame.\n",
      "Try using .loc[row_indexer,col_indexer] = value instead\n",
      "\n",
      "See the caveats in the documentation: https://pandas.pydata.org/pandas-docs/stable/user_guide/indexing.html#returning-a-view-versus-a-copy\n",
      "  \n"
     ]
    }
   ],
   "source": [
    "train_femur_filtered['measure_scaled'] = scaler.transform(train_femur_filtered['measure_scaled'].values.reshape(-1,1))\n",
    "test_femur_filtered['measure_scaled'] = scaler.transform(test_femur_filtered['measure_scaled'].values.reshape(-1,1))\n",
    "val_femur_filtered['measure_scaled'] = scaler.transform(val_femur_filtered['measure_scaled'].values.reshape(-1,1))"
   ]
  },
  {
   "cell_type": "code",
   "execution_count": 109,
   "metadata": {},
   "outputs": [
    {
     "data": {
      "text/plain": [
       "array([[47.37117519],\n",
       "       [47.37117519],\n",
       "       [47.37117519],\n",
       "       ...,\n",
       "       [28.81139571],\n",
       "       [28.81139571],\n",
       "       [28.81139571]])"
      ]
     },
     "execution_count": 109,
     "metadata": {},
     "output_type": "execute_result"
    }
   ],
   "source": [
    "scaler.inverse_transform(train_femur_filtered['measure_scaled'].values.reshape(-1,1))"
   ]
  },
  {
   "cell_type": "code",
   "execution_count": 110,
   "metadata": {},
   "outputs": [
    {
     "data": {
      "text/plain": [
       "['femur_scaler']"
      ]
     },
     "execution_count": 110,
     "metadata": {},
     "output_type": "execute_result"
    }
   ],
   "source": [
    "joblib.dump(scaler, 'femur_scaler')"
   ]
  },
  {
   "cell_type": "code",
   "execution_count": 111,
   "metadata": {},
   "outputs": [
    {
     "name": "stderr",
     "output_type": "stream",
     "text": [
      "/data/kpusteln/my-envs/swin/lib/python3.7/site-packages/ipykernel_launcher.py:1: SettingWithCopyWarning: \n",
      "A value is trying to be set on a copy of a slice from a DataFrame.\n",
      "Try using .loc[row_indexer,col_indexer] = value instead\n",
      "\n",
      "See the caveats in the documentation: https://pandas.pydata.org/pandas-docs/stable/user_guide/indexing.html#returning-a-view-versus-a-copy\n",
      "  \"\"\"Entry point for launching an IPython kernel.\n",
      "/data/kpusteln/my-envs/swin/lib/python3.7/site-packages/ipykernel_launcher.py:2: SettingWithCopyWarning: \n",
      "A value is trying to be set on a copy of a slice from a DataFrame.\n",
      "Try using .loc[row_indexer,col_indexer] = value instead\n",
      "\n",
      "See the caveats in the documentation: https://pandas.pydata.org/pandas-docs/stable/user_guide/indexing.html#returning-a-view-versus-a-copy\n",
      "  \n",
      "/data/kpusteln/my-envs/swin/lib/python3.7/site-packages/ipykernel_launcher.py:3: SettingWithCopyWarning: \n",
      "A value is trying to be set on a copy of a slice from a DataFrame.\n",
      "Try using .loc[row_indexer,col_indexer] = value instead\n",
      "\n",
      "See the caveats in the documentation: https://pandas.pydata.org/pandas-docs/stable/user_guide/indexing.html#returning-a-view-versus-a-copy\n",
      "  This is separate from the ipykernel package so we can avoid doing imports until\n"
     ]
    }
   ],
   "source": [
    "train_head_filtered['measure_scaled'] = train_head_filtered['measures']/train_head_filtered['ps']\n",
    "test_head_filtered['measure_scaled'] = test_head_filtered['measures']/test_head_filtered['ps']\n",
    "val_head_filtered['measure_scaled'] = val_head_filtered['measures']/val_head_filtered['ps']"
   ]
  },
  {
   "cell_type": "code",
   "execution_count": 112,
   "metadata": {},
   "outputs": [
    {
     "data": {
      "text/plain": [
       "MinMaxScaler()"
      ]
     },
     "execution_count": 112,
     "metadata": {},
     "output_type": "execute_result"
    }
   ],
   "source": [
    "scaler = MinMaxScaler()\n",
    "measure_scaled = train_head_filtered['measure_scaled']\n",
    "scaler.fit(measure_scaled.values.reshape(-1,1))"
   ]
  },
  {
   "cell_type": "code",
   "execution_count": 113,
   "metadata": {},
   "outputs": [
    {
     "name": "stderr",
     "output_type": "stream",
     "text": [
      "/data/kpusteln/my-envs/swin/lib/python3.7/site-packages/ipykernel_launcher.py:1: SettingWithCopyWarning: \n",
      "A value is trying to be set on a copy of a slice from a DataFrame.\n",
      "Try using .loc[row_indexer,col_indexer] = value instead\n",
      "\n",
      "See the caveats in the documentation: https://pandas.pydata.org/pandas-docs/stable/user_guide/indexing.html#returning-a-view-versus-a-copy\n",
      "  \"\"\"Entry point for launching an IPython kernel.\n",
      "/data/kpusteln/my-envs/swin/lib/python3.7/site-packages/ipykernel_launcher.py:2: SettingWithCopyWarning: \n",
      "A value is trying to be set on a copy of a slice from a DataFrame.\n",
      "Try using .loc[row_indexer,col_indexer] = value instead\n",
      "\n",
      "See the caveats in the documentation: https://pandas.pydata.org/pandas-docs/stable/user_guide/indexing.html#returning-a-view-versus-a-copy\n",
      "  \n",
      "/data/kpusteln/my-envs/swin/lib/python3.7/site-packages/ipykernel_launcher.py:3: SettingWithCopyWarning: \n",
      "A value is trying to be set on a copy of a slice from a DataFrame.\n",
      "Try using .loc[row_indexer,col_indexer] = value instead\n",
      "\n",
      "See the caveats in the documentation: https://pandas.pydata.org/pandas-docs/stable/user_guide/indexing.html#returning-a-view-versus-a-copy\n",
      "  This is separate from the ipykernel package so we can avoid doing imports until\n"
     ]
    }
   ],
   "source": [
    "train_head_filtered['measure_scaled'] = scaler.transform(train_head_filtered['measure_scaled'].values.reshape(-1,1))\n",
    "test_head_filtered['measure_scaled'] = scaler.transform(test_head_filtered['measure_scaled'].values.reshape(-1,1))\n",
    "val_head_filtered['measure_scaled'] = scaler.transform(val_head_filtered['measure_scaled'].values.reshape(-1,1))"
   ]
  },
  {
   "cell_type": "code",
   "execution_count": 114,
   "metadata": {},
   "outputs": [
    {
     "data": {
      "text/plain": [
       "array([[149.17173063],\n",
       "       [149.17173063],\n",
       "       [149.17173063],\n",
       "       ...,\n",
       "       [104.99098643],\n",
       "       [104.99098643],\n",
       "       [ 90.37054159]])"
      ]
     },
     "execution_count": 114,
     "metadata": {},
     "output_type": "execute_result"
    }
   ],
   "source": [
    "scaler.inverse_transform(train_head_filtered['measure_scaled'].values.reshape(-1,1))"
   ]
  },
  {
   "cell_type": "code",
   "execution_count": 115,
   "metadata": {},
   "outputs": [
    {
     "data": {
      "text/plain": [
       "['head_scaler']"
      ]
     },
     "execution_count": 115,
     "metadata": {},
     "output_type": "execute_result"
    }
   ],
   "source": [
    "joblib.dump(scaler, 'head_scaler')"
   ]
  },
  {
   "cell_type": "code",
   "execution_count": 116,
   "metadata": {},
   "outputs": [],
   "source": [
    "train_abdomen_filtered.to_csv('/data/kpusteln/Fetal-RL/data_preparation/data_biometry/ete_model/biometry_scaled_ps/abdomen/biometry_train_scaled_size_abdomen.csv', index=False)\n",
    "val_abdomen_filtered.to_csv('/data/kpusteln/Fetal-RL/data_preparation/data_biometry/ete_model/biometry_scaled_ps/abdomen/biometry_val_scaled_size_abdomen.csv', index=False)\n",
    "test_abdomen_filtered.to_csv('/data/kpusteln/Fetal-RL/data_preparation/data_biometry/ete_model/biometry_scaled_ps/abdomen/biometry_test_scaled_size_abdomen.csv', index=False)"
   ]
  },
  {
   "cell_type": "code",
   "execution_count": 117,
   "metadata": {},
   "outputs": [],
   "source": [
    "train_femur_filtered.to_csv('/data/kpusteln/Fetal-RL/data_preparation/data_biometry/ete_model/biometry_scaled_ps/femur/biometry_train_scaled_size_femur.csv', index=False)\n",
    "test_femur_filtered.to_csv('/data/kpusteln/Fetal-RL/data_preparation/data_biometry/ete_model/biometry_scaled_ps/femur/biometry_test_scaled_size_femur.csv', index=False)\n",
    "val_femur_filtered.to_csv('/data/kpusteln/Fetal-RL/data_preparation/data_biometry/ete_model/biometry_scaled_ps/femur/biometry_val_scaled_size_femur.csv', index=False)\n",
    "\n"
   ]
  },
  {
   "cell_type": "code",
   "execution_count": 118,
   "metadata": {},
   "outputs": [],
   "source": [
    "train_head_filtered.to_csv('/data/kpusteln/Fetal-RL/data_preparation/data_biometry/ete_model/biometry_scaled_ps/head/biometry_train_scaled_size_head.csv', index=False)\n",
    "test_head_filtered.to_csv('/data/kpusteln/Fetal-RL/data_preparation/data_biometry/ete_model/biometry_scaled_ps/head/biometry_test_scaled_size_head.csv', index=False)\n",
    "val_head_filtered.to_csv('/data/kpusteln/Fetal-RL/data_preparation/data_biometry/ete_model/biometry_scaled_ps/head/biometry_val_scaled_size_head.csv', index=False)"
   ]
  },
  {
   "cell_type": "code",
   "execution_count": 122,
   "metadata": {},
   "outputs": [],
   "source": [
    "train_all = pd.concat([train_abdomen_filtered, train_femur_filtered, train_head_filtered])\n",
    "test_all = pd.concat([test_abdomen_filtered, test_femur_filtered, test_head_filtered])\n",
    "val_all = pd.concat([val_abdomen_filtered, val_femur_filtered, val_head_filtered])"
   ]
  },
  {
   "cell_type": "code",
   "execution_count": 125,
   "metadata": {},
   "outputs": [],
   "source": [
    "train_all['measure_scaled'] = train_all['measures']/train_all['ps']\n",
    "test_all['measure_scaled'] = test_all['measures']/test_all['ps']\n",
    "val_all['measure_scaled'] = val_all['measures']/val_all['ps']"
   ]
  },
  {
   "cell_type": "code",
   "execution_count": 126,
   "metadata": {},
   "outputs": [
    {
     "data": {
      "text/html": [
       "<div>\n",
       "<style scoped>\n",
       "    .dataframe tbody tr th:only-of-type {\n",
       "        vertical-align: middle;\n",
       "    }\n",
       "\n",
       "    .dataframe tbody tr th {\n",
       "        vertical-align: top;\n",
       "    }\n",
       "\n",
       "    .dataframe thead th {\n",
       "        text-align: right;\n",
       "    }\n",
       "</style>\n",
       "<table border=\"1\" class=\"dataframe\">\n",
       "  <thead>\n",
       "    <tr style=\"text-align: right;\">\n",
       "      <th></th>\n",
       "      <th>index</th>\n",
       "      <th>Class</th>\n",
       "      <th>video</th>\n",
       "      <th>measures</th>\n",
       "      <th>ps</th>\n",
       "      <th>frames_n</th>\n",
       "      <th>measure_scaled</th>\n",
       "      <th>days</th>\n",
       "      <th>frame_loc</th>\n",
       "      <th>height</th>\n",
       "      <th>width</th>\n",
       "      <th>height_org</th>\n",
       "      <th>width_org</th>\n",
       "      <th>measure_normalized</th>\n",
       "    </tr>\n",
       "  </thead>\n",
       "  <tbody>\n",
       "    <tr>\n",
       "      <th>226</th>\n",
       "      <td>6_2_35</td>\n",
       "      <td>4</td>\n",
       "      <td>6_2</td>\n",
       "      <td>16.47</td>\n",
       "      <td>0.120130</td>\n",
       "      <td>51</td>\n",
       "      <td>137.101473</td>\n",
       "      <td>147</td>\n",
       "      <td>0.686275</td>\n",
       "      <td>86.493600</td>\n",
       "      <td>115.324800</td>\n",
       "      <td>720</td>\n",
       "      <td>960</td>\n",
       "      <td>0.457089</td>\n",
       "    </tr>\n",
       "    <tr>\n",
       "      <th>227</th>\n",
       "      <td>6_2_36</td>\n",
       "      <td>4</td>\n",
       "      <td>6_2</td>\n",
       "      <td>16.47</td>\n",
       "      <td>0.120130</td>\n",
       "      <td>51</td>\n",
       "      <td>137.101473</td>\n",
       "      <td>147</td>\n",
       "      <td>0.705882</td>\n",
       "      <td>86.493600</td>\n",
       "      <td>115.324800</td>\n",
       "      <td>720</td>\n",
       "      <td>960</td>\n",
       "      <td>0.457089</td>\n",
       "    </tr>\n",
       "    <tr>\n",
       "      <th>228</th>\n",
       "      <td>6_2_37</td>\n",
       "      <td>4</td>\n",
       "      <td>6_2</td>\n",
       "      <td>16.47</td>\n",
       "      <td>0.120130</td>\n",
       "      <td>51</td>\n",
       "      <td>137.101473</td>\n",
       "      <td>147</td>\n",
       "      <td>0.725490</td>\n",
       "      <td>86.493600</td>\n",
       "      <td>115.324800</td>\n",
       "      <td>720</td>\n",
       "      <td>960</td>\n",
       "      <td>0.457089</td>\n",
       "    </tr>\n",
       "    <tr>\n",
       "      <th>229</th>\n",
       "      <td>6_2_38</td>\n",
       "      <td>4</td>\n",
       "      <td>6_2</td>\n",
       "      <td>16.47</td>\n",
       "      <td>0.120130</td>\n",
       "      <td>51</td>\n",
       "      <td>137.101473</td>\n",
       "      <td>147</td>\n",
       "      <td>0.745098</td>\n",
       "      <td>86.493600</td>\n",
       "      <td>115.324800</td>\n",
       "      <td>720</td>\n",
       "      <td>960</td>\n",
       "      <td>0.457089</td>\n",
       "    </tr>\n",
       "    <tr>\n",
       "      <th>230</th>\n",
       "      <td>6_2_39</td>\n",
       "      <td>4</td>\n",
       "      <td>6_2</td>\n",
       "      <td>16.47</td>\n",
       "      <td>0.120130</td>\n",
       "      <td>51</td>\n",
       "      <td>137.101473</td>\n",
       "      <td>147</td>\n",
       "      <td>0.764706</td>\n",
       "      <td>86.493600</td>\n",
       "      <td>115.324800</td>\n",
       "      <td>720</td>\n",
       "      <td>960</td>\n",
       "      <td>0.457089</td>\n",
       "    </tr>\n",
       "    <tr>\n",
       "      <th>...</th>\n",
       "      <td>...</td>\n",
       "      <td>...</td>\n",
       "      <td>...</td>\n",
       "      <td>...</td>\n",
       "      <td>...</td>\n",
       "      <td>...</td>\n",
       "      <td>...</td>\n",
       "      <td>...</td>\n",
       "      <td>...</td>\n",
       "      <td>...</td>\n",
       "      <td>...</td>\n",
       "      <td>...</td>\n",
       "      <td>...</td>\n",
       "      <td>...</td>\n",
       "    </tr>\n",
       "    <tr>\n",
       "      <th>21422</th>\n",
       "      <td>94_1_182</td>\n",
       "      <td>2</td>\n",
       "      <td>94_1</td>\n",
       "      <td>26.15</td>\n",
       "      <td>0.249069</td>\n",
       "      <td>185</td>\n",
       "      <td>104.990986</td>\n",
       "      <td>167</td>\n",
       "      <td>0.983784</td>\n",
       "      <td>185.058267</td>\n",
       "      <td>242.842275</td>\n",
       "      <td>743</td>\n",
       "      <td>975</td>\n",
       "      <td>0.761396</td>\n",
       "    </tr>\n",
       "    <tr>\n",
       "      <th>21423</th>\n",
       "      <td>94_1_183</td>\n",
       "      <td>2</td>\n",
       "      <td>94_1</td>\n",
       "      <td>26.15</td>\n",
       "      <td>0.249069</td>\n",
       "      <td>185</td>\n",
       "      <td>104.990986</td>\n",
       "      <td>167</td>\n",
       "      <td>0.989189</td>\n",
       "      <td>185.058267</td>\n",
       "      <td>242.842275</td>\n",
       "      <td>743</td>\n",
       "      <td>975</td>\n",
       "      <td>0.761396</td>\n",
       "    </tr>\n",
       "    <tr>\n",
       "      <th>21424</th>\n",
       "      <td>94_1_184</td>\n",
       "      <td>2</td>\n",
       "      <td>94_1</td>\n",
       "      <td>26.15</td>\n",
       "      <td>0.249069</td>\n",
       "      <td>185</td>\n",
       "      <td>104.990986</td>\n",
       "      <td>167</td>\n",
       "      <td>0.994595</td>\n",
       "      <td>185.058267</td>\n",
       "      <td>242.842275</td>\n",
       "      <td>743</td>\n",
       "      <td>975</td>\n",
       "      <td>0.761396</td>\n",
       "    </tr>\n",
       "    <tr>\n",
       "      <th>21425</th>\n",
       "      <td>94_1_185</td>\n",
       "      <td>2</td>\n",
       "      <td>94_1</td>\n",
       "      <td>26.15</td>\n",
       "      <td>0.249069</td>\n",
       "      <td>185</td>\n",
       "      <td>104.990986</td>\n",
       "      <td>167</td>\n",
       "      <td>1.000000</td>\n",
       "      <td>185.058267</td>\n",
       "      <td>242.842275</td>\n",
       "      <td>743</td>\n",
       "      <td>975</td>\n",
       "      <td>0.761396</td>\n",
       "    </tr>\n",
       "    <tr>\n",
       "      <th>21750</th>\n",
       "      <td>95_1_99</td>\n",
       "      <td>2</td>\n",
       "      <td>95_1</td>\n",
       "      <td>24.24</td>\n",
       "      <td>0.268229</td>\n",
       "      <td>152</td>\n",
       "      <td>90.370542</td>\n",
       "      <td>185</td>\n",
       "      <td>0.651316</td>\n",
       "      <td>199.294147</td>\n",
       "      <td>261.523275</td>\n",
       "      <td>743</td>\n",
       "      <td>975</td>\n",
       "      <td>0.701352</td>\n",
       "    </tr>\n",
       "  </tbody>\n",
       "</table>\n",
       "<p>31704 rows × 14 columns</p>\n",
       "</div>"
      ],
      "text/plain": [
       "          index  Class video  measures        ps  frames_n  measure_scaled  \\\n",
       "226      6_2_35      4   6_2     16.47  0.120130        51      137.101473   \n",
       "227      6_2_36      4   6_2     16.47  0.120130        51      137.101473   \n",
       "228      6_2_37      4   6_2     16.47  0.120130        51      137.101473   \n",
       "229      6_2_38      4   6_2     16.47  0.120130        51      137.101473   \n",
       "230      6_2_39      4   6_2     16.47  0.120130        51      137.101473   \n",
       "...         ...    ...   ...       ...       ...       ...             ...   \n",
       "21422  94_1_182      2  94_1     26.15  0.249069       185      104.990986   \n",
       "21423  94_1_183      2  94_1     26.15  0.249069       185      104.990986   \n",
       "21424  94_1_184      2  94_1     26.15  0.249069       185      104.990986   \n",
       "21425  94_1_185      2  94_1     26.15  0.249069       185      104.990986   \n",
       "21750   95_1_99      2  95_1     24.24  0.268229       152       90.370542   \n",
       "\n",
       "       days  frame_loc      height       width  height_org  width_org  \\\n",
       "226     147   0.686275   86.493600  115.324800         720        960   \n",
       "227     147   0.705882   86.493600  115.324800         720        960   \n",
       "228     147   0.725490   86.493600  115.324800         720        960   \n",
       "229     147   0.745098   86.493600  115.324800         720        960   \n",
       "230     147   0.764706   86.493600  115.324800         720        960   \n",
       "...     ...        ...         ...         ...         ...        ...   \n",
       "21422   167   0.983784  185.058267  242.842275         743        975   \n",
       "21423   167   0.989189  185.058267  242.842275         743        975   \n",
       "21424   167   0.994595  185.058267  242.842275         743        975   \n",
       "21425   167   1.000000  185.058267  242.842275         743        975   \n",
       "21750   185   0.651316  199.294147  261.523275         743        975   \n",
       "\n",
       "       measure_normalized  \n",
       "226              0.457089  \n",
       "227              0.457089  \n",
       "228              0.457089  \n",
       "229              0.457089  \n",
       "230              0.457089  \n",
       "...                   ...  \n",
       "21422            0.761396  \n",
       "21423            0.761396  \n",
       "21424            0.761396  \n",
       "21425            0.761396  \n",
       "21750            0.701352  \n",
       "\n",
       "[31704 rows x 14 columns]"
      ]
     },
     "execution_count": 126,
     "metadata": {},
     "output_type": "execute_result"
    }
   ],
   "source": [
    "train_all"
   ]
  },
  {
   "cell_type": "code",
   "execution_count": 127,
   "metadata": {},
   "outputs": [
    {
     "data": {
      "text/plain": [
       "MinMaxScaler()"
      ]
     },
     "execution_count": 127,
     "metadata": {},
     "output_type": "execute_result"
    }
   ],
   "source": [
    "scaler = MinMaxScaler()\n",
    "measure_scaled = train_all['measure_scaled']\n",
    "scaler.fit(measure_scaled.values.reshape(-1,1))"
   ]
  },
  {
   "cell_type": "code",
   "execution_count": 128,
   "metadata": {},
   "outputs": [],
   "source": [
    "train_all['measure_scaled'] = scaler.transform(train_all['measure_scaled'].values.reshape(-1,1))\n",
    "test_all['measure_scaled'] = scaler.transform(test_all['measure_scaled'].values.reshape(-1,1))\n",
    "val_all['measure_scaled'] = scaler.transform(val_all['measure_scaled'].values.reshape(-1,1))"
   ]
  },
  {
   "cell_type": "code",
   "execution_count": 133,
   "metadata": {},
   "outputs": [],
   "source": [
    "train_all.to_csv('/data/kpusteln/Fetal-RL/data_preparation/data_biometry/ete_model/biometry_scaled_ps/all/biometry_train_scaled_size_all.csv', index=False)\n",
    "test_all.to_csv('/data/kpusteln/Fetal-RL/data_preparation/data_biometry/ete_model/biometry_scaled_ps/all/biometry_test_scaled_size_all.csv', index=False)\n",
    "val_all.to_csv('/data/kpusteln/Fetal-RL/data_preparation/data_biometry/ete_model/biometry_scaled_ps/all/biometry_val_scaled_size_all.csv', index=False)"
   ]
  },
  {
   "cell_type": "code",
   "execution_count": null,
   "metadata": {},
   "outputs": [],
   "source": []
  }
 ],
 "metadata": {
  "kernelspec": {
   "display_name": "swin",
   "language": "python",
   "name": "python3"
  },
  "language_info": {
   "codemirror_mode": {
    "name": "ipython",
    "version": 3
   },
   "file_extension": ".py",
   "mimetype": "text/x-python",
   "name": "python",
   "nbconvert_exporter": "python",
   "pygments_lexer": "ipython3",
   "version": "3.7.12"
  },
  "orig_nbformat": 4,
  "vscode": {
   "interpreter": {
    "hash": "5b772ba6196d99b64d9019a11b57c24f8066632039bdf84a783d1d6c99c4aa12"
   }
  }
 },
 "nbformat": 4,
 "nbformat_minor": 2
}
