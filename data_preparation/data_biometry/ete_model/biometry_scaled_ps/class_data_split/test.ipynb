{
 "cells": [
  {
   "cell_type": "code",
   "execution_count": 2,
   "metadata": {},
   "outputs": [],
   "source": [
    "import torch\n",
    "import torch.nn as nn\n",
    "import torch.utils.checkpoint as checkpoint\n",
    "from torchvision.models import efficientnet_v2_l\n",
    "import pandas as pd\n",
    "import numpy as np\n",
    "import torch.utils.data as data\n",
    "import albumentations as A\n",
    "import torchvision.transforms as transforms\n",
    "from PIL import Image\n",
    "import torchvision\n",
    "import joblib\n",
    "import cv2\n",
    "import matplotlib.pyplot as plt\n",
    "from torch.nn.utils.rnn import pad_sequence\n"
   ]
  },
  {
   "cell_type": "code",
   "execution_count": 10,
   "metadata": {},
   "outputs": [],
   "source": [
    "data_train = pd.read_csv('/data/kpusteln/Fetal-RL/data_preparation/data_biometry/ete_model/biometry_scaled_ps/class_data/biometry_train_all.csv')\n",
    "data_val = pd.read_csv('/data/kpusteln/Fetal-RL/data_preparation/data_biometry/ete_model/biometry_scaled_ps/class_data/biometry_val_all.csv')"
   ]
  },
  {
   "cell_type": "code",
   "execution_count": 13,
   "metadata": {},
   "outputs": [],
   "source": [
    "data_head_train = data_train[(data_train['Class'] == 1) | (data_train['Class'] == 2)]\n",
    "data_abdomen_train = data_train[(data_train['Class'] == 3) | (data_train['Class'] == 4)]\n",
    "data_femur_train = data_train[(data_train['Class'] == 5) | (data_train['Class'] == 6)]\n",
    "\n",
    "# val\n",
    "data_head_val = data_val[(data_val['Class'] == 1) | (data_val['Class'] == 2)]\n",
    "data_abdomen_val = data_val[(data_val['Class'] == 3) | (data_val['Class'] == 4)]\n",
    "data_femur_val = data_val[(data_val['Class'] == 5) | (data_val['Class'] == 6)]\n"
   ]
  },
  {
   "cell_type": "code",
   "execution_count": 14,
   "metadata": {},
   "outputs": [],
   "source": [
    "data_head_train['Class'].replace({1:0, 2:1}, inplace=True)\n",
    "data_head_val['Class'].replace({1:0, 2:1}, inplace=True)\n",
    "\n",
    "data_abdomen_train['Class'].replace({3:0, 4:1}, inplace=True)\n",
    "data_abdomen_val['Class'].replace({3:0, 4:1}, inplace=True)\n",
    "\n",
    "data_femur_train['Class'].replace({5:0, 6:1}, inplace=True)\n",
    "data_femur_val['Class'].replace({5:0, 6:1}, inplace=True)"
   ]
  },
  {
   "cell_type": "code",
   "execution_count": 15,
   "metadata": {},
   "outputs": [
    {
     "data": {
      "text/plain": [
       "0    11928\n",
       "1     1851\n",
       "Name: Class, dtype: int64"
      ]
     },
     "execution_count": 15,
     "metadata": {},
     "output_type": "execute_result"
    }
   ],
   "source": [
    "data_head_train['Class'].value_counts()"
   ]
  },
  {
   "cell_type": "code",
   "execution_count": 137,
   "metadata": {},
   "outputs": [],
   "source": [
    "data_head_train.to_csv('/data/kpusteln/Fetal-RL/data_preparation/data_biometry/ete_model/biometry_scaled_ps/class_data_split/train_head.csv', index=False)\n",
    "data_abdomen_train.to_csv('/data/kpusteln/Fetal-RL/data_preparation/data_biometry/ete_model/biometry_scaled_ps/class_data_split/train_abdomen.csv', index=False)\n",
    "data_femur_train.to_csv('/data/kpusteln/Fetal-RL/data_preparation/data_biometry/ete_model/biometry_scaled_ps/class_data_split/train_femur.csv', index=False)\n",
    "\n",
    "# val\n",
    "\n",
    "data_head_val.to_csv('/data/kpusteln/Fetal-RL/data_preparation/data_biometry/ete_model/biometry_scaled_ps/class_data_split/val_head.csv', index=False)\n",
    "data_abdomen_val.to_csv('/data/kpusteln/Fetal-RL/data_preparation/data_biometry/ete_model/biometry_scaled_ps/class_data_split/val_abdomen.csv', index=False)\n",
    "data_femur_val.to_csv('/data/kpusteln/Fetal-RL/data_preparation/data_biometry/ete_model/biometry_scaled_ps/class_data_split/val_femur.csv', index=False)"
   ]
  },
  {
   "cell_type": "code",
   "execution_count": 128,
   "metadata": {},
   "outputs": [],
   "source": [
    "data_head_train['Class'].value_counts()\n",
    "head_class_weight = torch.FloatTensor([1, 6.44])\n",
    "torch.save(head_class_weight, '/data/kpusteln/Fetal-RL/data_preparation/data_biometry/ete_model/biometry_scaled_ps/class_data_split/head_class_weight.pt')"
   ]
  },
  {
   "cell_type": "code",
   "execution_count": 131,
   "metadata": {},
   "outputs": [],
   "source": [
    "femur_class_weight = torch.FloatTensor([1, 1.3])\n",
    "torch.save(femur_class_weight, '/data/kpusteln/Fetal-RL/data_preparation/data_biometry/ete_model/biometry_scaled_ps/class_data_split/femur_class_weight.pt')"
   ]
  },
  {
   "cell_type": "code",
   "execution_count": 134,
   "metadata": {},
   "outputs": [],
   "source": [
    "abdomen_class_weight = torch.FloatTensor([1, 21.24])\n",
    "torch.save(abdomen_class_weight, '/data/kpusteln/Fetal-RL/data_preparation/data_biometry/ete_model/biometry_scaled_ps/class_data_split/abdomen_class_weight.pt')"
   ]
  },
  {
   "cell_type": "code",
   "execution_count": null,
   "metadata": {},
   "outputs": [],
   "source": []
  }
 ],
 "metadata": {
  "kernelspec": {
   "display_name": "swin",
   "language": "python",
   "name": "python3"
  },
  "language_info": {
   "codemirror_mode": {
    "name": "ipython",
    "version": 3
   },
   "file_extension": ".py",
   "mimetype": "text/x-python",
   "name": "python",
   "nbconvert_exporter": "python",
   "pygments_lexer": "ipython3",
   "version": "3.7.12"
  },
  "orig_nbformat": 4,
  "vscode": {
   "interpreter": {
    "hash": "5b772ba6196d99b64d9019a11b57c24f8066632039bdf84a783d1d6c99c4aa12"
   }
  }
 },
 "nbformat": 4,
 "nbformat_minor": 2
}
