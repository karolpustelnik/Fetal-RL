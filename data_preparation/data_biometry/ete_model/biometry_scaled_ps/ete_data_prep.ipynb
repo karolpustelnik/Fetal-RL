{
 "cells": [
  {
   "cell_type": "code",
   "execution_count": 2,
   "metadata": {},
   "outputs": [],
   "source": [
    "import pandas as pd\n",
    "import numpy as np\n",
    "import torch\n",
    "from collections import Counter\n",
    "import random\n",
    "import scipy.stats\n",
    "from sklearn.preprocessing import MinMaxScaler\n",
    "import joblib"
   ]
  },
  {
   "cell_type": "code",
   "execution_count": 2,
   "metadata": {},
   "outputs": [],
   "source": [
    "data = pd.read_csv('/data/kpusteln/Fetal-RL/data_preparation/outputs/biometry_all_clean.csv')\n",
    "frames = pd.read_csv('/data/kpusteln/Fetal-RL/data_preparation/outputs/frames_n.csv')"
   ]
  },
  {
   "cell_type": "code",
   "execution_count": 3,
   "metadata": {},
   "outputs": [
    {
     "data": {
      "text/html": [
       "<div>\n",
       "<style scoped>\n",
       "    .dataframe tbody tr th:only-of-type {\n",
       "        vertical-align: middle;\n",
       "    }\n",
       "\n",
       "    .dataframe tbody tr th {\n",
       "        vertical-align: top;\n",
       "    }\n",
       "\n",
       "    .dataframe thead th {\n",
       "        text-align: right;\n",
       "    }\n",
       "</style>\n",
       "<table border=\"1\" class=\"dataframe\">\n",
       "  <thead>\n",
       "    <tr style=\"text-align: right;\">\n",
       "      <th></th>\n",
       "      <th>video</th>\n",
       "      <th>frames_n</th>\n",
       "    </tr>\n",
       "  </thead>\n",
       "  <tbody>\n",
       "    <tr>\n",
       "      <th>0</th>\n",
       "      <td>529_3</td>\n",
       "      <td>551</td>\n",
       "    </tr>\n",
       "    <tr>\n",
       "      <th>1</th>\n",
       "      <td>418_3</td>\n",
       "      <td>543</td>\n",
       "    </tr>\n",
       "    <tr>\n",
       "      <th>2</th>\n",
       "      <td>418_2</td>\n",
       "      <td>543</td>\n",
       "    </tr>\n",
       "    <tr>\n",
       "      <th>3</th>\n",
       "      <td>58_3</td>\n",
       "      <td>516</td>\n",
       "    </tr>\n",
       "    <tr>\n",
       "      <th>4</th>\n",
       "      <td>66_3</td>\n",
       "      <td>516</td>\n",
       "    </tr>\n",
       "    <tr>\n",
       "      <th>...</th>\n",
       "      <td>...</td>\n",
       "      <td>...</td>\n",
       "    </tr>\n",
       "    <tr>\n",
       "      <th>1511</th>\n",
       "      <td>641_2</td>\n",
       "      <td>22</td>\n",
       "    </tr>\n",
       "    <tr>\n",
       "      <th>1512</th>\n",
       "      <td>647_2</td>\n",
       "      <td>20</td>\n",
       "    </tr>\n",
       "    <tr>\n",
       "      <th>1513</th>\n",
       "      <td>43_3</td>\n",
       "      <td>16</td>\n",
       "    </tr>\n",
       "    <tr>\n",
       "      <th>1514</th>\n",
       "      <td>651_3</td>\n",
       "      <td>15</td>\n",
       "    </tr>\n",
       "    <tr>\n",
       "      <th>1515</th>\n",
       "      <td>93_2</td>\n",
       "      <td>14</td>\n",
       "    </tr>\n",
       "  </tbody>\n",
       "</table>\n",
       "<p>1516 rows × 2 columns</p>\n",
       "</div>"
      ],
      "text/plain": [
       "      video  frames_n\n",
       "0     529_3       551\n",
       "1     418_3       543\n",
       "2     418_2       543\n",
       "3      58_3       516\n",
       "4      66_3       516\n",
       "...     ...       ...\n",
       "1511  641_2        22\n",
       "1512  647_2        20\n",
       "1513   43_3        16\n",
       "1514  651_3        15\n",
       "1515   93_2        14\n",
       "\n",
       "[1516 rows x 2 columns]"
      ]
     },
     "execution_count": 3,
     "metadata": {},
     "output_type": "execute_result"
    }
   ],
   "source": [
    "frames"
   ]
  },
  {
   "cell_type": "code",
   "execution_count": 4,
   "metadata": {},
   "outputs": [],
   "source": [
    "merged = pd.merge(data, frames, on='video')"
   ]
  },
  {
   "cell_type": "code",
   "execution_count": 5,
   "metadata": {},
   "outputs": [],
   "source": [
    "merged_cut = merged[merged['frames_n']>32]"
   ]
  },
  {
   "cell_type": "code",
   "execution_count": 6,
   "metadata": {},
   "outputs": [
    {
     "data": {
      "text/html": [
       "<div>\n",
       "<style scoped>\n",
       "    .dataframe tbody tr th:only-of-type {\n",
       "        vertical-align: middle;\n",
       "    }\n",
       "\n",
       "    .dataframe tbody tr th {\n",
       "        vertical-align: top;\n",
       "    }\n",
       "\n",
       "    .dataframe thead th {\n",
       "        text-align: right;\n",
       "    }\n",
       "</style>\n",
       "<table border=\"1\" class=\"dataframe\">\n",
       "  <thead>\n",
       "    <tr style=\"text-align: right;\">\n",
       "      <th></th>\n",
       "      <th>index</th>\n",
       "      <th>Class</th>\n",
       "      <th>video</th>\n",
       "      <th>measure</th>\n",
       "      <th>ps</th>\n",
       "      <th>frames_n</th>\n",
       "    </tr>\n",
       "  </thead>\n",
       "  <tbody>\n",
       "    <tr>\n",
       "      <th>0</th>\n",
       "      <td>1_1_1</td>\n",
       "      <td>1</td>\n",
       "      <td>1_1</td>\n",
       "      <td>20.19</td>\n",
       "      <td>0.096716</td>\n",
       "      <td>68</td>\n",
       "    </tr>\n",
       "    <tr>\n",
       "      <th>1</th>\n",
       "      <td>1_1_2</td>\n",
       "      <td>1</td>\n",
       "      <td>1_1</td>\n",
       "      <td>20.19</td>\n",
       "      <td>0.096716</td>\n",
       "      <td>68</td>\n",
       "    </tr>\n",
       "    <tr>\n",
       "      <th>2</th>\n",
       "      <td>1_1_3</td>\n",
       "      <td>1</td>\n",
       "      <td>1_1</td>\n",
       "      <td>20.19</td>\n",
       "      <td>0.096716</td>\n",
       "      <td>68</td>\n",
       "    </tr>\n",
       "    <tr>\n",
       "      <th>3</th>\n",
       "      <td>1_1_4</td>\n",
       "      <td>1</td>\n",
       "      <td>1_1</td>\n",
       "      <td>20.19</td>\n",
       "      <td>0.096716</td>\n",
       "      <td>68</td>\n",
       "    </tr>\n",
       "    <tr>\n",
       "      <th>4</th>\n",
       "      <td>1_1_5</td>\n",
       "      <td>1</td>\n",
       "      <td>1_1</td>\n",
       "      <td>20.19</td>\n",
       "      <td>0.096716</td>\n",
       "      <td>68</td>\n",
       "    </tr>\n",
       "    <tr>\n",
       "      <th>...</th>\n",
       "      <td>...</td>\n",
       "      <td>...</td>\n",
       "      <td>...</td>\n",
       "      <td>...</td>\n",
       "      <td>...</td>\n",
       "      <td>...</td>\n",
       "    </tr>\n",
       "    <tr>\n",
       "      <th>226430</th>\n",
       "      <td>706_3_161</td>\n",
       "      <td>6</td>\n",
       "      <td>706_3</td>\n",
       "      <td>4.56</td>\n",
       "      <td>0.217095</td>\n",
       "      <td>165</td>\n",
       "    </tr>\n",
       "    <tr>\n",
       "      <th>226431</th>\n",
       "      <td>706_3_162</td>\n",
       "      <td>6</td>\n",
       "      <td>706_3</td>\n",
       "      <td>4.56</td>\n",
       "      <td>0.217095</td>\n",
       "      <td>165</td>\n",
       "    </tr>\n",
       "    <tr>\n",
       "      <th>226432</th>\n",
       "      <td>706_3_163</td>\n",
       "      <td>6</td>\n",
       "      <td>706_3</td>\n",
       "      <td>4.56</td>\n",
       "      <td>0.217095</td>\n",
       "      <td>165</td>\n",
       "    </tr>\n",
       "    <tr>\n",
       "      <th>226433</th>\n",
       "      <td>706_3_164</td>\n",
       "      <td>6</td>\n",
       "      <td>706_3</td>\n",
       "      <td>4.56</td>\n",
       "      <td>0.217095</td>\n",
       "      <td>165</td>\n",
       "    </tr>\n",
       "    <tr>\n",
       "      <th>226434</th>\n",
       "      <td>706_3_165</td>\n",
       "      <td>6</td>\n",
       "      <td>706_3</td>\n",
       "      <td>4.56</td>\n",
       "      <td>0.217095</td>\n",
       "      <td>165</td>\n",
       "    </tr>\n",
       "  </tbody>\n",
       "</table>\n",
       "<p>224992 rows × 6 columns</p>\n",
       "</div>"
      ],
      "text/plain": [
       "            index  Class  video  measure        ps  frames_n\n",
       "0           1_1_1      1    1_1    20.19  0.096716        68\n",
       "1           1_1_2      1    1_1    20.19  0.096716        68\n",
       "2           1_1_3      1    1_1    20.19  0.096716        68\n",
       "3           1_1_4      1    1_1    20.19  0.096716        68\n",
       "4           1_1_5      1    1_1    20.19  0.096716        68\n",
       "...           ...    ...    ...      ...       ...       ...\n",
       "226430  706_3_161      6  706_3     4.56  0.217095       165\n",
       "226431  706_3_162      6  706_3     4.56  0.217095       165\n",
       "226432  706_3_163      6  706_3     4.56  0.217095       165\n",
       "226433  706_3_164      6  706_3     4.56  0.217095       165\n",
       "226434  706_3_165      6  706_3     4.56  0.217095       165\n",
       "\n",
       "[224992 rows x 6 columns]"
      ]
     },
     "execution_count": 6,
     "metadata": {},
     "output_type": "execute_result"
    }
   ],
   "source": [
    "merged_cut"
   ]
  },
  {
   "cell_type": "code",
   "execution_count": 7,
   "metadata": {},
   "outputs": [],
   "source": [
    "def probability_mass(data):\n",
    "    \n",
    "    counts = Counter(data) # counting the classes\n",
    "    total = sum(counts.values()) # total number of classes\n",
    "    probability_mass = {k:v/total for k,v in counts.items()} # probability mass of the classes\n",
    "    probability_mass = list(probability_mass.values()) # converting the dictionary to a list\n",
    "    return probability_mass\n",
    "    \n",
    "\n",
    "def train_test_split(data, train_size = 0.7, precision = 0.005):\n",
    "    \"\"\"splitting data into train and test sets keeping the same distribution of classes using wasertein's method\n",
    "    args: data - data frame containing the data\n",
    "    train_size - size of the train set default\n",
    "    precision - determines how close the train set size is to the train_size default 0.005 (the smaller the better, but it may take longer to generate sets)\"\"\"\n",
    "    \n",
    "    print('Splitting data into train and test sets...')\n",
    "    \n",
    "    #data = pd.read_csv(data) # loading the data\n",
    "    wass_dist = 1\n",
    "    videos = list(data['video'].unique()) # list of videos\n",
    "    train_size = int(train_size * len(videos)) # calculating the number of videos in the train set\n",
    "    while wass_dist > precision: # while the wasserstein distance is greater than 0.005\n",
    "        train = random.sample(videos, train_size) # sampling the train set\n",
    "        test = [x for x in videos if x not in train] # sampling the test set\n",
    "        train_set = data.loc[data['video'].isin(train)] # creating the train set\n",
    "        test_set = data.loc[data['video'].isin(test)] # creating the test set\n",
    "        probability_mass_train = probability_mass(train_set['video']) # calculating the probability mass of the train set\n",
    "        probability_mass_test = probability_mass(test_set['video']) # calculating the probability mass of the test set\n",
    "        wass_dist = scipy.stats.wasserstein_distance(probability_mass_train, probability_mass_test) # wasserstein distance between distributions\n",
    "    #train_set.to_csv('/data/kpusteln/Fetal-RL/data_preparation/data_biometry/biometry_train.csv', index = False) # saving the train set\n",
    "    #test_set.to_csv('/data/kpusteln/Fetal-RL/data_preparation/data_biometry/biometry_val.csv', index = False) # saving the test set\n",
    "    \n",
    "    print('Done!')\n",
    "    return train_set, test_set"
   ]
  },
  {
   "cell_type": "code",
   "execution_count": 8,
   "metadata": {},
   "outputs": [
    {
     "name": "stdout",
     "output_type": "stream",
     "text": [
      "Splitting data into train and test sets...\n",
      "Done!\n"
     ]
    }
   ],
   "source": [
    "train_set, test_set = train_test_split(merged_cut, train_size = 0.7, precision = 0.005)"
   ]
  },
  {
   "cell_type": "code",
   "execution_count": 9,
   "metadata": {},
   "outputs": [
    {
     "name": "stdout",
     "output_type": "stream",
     "text": [
      "Splitting data into train and test sets...\n",
      "Done!\n"
     ]
    }
   ],
   "source": [
    "val_set, test_set = train_test_split(test_set, train_size = 0.5, precision = 0.005)"
   ]
  },
  {
   "cell_type": "code",
   "execution_count": 10,
   "metadata": {},
   "outputs": [
    {
     "data": {
      "text/html": [
       "<div>\n",
       "<style scoped>\n",
       "    .dataframe tbody tr th:only-of-type {\n",
       "        vertical-align: middle;\n",
       "    }\n",
       "\n",
       "    .dataframe tbody tr th {\n",
       "        vertical-align: top;\n",
       "    }\n",
       "\n",
       "    .dataframe thead th {\n",
       "        text-align: right;\n",
       "    }\n",
       "</style>\n",
       "<table border=\"1\" class=\"dataframe\">\n",
       "  <thead>\n",
       "    <tr style=\"text-align: right;\">\n",
       "      <th></th>\n",
       "      <th>index</th>\n",
       "      <th>Class</th>\n",
       "      <th>video</th>\n",
       "      <th>measure</th>\n",
       "      <th>ps</th>\n",
       "      <th>frames_n</th>\n",
       "    </tr>\n",
       "  </thead>\n",
       "  <tbody>\n",
       "    <tr>\n",
       "      <th>0</th>\n",
       "      <td>1_1_1</td>\n",
       "      <td>1</td>\n",
       "      <td>1_1</td>\n",
       "      <td>20.19</td>\n",
       "      <td>0.096716</td>\n",
       "      <td>68</td>\n",
       "    </tr>\n",
       "    <tr>\n",
       "      <th>1</th>\n",
       "      <td>1_1_2</td>\n",
       "      <td>1</td>\n",
       "      <td>1_1</td>\n",
       "      <td>20.19</td>\n",
       "      <td>0.096716</td>\n",
       "      <td>68</td>\n",
       "    </tr>\n",
       "    <tr>\n",
       "      <th>2</th>\n",
       "      <td>1_1_3</td>\n",
       "      <td>1</td>\n",
       "      <td>1_1</td>\n",
       "      <td>20.19</td>\n",
       "      <td>0.096716</td>\n",
       "      <td>68</td>\n",
       "    </tr>\n",
       "    <tr>\n",
       "      <th>3</th>\n",
       "      <td>1_1_4</td>\n",
       "      <td>1</td>\n",
       "      <td>1_1</td>\n",
       "      <td>20.19</td>\n",
       "      <td>0.096716</td>\n",
       "      <td>68</td>\n",
       "    </tr>\n",
       "    <tr>\n",
       "      <th>4</th>\n",
       "      <td>1_1_5</td>\n",
       "      <td>1</td>\n",
       "      <td>1_1</td>\n",
       "      <td>20.19</td>\n",
       "      <td>0.096716</td>\n",
       "      <td>68</td>\n",
       "    </tr>\n",
       "    <tr>\n",
       "      <th>...</th>\n",
       "      <td>...</td>\n",
       "      <td>...</td>\n",
       "      <td>...</td>\n",
       "      <td>...</td>\n",
       "      <td>...</td>\n",
       "      <td>...</td>\n",
       "    </tr>\n",
       "    <tr>\n",
       "      <th>226091</th>\n",
       "      <td>703_3_54</td>\n",
       "      <td>5</td>\n",
       "      <td>703_3</td>\n",
       "      <td>6.16</td>\n",
       "      <td>0.180680</td>\n",
       "      <td>58</td>\n",
       "    </tr>\n",
       "    <tr>\n",
       "      <th>226092</th>\n",
       "      <td>703_3_55</td>\n",
       "      <td>5</td>\n",
       "      <td>703_3</td>\n",
       "      <td>6.16</td>\n",
       "      <td>0.180680</td>\n",
       "      <td>58</td>\n",
       "    </tr>\n",
       "    <tr>\n",
       "      <th>226093</th>\n",
       "      <td>703_3_56</td>\n",
       "      <td>5</td>\n",
       "      <td>703_3</td>\n",
       "      <td>6.16</td>\n",
       "      <td>0.180680</td>\n",
       "      <td>58</td>\n",
       "    </tr>\n",
       "    <tr>\n",
       "      <th>226094</th>\n",
       "      <td>703_3_57</td>\n",
       "      <td>5</td>\n",
       "      <td>703_3</td>\n",
       "      <td>6.16</td>\n",
       "      <td>0.180680</td>\n",
       "      <td>58</td>\n",
       "    </tr>\n",
       "    <tr>\n",
       "      <th>226095</th>\n",
       "      <td>703_3_58</td>\n",
       "      <td>5</td>\n",
       "      <td>703_3</td>\n",
       "      <td>6.16</td>\n",
       "      <td>0.180680</td>\n",
       "      <td>58</td>\n",
       "    </tr>\n",
       "  </tbody>\n",
       "</table>\n",
       "<p>31662 rows × 6 columns</p>\n",
       "</div>"
      ],
      "text/plain": [
       "           index  Class  video  measure        ps  frames_n\n",
       "0          1_1_1      1    1_1    20.19  0.096716        68\n",
       "1          1_1_2      1    1_1    20.19  0.096716        68\n",
       "2          1_1_3      1    1_1    20.19  0.096716        68\n",
       "3          1_1_4      1    1_1    20.19  0.096716        68\n",
       "4          1_1_5      1    1_1    20.19  0.096716        68\n",
       "...          ...    ...    ...      ...       ...       ...\n",
       "226091  703_3_54      5  703_3     6.16  0.180680        58\n",
       "226092  703_3_55      5  703_3     6.16  0.180680        58\n",
       "226093  703_3_56      5  703_3     6.16  0.180680        58\n",
       "226094  703_3_57      5  703_3     6.16  0.180680        58\n",
       "226095  703_3_58      5  703_3     6.16  0.180680        58\n",
       "\n",
       "[31662 rows x 6 columns]"
      ]
     },
     "execution_count": 10,
     "metadata": {},
     "output_type": "execute_result"
    }
   ],
   "source": [
    "test_set"
   ]
  },
  {
   "cell_type": "code",
   "execution_count": 23,
   "metadata": {},
   "outputs": [
    {
     "name": "stderr",
     "output_type": "stream",
     "text": [
      "/data/kpusteln/my-envs/swin/lib/python3.7/site-packages/ipykernel_launcher.py:1: SettingWithCopyWarning: \n",
      "A value is trying to be set on a copy of a slice from a DataFrame.\n",
      "Try using .loc[row_indexer,col_indexer] = value instead\n",
      "\n",
      "See the caveats in the documentation: https://pandas.pydata.org/pandas-docs/stable/user_guide/indexing.html#returning-a-view-versus-a-copy\n",
      "  \"\"\"Entry point for launching an IPython kernel.\n"
     ]
    }
   ],
   "source": [
    "train_set['measure_scaled'] = train_set['measure']/train_set['ps']"
   ]
  },
  {
   "cell_type": "code",
   "execution_count": null,
   "metadata": {},
   "outputs": [],
   "source": [
    "measure_scaled = train_set['measure_scaled']"
   ]
  },
  {
   "cell_type": "code",
   "execution_count": 12,
   "metadata": {},
   "outputs": [
    {
     "data": {
      "text/plain": [
       "MinMaxScaler()"
      ]
     },
     "execution_count": 12,
     "metadata": {},
     "output_type": "execute_result"
    }
   ],
   "source": [
    "scaler = MinMaxScaler()\n",
    "scaler.fit(measure_scaled.values.reshape(-1,1))"
   ]
  },
  {
   "cell_type": "code",
   "execution_count": 25,
   "metadata": {},
   "outputs": [
    {
     "name": "stderr",
     "output_type": "stream",
     "text": [
      "/data/kpusteln/my-envs/swin/lib/python3.7/site-packages/ipykernel_launcher.py:1: SettingWithCopyWarning: \n",
      "A value is trying to be set on a copy of a slice from a DataFrame.\n",
      "Try using .loc[row_indexer,col_indexer] = value instead\n",
      "\n",
      "See the caveats in the documentation: https://pandas.pydata.org/pandas-docs/stable/user_guide/indexing.html#returning-a-view-versus-a-copy\n",
      "  \"\"\"Entry point for launching an IPython kernel.\n"
     ]
    }
   ],
   "source": [
    "train_set['measure_scaled'] = scaler.transform(train_set['measure_scaled'].values.reshape(-1,1))"
   ]
  },
  {
   "cell_type": "code",
   "execution_count": 13,
   "metadata": {},
   "outputs": [],
   "source": [
    "test_set['measure_scaled'] = test_set['measure']/test_set['ps']"
   ]
  },
  {
   "cell_type": "code",
   "execution_count": 14,
   "metadata": {},
   "outputs": [],
   "source": [
    "val_set['measure_scaled'] = val_set['measure']/val_set['ps']"
   ]
  },
  {
   "cell_type": "code",
   "execution_count": 16,
   "metadata": {},
   "outputs": [],
   "source": [
    "val_set['measure_scaled'] = scaler.transform(val_set['measure_scaled'].values.reshape(-1,1))"
   ]
  },
  {
   "cell_type": "code",
   "execution_count": 17,
   "metadata": {},
   "outputs": [],
   "source": [
    "test_set['measure_scaled'] = scaler.transform(test_set['measure_scaled'].values.reshape(-1,1))"
   ]
  },
  {
   "cell_type": "code",
   "execution_count": 20,
   "metadata": {},
   "outputs": [
    {
     "data": {
      "text/plain": [
       "['scaler_filename']"
      ]
     },
     "execution_count": 20,
     "metadata": {},
     "output_type": "execute_result"
    }
   ],
   "source": [
    "joblib.dump(scaler, 'scaler_filename')"
   ]
  },
  {
   "cell_type": "code",
   "execution_count": 29,
   "metadata": {},
   "outputs": [],
   "source": [
    "train_set.to_csv('/data/kpusteln/Fetal-RL/data_preparation/data_biometry/biometry_train.csv', index = False) # saving the train set\n",
    "test_set.to_csv('/data/kpusteln/Fetal-RL/data_preparation/data_biometry/biometry_test.csv', index = False) # saving the test set\n",
    "val_set.to_csv('/data/kpusteln/Fetal-RL/data_preparation/data_biometry/biometry_val.csv', index = False) # saving the test set\n"
   ]
  },
  {
   "cell_type": "code",
   "execution_count": 30,
   "metadata": {},
   "outputs": [
    {
     "data": {
      "text/html": [
       "<div>\n",
       "<style scoped>\n",
       "    .dataframe tbody tr th:only-of-type {\n",
       "        vertical-align: middle;\n",
       "    }\n",
       "\n",
       "    .dataframe tbody tr th {\n",
       "        vertical-align: top;\n",
       "    }\n",
       "\n",
       "    .dataframe thead th {\n",
       "        text-align: right;\n",
       "    }\n",
       "</style>\n",
       "<table border=\"1\" class=\"dataframe\">\n",
       "  <thead>\n",
       "    <tr style=\"text-align: right;\">\n",
       "      <th></th>\n",
       "      <th>index</th>\n",
       "      <th>Class</th>\n",
       "      <th>video</th>\n",
       "      <th>measure</th>\n",
       "      <th>ps</th>\n",
       "      <th>frames_n</th>\n",
       "      <th>measure_scaled</th>\n",
       "    </tr>\n",
       "  </thead>\n",
       "  <tbody>\n",
       "    <tr>\n",
       "      <th>431</th>\n",
       "      <td>5_1_1</td>\n",
       "      <td>1</td>\n",
       "      <td>5_1</td>\n",
       "      <td>17.10</td>\n",
       "      <td>0.102237</td>\n",
       "      <td>83</td>\n",
       "      <td>0.740481</td>\n",
       "    </tr>\n",
       "    <tr>\n",
       "      <th>432</th>\n",
       "      <td>5_1_2</td>\n",
       "      <td>1</td>\n",
       "      <td>5_1</td>\n",
       "      <td>17.10</td>\n",
       "      <td>0.102237</td>\n",
       "      <td>83</td>\n",
       "      <td>0.740481</td>\n",
       "    </tr>\n",
       "    <tr>\n",
       "      <th>433</th>\n",
       "      <td>5_1_3</td>\n",
       "      <td>1</td>\n",
       "      <td>5_1</td>\n",
       "      <td>17.10</td>\n",
       "      <td>0.102237</td>\n",
       "      <td>83</td>\n",
       "      <td>0.740481</td>\n",
       "    </tr>\n",
       "    <tr>\n",
       "      <th>434</th>\n",
       "      <td>5_1_4</td>\n",
       "      <td>1</td>\n",
       "      <td>5_1</td>\n",
       "      <td>17.10</td>\n",
       "      <td>0.102237</td>\n",
       "      <td>83</td>\n",
       "      <td>0.740481</td>\n",
       "    </tr>\n",
       "    <tr>\n",
       "      <th>435</th>\n",
       "      <td>5_1_5</td>\n",
       "      <td>1</td>\n",
       "      <td>5_1</td>\n",
       "      <td>17.10</td>\n",
       "      <td>0.102237</td>\n",
       "      <td>83</td>\n",
       "      <td>0.740481</td>\n",
       "    </tr>\n",
       "    <tr>\n",
       "      <th>...</th>\n",
       "      <td>...</td>\n",
       "      <td>...</td>\n",
       "      <td>...</td>\n",
       "      <td>...</td>\n",
       "      <td>...</td>\n",
       "      <td>...</td>\n",
       "      <td>...</td>\n",
       "    </tr>\n",
       "    <tr>\n",
       "      <th>226430</th>\n",
       "      <td>706_3_161</td>\n",
       "      <td>6</td>\n",
       "      <td>706_3</td>\n",
       "      <td>4.56</td>\n",
       "      <td>0.217095</td>\n",
       "      <td>165</td>\n",
       "      <td>0.049686</td>\n",
       "    </tr>\n",
       "    <tr>\n",
       "      <th>226431</th>\n",
       "      <td>706_3_162</td>\n",
       "      <td>6</td>\n",
       "      <td>706_3</td>\n",
       "      <td>4.56</td>\n",
       "      <td>0.217095</td>\n",
       "      <td>165</td>\n",
       "      <td>0.049686</td>\n",
       "    </tr>\n",
       "    <tr>\n",
       "      <th>226432</th>\n",
       "      <td>706_3_163</td>\n",
       "      <td>6</td>\n",
       "      <td>706_3</td>\n",
       "      <td>4.56</td>\n",
       "      <td>0.217095</td>\n",
       "      <td>165</td>\n",
       "      <td>0.049686</td>\n",
       "    </tr>\n",
       "    <tr>\n",
       "      <th>226433</th>\n",
       "      <td>706_3_164</td>\n",
       "      <td>6</td>\n",
       "      <td>706_3</td>\n",
       "      <td>4.56</td>\n",
       "      <td>0.217095</td>\n",
       "      <td>165</td>\n",
       "      <td>0.049686</td>\n",
       "    </tr>\n",
       "    <tr>\n",
       "      <th>226434</th>\n",
       "      <td>706_3_165</td>\n",
       "      <td>6</td>\n",
       "      <td>706_3</td>\n",
       "      <td>4.56</td>\n",
       "      <td>0.217095</td>\n",
       "      <td>165</td>\n",
       "      <td>0.049686</td>\n",
       "    </tr>\n",
       "  </tbody>\n",
       "</table>\n",
       "<p>158201 rows × 7 columns</p>\n",
       "</div>"
      ],
      "text/plain": [
       "            index  Class  video  measure        ps  frames_n  measure_scaled\n",
       "431         5_1_1      1    5_1    17.10  0.102237        83        0.740481\n",
       "432         5_1_2      1    5_1    17.10  0.102237        83        0.740481\n",
       "433         5_1_3      1    5_1    17.10  0.102237        83        0.740481\n",
       "434         5_1_4      1    5_1    17.10  0.102237        83        0.740481\n",
       "435         5_1_5      1    5_1    17.10  0.102237        83        0.740481\n",
       "...           ...    ...    ...      ...       ...       ...             ...\n",
       "226430  706_3_161      6  706_3     4.56  0.217095       165        0.049686\n",
       "226431  706_3_162      6  706_3     4.56  0.217095       165        0.049686\n",
       "226432  706_3_163      6  706_3     4.56  0.217095       165        0.049686\n",
       "226433  706_3_164      6  706_3     4.56  0.217095       165        0.049686\n",
       "226434  706_3_165      6  706_3     4.56  0.217095       165        0.049686\n",
       "\n",
       "[158201 rows x 7 columns]"
      ]
     },
     "execution_count": 30,
     "metadata": {},
     "output_type": "execute_result"
    }
   ],
   "source": [
    "train_set"
   ]
  },
  {
   "cell_type": "code",
   "execution_count": 2,
   "metadata": {},
   "outputs": [],
   "source": [
    "train_set = pd.read_csv('/data/kpusteln/Fetal-RL/data_preparation/data_biometry/biometry_train.csv')\n",
    "test_set = pd.read_csv('/data/kpusteln/Fetal-RL/data_preparation/data_biometry/biometry_test.csv')\n",
    "val_set = pd.read_csv('/data/kpusteln/Fetal-RL/data_preparation/data_biometry/biometry_val.csv')"
   ]
  },
  {
   "cell_type": "code",
   "execution_count": 10,
   "metadata": {},
   "outputs": [],
   "source": [
    "train_videos = pd.DataFrame(train_videos)\n",
    "test_videos = pd.DataFrame(test_videos)\n",
    "val_videos = pd.DataFrame(val_videos)"
   ]
  },
  {
   "cell_type": "code",
   "execution_count": 14,
   "metadata": {},
   "outputs": [],
   "source": [
    "train_videos.to_csv('/data/kpusteln/Fetal-RL/data_preparation/data_biometry/train_videos.csv', index = False)\n",
    "test_videos.to_csv('/data/kpusteln/Fetal-RL/data_preparation/data_biometry/test_videos.csv', index = False)\n",
    "val_videos.to_csv('/data/kpusteln/Fetal-RL/data_preparation/data_biometry/val_videos.csv', index = False)"
   ]
  },
  {
   "cell_type": "code",
   "execution_count": 17,
   "metadata": {},
   "outputs": [
    {
     "data": {
      "text/html": [
       "<div>\n",
       "<style scoped>\n",
       "    .dataframe tbody tr th:only-of-type {\n",
       "        vertical-align: middle;\n",
       "    }\n",
       "\n",
       "    .dataframe tbody tr th {\n",
       "        vertical-align: top;\n",
       "    }\n",
       "\n",
       "    .dataframe thead th {\n",
       "        text-align: right;\n",
       "    }\n",
       "</style>\n",
       "<table border=\"1\" class=\"dataframe\">\n",
       "  <thead>\n",
       "    <tr style=\"text-align: right;\">\n",
       "      <th></th>\n",
       "      <th>index</th>\n",
       "      <th>Class</th>\n",
       "      <th>video</th>\n",
       "      <th>measure</th>\n",
       "      <th>ps</th>\n",
       "      <th>frames_n</th>\n",
       "      <th>measure_scaled</th>\n",
       "    </tr>\n",
       "  </thead>\n",
       "  <tbody>\n",
       "    <tr>\n",
       "      <th>0</th>\n",
       "      <td>5_1_1</td>\n",
       "      <td>1</td>\n",
       "      <td>5_1</td>\n",
       "      <td>17.10</td>\n",
       "      <td>0.102237</td>\n",
       "      <td>83</td>\n",
       "      <td>0.740481</td>\n",
       "    </tr>\n",
       "    <tr>\n",
       "      <th>1</th>\n",
       "      <td>5_1_2</td>\n",
       "      <td>1</td>\n",
       "      <td>5_1</td>\n",
       "      <td>17.10</td>\n",
       "      <td>0.102237</td>\n",
       "      <td>83</td>\n",
       "      <td>0.740481</td>\n",
       "    </tr>\n",
       "    <tr>\n",
       "      <th>2</th>\n",
       "      <td>5_1_3</td>\n",
       "      <td>1</td>\n",
       "      <td>5_1</td>\n",
       "      <td>17.10</td>\n",
       "      <td>0.102237</td>\n",
       "      <td>83</td>\n",
       "      <td>0.740481</td>\n",
       "    </tr>\n",
       "    <tr>\n",
       "      <th>3</th>\n",
       "      <td>5_1_4</td>\n",
       "      <td>1</td>\n",
       "      <td>5_1</td>\n",
       "      <td>17.10</td>\n",
       "      <td>0.102237</td>\n",
       "      <td>83</td>\n",
       "      <td>0.740481</td>\n",
       "    </tr>\n",
       "    <tr>\n",
       "      <th>4</th>\n",
       "      <td>5_1_5</td>\n",
       "      <td>1</td>\n",
       "      <td>5_1</td>\n",
       "      <td>17.10</td>\n",
       "      <td>0.102237</td>\n",
       "      <td>83</td>\n",
       "      <td>0.740481</td>\n",
       "    </tr>\n",
       "    <tr>\n",
       "      <th>...</th>\n",
       "      <td>...</td>\n",
       "      <td>...</td>\n",
       "      <td>...</td>\n",
       "      <td>...</td>\n",
       "      <td>...</td>\n",
       "      <td>...</td>\n",
       "      <td>...</td>\n",
       "    </tr>\n",
       "    <tr>\n",
       "      <th>158196</th>\n",
       "      <td>706_3_161</td>\n",
       "      <td>6</td>\n",
       "      <td>706_3</td>\n",
       "      <td>4.56</td>\n",
       "      <td>0.217095</td>\n",
       "      <td>165</td>\n",
       "      <td>0.049686</td>\n",
       "    </tr>\n",
       "    <tr>\n",
       "      <th>158197</th>\n",
       "      <td>706_3_162</td>\n",
       "      <td>6</td>\n",
       "      <td>706_3</td>\n",
       "      <td>4.56</td>\n",
       "      <td>0.217095</td>\n",
       "      <td>165</td>\n",
       "      <td>0.049686</td>\n",
       "    </tr>\n",
       "    <tr>\n",
       "      <th>158198</th>\n",
       "      <td>706_3_163</td>\n",
       "      <td>6</td>\n",
       "      <td>706_3</td>\n",
       "      <td>4.56</td>\n",
       "      <td>0.217095</td>\n",
       "      <td>165</td>\n",
       "      <td>0.049686</td>\n",
       "    </tr>\n",
       "    <tr>\n",
       "      <th>158199</th>\n",
       "      <td>706_3_164</td>\n",
       "      <td>6</td>\n",
       "      <td>706_3</td>\n",
       "      <td>4.56</td>\n",
       "      <td>0.217095</td>\n",
       "      <td>165</td>\n",
       "      <td>0.049686</td>\n",
       "    </tr>\n",
       "    <tr>\n",
       "      <th>158200</th>\n",
       "      <td>706_3_165</td>\n",
       "      <td>6</td>\n",
       "      <td>706_3</td>\n",
       "      <td>4.56</td>\n",
       "      <td>0.217095</td>\n",
       "      <td>165</td>\n",
       "      <td>0.049686</td>\n",
       "    </tr>\n",
       "  </tbody>\n",
       "</table>\n",
       "<p>158201 rows × 7 columns</p>\n",
       "</div>"
      ],
      "text/plain": [
       "            index  Class  video  measure        ps  frames_n  measure_scaled\n",
       "0           5_1_1      1    5_1    17.10  0.102237        83        0.740481\n",
       "1           5_1_2      1    5_1    17.10  0.102237        83        0.740481\n",
       "2           5_1_3      1    5_1    17.10  0.102237        83        0.740481\n",
       "3           5_1_4      1    5_1    17.10  0.102237        83        0.740481\n",
       "4           5_1_5      1    5_1    17.10  0.102237        83        0.740481\n",
       "...           ...    ...    ...      ...       ...       ...             ...\n",
       "158196  706_3_161      6  706_3     4.56  0.217095       165        0.049686\n",
       "158197  706_3_162      6  706_3     4.56  0.217095       165        0.049686\n",
       "158198  706_3_163      6  706_3     4.56  0.217095       165        0.049686\n",
       "158199  706_3_164      6  706_3     4.56  0.217095       165        0.049686\n",
       "158200  706_3_165      6  706_3     4.56  0.217095       165        0.049686\n",
       "\n",
       "[158201 rows x 7 columns]"
      ]
     },
     "execution_count": 17,
     "metadata": {},
     "output_type": "execute_result"
    }
   ],
   "source": [
    "train_set"
   ]
  },
  {
   "cell_type": "code",
   "execution_count": 19,
   "metadata": {},
   "outputs": [
    {
     "data": {
      "text/plain": [
       "'5_1'"
      ]
     },
     "execution_count": 19,
     "metadata": {},
     "output_type": "execute_result"
    }
   ],
   "source": [
    "vid = train_set['video'][0]\n",
    "vid"
   ]
  },
  {
   "cell_type": "code",
   "execution_count": 3,
   "metadata": {},
   "outputs": [],
   "source": [
    "train = pd.read_csv('/data/kpusteln/Fetal-RL/data_preparation/data_biometry/ete_model/biometry_scaled_ps/biometry_train_scaled_size.csv')\n",
    "test = pd.read_csv('/data/kpusteln/Fetal-RL/data_preparation/data_biometry/ete_model/biometry_scaled_ps/biometry_test_scaled_size.csv')\n",
    "\n",
    "val = pd.read_csv('/data/kpusteln/Fetal-RL/data_preparation/data_biometry/ete_model/biometry_scaled_ps/biometry_val_scaled_size.csv')"
   ]
  },
  {
   "cell_type": "code",
   "execution_count": 4,
   "metadata": {},
   "outputs": [
    {
     "data": {
      "text/html": [
       "<div>\n",
       "<style scoped>\n",
       "    .dataframe tbody tr th:only-of-type {\n",
       "        vertical-align: middle;\n",
       "    }\n",
       "\n",
       "    .dataframe tbody tr th {\n",
       "        vertical-align: top;\n",
       "    }\n",
       "\n",
       "    .dataframe thead th {\n",
       "        text-align: right;\n",
       "    }\n",
       "</style>\n",
       "<table border=\"1\" class=\"dataframe\">\n",
       "  <thead>\n",
       "    <tr style=\"text-align: right;\">\n",
       "      <th></th>\n",
       "      <th>index</th>\n",
       "      <th>Class</th>\n",
       "      <th>video</th>\n",
       "      <th>measures</th>\n",
       "      <th>ps</th>\n",
       "      <th>frames_n</th>\n",
       "      <th>measure_scaled</th>\n",
       "      <th>days</th>\n",
       "      <th>frame_loc</th>\n",
       "      <th>height</th>\n",
       "      <th>width</th>\n",
       "      <th>height_org</th>\n",
       "      <th>width_org</th>\n",
       "      <th>measure_normalized</th>\n",
       "    </tr>\n",
       "  </thead>\n",
       "  <tbody>\n",
       "    <tr>\n",
       "      <th>0</th>\n",
       "      <td>5_1_1</td>\n",
       "      <td>1</td>\n",
       "      <td>5_1</td>\n",
       "      <td>17.10</td>\n",
       "      <td>0.102237</td>\n",
       "      <td>83</td>\n",
       "      <td>0.740481</td>\n",
       "      <td>0.214286</td>\n",
       "      <td>0.012048</td>\n",
       "      <td>73.61064</td>\n",
       "      <td>98.14752</td>\n",
       "      <td>720</td>\n",
       "      <td>960</td>\n",
       "      <td>0.476894</td>\n",
       "    </tr>\n",
       "    <tr>\n",
       "      <th>1</th>\n",
       "      <td>5_1_2</td>\n",
       "      <td>1</td>\n",
       "      <td>5_1</td>\n",
       "      <td>17.10</td>\n",
       "      <td>0.102237</td>\n",
       "      <td>83</td>\n",
       "      <td>0.740481</td>\n",
       "      <td>0.214286</td>\n",
       "      <td>0.024096</td>\n",
       "      <td>73.61064</td>\n",
       "      <td>98.14752</td>\n",
       "      <td>720</td>\n",
       "      <td>960</td>\n",
       "      <td>0.476894</td>\n",
       "    </tr>\n",
       "    <tr>\n",
       "      <th>2</th>\n",
       "      <td>5_1_3</td>\n",
       "      <td>1</td>\n",
       "      <td>5_1</td>\n",
       "      <td>17.10</td>\n",
       "      <td>0.102237</td>\n",
       "      <td>83</td>\n",
       "      <td>0.740481</td>\n",
       "      <td>0.214286</td>\n",
       "      <td>0.036145</td>\n",
       "      <td>73.61064</td>\n",
       "      <td>98.14752</td>\n",
       "      <td>720</td>\n",
       "      <td>960</td>\n",
       "      <td>0.476894</td>\n",
       "    </tr>\n",
       "    <tr>\n",
       "      <th>3</th>\n",
       "      <td>5_1_4</td>\n",
       "      <td>1</td>\n",
       "      <td>5_1</td>\n",
       "      <td>17.10</td>\n",
       "      <td>0.102237</td>\n",
       "      <td>83</td>\n",
       "      <td>0.740481</td>\n",
       "      <td>0.214286</td>\n",
       "      <td>0.048193</td>\n",
       "      <td>73.61064</td>\n",
       "      <td>98.14752</td>\n",
       "      <td>720</td>\n",
       "      <td>960</td>\n",
       "      <td>0.476894</td>\n",
       "    </tr>\n",
       "    <tr>\n",
       "      <th>4</th>\n",
       "      <td>5_1_5</td>\n",
       "      <td>1</td>\n",
       "      <td>5_1</td>\n",
       "      <td>17.10</td>\n",
       "      <td>0.102237</td>\n",
       "      <td>83</td>\n",
       "      <td>0.740481</td>\n",
       "      <td>0.214286</td>\n",
       "      <td>0.060241</td>\n",
       "      <td>73.61064</td>\n",
       "      <td>98.14752</td>\n",
       "      <td>720</td>\n",
       "      <td>960</td>\n",
       "      <td>0.476894</td>\n",
       "    </tr>\n",
       "    <tr>\n",
       "      <th>...</th>\n",
       "      <td>...</td>\n",
       "      <td>...</td>\n",
       "      <td>...</td>\n",
       "      <td>...</td>\n",
       "      <td>...</td>\n",
       "      <td>...</td>\n",
       "      <td>...</td>\n",
       "      <td>...</td>\n",
       "      <td>...</td>\n",
       "      <td>...</td>\n",
       "      <td>...</td>\n",
       "      <td>...</td>\n",
       "      <td>...</td>\n",
       "      <td>...</td>\n",
       "    </tr>\n",
       "    <tr>\n",
       "      <th>157863</th>\n",
       "      <td>705_3_72</td>\n",
       "      <td>6</td>\n",
       "      <td>705_3</td>\n",
       "      <td>4.83</td>\n",
       "      <td>0.167642</td>\n",
       "      <td>76</td>\n",
       "      <td>0.086560</td>\n",
       "      <td>0.435065</td>\n",
       "      <td>0.947368</td>\n",
       "      <td>120.70224</td>\n",
       "      <td>160.93632</td>\n",
       "      <td>720</td>\n",
       "      <td>960</td>\n",
       "      <td>0.091166</td>\n",
       "    </tr>\n",
       "    <tr>\n",
       "      <th>157864</th>\n",
       "      <td>705_3_73</td>\n",
       "      <td>6</td>\n",
       "      <td>705_3</td>\n",
       "      <td>4.83</td>\n",
       "      <td>0.167642</td>\n",
       "      <td>76</td>\n",
       "      <td>0.086560</td>\n",
       "      <td>0.435065</td>\n",
       "      <td>0.960526</td>\n",
       "      <td>120.70224</td>\n",
       "      <td>160.93632</td>\n",
       "      <td>720</td>\n",
       "      <td>960</td>\n",
       "      <td>0.091166</td>\n",
       "    </tr>\n",
       "    <tr>\n",
       "      <th>157865</th>\n",
       "      <td>705_3_74</td>\n",
       "      <td>6</td>\n",
       "      <td>705_3</td>\n",
       "      <td>4.83</td>\n",
       "      <td>0.167642</td>\n",
       "      <td>76</td>\n",
       "      <td>0.086560</td>\n",
       "      <td>0.435065</td>\n",
       "      <td>0.973684</td>\n",
       "      <td>120.70224</td>\n",
       "      <td>160.93632</td>\n",
       "      <td>720</td>\n",
       "      <td>960</td>\n",
       "      <td>0.091166</td>\n",
       "    </tr>\n",
       "    <tr>\n",
       "      <th>157866</th>\n",
       "      <td>705_3_75</td>\n",
       "      <td>6</td>\n",
       "      <td>705_3</td>\n",
       "      <td>4.83</td>\n",
       "      <td>0.167642</td>\n",
       "      <td>76</td>\n",
       "      <td>0.086560</td>\n",
       "      <td>0.435065</td>\n",
       "      <td>0.986842</td>\n",
       "      <td>120.70224</td>\n",
       "      <td>160.93632</td>\n",
       "      <td>720</td>\n",
       "      <td>960</td>\n",
       "      <td>0.091166</td>\n",
       "    </tr>\n",
       "    <tr>\n",
       "      <th>157867</th>\n",
       "      <td>705_3_76</td>\n",
       "      <td>6</td>\n",
       "      <td>705_3</td>\n",
       "      <td>4.83</td>\n",
       "      <td>0.167642</td>\n",
       "      <td>76</td>\n",
       "      <td>0.086560</td>\n",
       "      <td>0.435065</td>\n",
       "      <td>1.000000</td>\n",
       "      <td>120.70224</td>\n",
       "      <td>160.93632</td>\n",
       "      <td>720</td>\n",
       "      <td>960</td>\n",
       "      <td>0.091166</td>\n",
       "    </tr>\n",
       "  </tbody>\n",
       "</table>\n",
       "<p>157868 rows × 14 columns</p>\n",
       "</div>"
      ],
      "text/plain": [
       "           index  Class  video  measures        ps  frames_n  measure_scaled  \\\n",
       "0          5_1_1      1    5_1     17.10  0.102237        83        0.740481   \n",
       "1          5_1_2      1    5_1     17.10  0.102237        83        0.740481   \n",
       "2          5_1_3      1    5_1     17.10  0.102237        83        0.740481   \n",
       "3          5_1_4      1    5_1     17.10  0.102237        83        0.740481   \n",
       "4          5_1_5      1    5_1     17.10  0.102237        83        0.740481   \n",
       "...          ...    ...    ...       ...       ...       ...             ...   \n",
       "157863  705_3_72      6  705_3      4.83  0.167642        76        0.086560   \n",
       "157864  705_3_73      6  705_3      4.83  0.167642        76        0.086560   \n",
       "157865  705_3_74      6  705_3      4.83  0.167642        76        0.086560   \n",
       "157866  705_3_75      6  705_3      4.83  0.167642        76        0.086560   \n",
       "157867  705_3_76      6  705_3      4.83  0.167642        76        0.086560   \n",
       "\n",
       "            days  frame_loc     height      width  height_org  width_org  \\\n",
       "0       0.214286   0.012048   73.61064   98.14752         720        960   \n",
       "1       0.214286   0.024096   73.61064   98.14752         720        960   \n",
       "2       0.214286   0.036145   73.61064   98.14752         720        960   \n",
       "3       0.214286   0.048193   73.61064   98.14752         720        960   \n",
       "4       0.214286   0.060241   73.61064   98.14752         720        960   \n",
       "...          ...        ...        ...        ...         ...        ...   \n",
       "157863  0.435065   0.947368  120.70224  160.93632         720        960   \n",
       "157864  0.435065   0.960526  120.70224  160.93632         720        960   \n",
       "157865  0.435065   0.973684  120.70224  160.93632         720        960   \n",
       "157866  0.435065   0.986842  120.70224  160.93632         720        960   \n",
       "157867  0.435065   1.000000  120.70224  160.93632         720        960   \n",
       "\n",
       "        measure_normalized  \n",
       "0                 0.476894  \n",
       "1                 0.476894  \n",
       "2                 0.476894  \n",
       "3                 0.476894  \n",
       "4                 0.476894  \n",
       "...                    ...  \n",
       "157863            0.091166  \n",
       "157864            0.091166  \n",
       "157865            0.091166  \n",
       "157866            0.091166  \n",
       "157867            0.091166  \n",
       "\n",
       "[157868 rows x 14 columns]"
      ]
     },
     "execution_count": 4,
     "metadata": {},
     "output_type": "execute_result"
    }
   ],
   "source": [
    "train"
   ]
  },
  {
   "cell_type": "code",
   "execution_count": 5,
   "metadata": {},
   "outputs": [],
   "source": [
    "# filter only standard planes\n",
    "\n",
    "test = test[(test['Class'] == 2) | (test['Class'] == 4) | (test['Class'] == 6)]\n",
    "train = train[(train['Class'] == 2) | (train['Class'] == 4) | (train['Class'] == 6)]\n",
    "val = val[(val['Class'] == 2) | (val['Class'] == 4) | (val['Class'] == 6)]"
   ]
  },
  {
   "cell_type": "code",
   "execution_count": 126,
   "metadata": {},
   "outputs": [],
   "source": [
    "train_org = pd.read_csv('/data/kpusteln/Fetal-RL/data_preparation/data_biometry/ete_model/biometry_train.csv')\n",
    "test_org = pd.read_csv('/data/kpusteln/Fetal-RL/data_preparation/data_biometry/ete_model/biometry_test.csv')\n",
    "\n",
    "val_org = pd.read_csv('/data/kpusteln/Fetal-RL/data_preparation/data_biometry/ete_model/biometry_val.csv')"
   ]
  },
  {
   "cell_type": "code",
   "execution_count": 127,
   "metadata": {},
   "outputs": [],
   "source": [
    "train['days'] = train_org['days']\n",
    "test['days'] = test_org['days']\n",
    "val['days'] = val_org['days']"
   ]
  },
  {
   "cell_type": "code",
   "execution_count": 129,
   "metadata": {},
   "outputs": [
    {
     "name": "stderr",
     "output_type": "stream",
     "text": [
      "/data/kpusteln/my-envs/swin/lib/python3.7/site-packages/ipykernel_launcher.py:1: SettingWithCopyWarning: \n",
      "A value is trying to be set on a copy of a slice from a DataFrame.\n",
      "Try using .loc[row_indexer,col_indexer] = value instead\n",
      "\n",
      "See the caveats in the documentation: https://pandas.pydata.org/pandas-docs/stable/user_guide/indexing.html#returning-a-view-versus-a-copy\n",
      "  \"\"\"Entry point for launching an IPython kernel.\n"
     ]
    }
   ],
   "source": [
    "train['measure_scaled'] = train['measures']/train['ps']\n",
    "test['measure_scaled'] = test['measures']/test['ps']\n",
    "val['measure_scaled'] = val['measures']/val['ps']"
   ]
  },
  {
   "cell_type": "code",
   "execution_count": 131,
   "metadata": {},
   "outputs": [
    {
     "data": {
      "text/plain": [
       "MinMaxScaler()"
      ]
     },
     "execution_count": 131,
     "metadata": {},
     "output_type": "execute_result"
    }
   ],
   "source": [
    "scaler = MinMaxScaler()\n",
    "measure_scaled = train['measure_scaled']\n",
    "scaler.fit(measure_scaled.values.reshape(-1,1))"
   ]
  },
  {
   "cell_type": "code",
   "execution_count": 132,
   "metadata": {},
   "outputs": [
    {
     "name": "stderr",
     "output_type": "stream",
     "text": [
      "/data/kpusteln/my-envs/swin/lib/python3.7/site-packages/ipykernel_launcher.py:1: SettingWithCopyWarning: \n",
      "A value is trying to be set on a copy of a slice from a DataFrame.\n",
      "Try using .loc[row_indexer,col_indexer] = value instead\n",
      "\n",
      "See the caveats in the documentation: https://pandas.pydata.org/pandas-docs/stable/user_guide/indexing.html#returning-a-view-versus-a-copy\n",
      "  \"\"\"Entry point for launching an IPython kernel.\n"
     ]
    }
   ],
   "source": [
    "train['measure_scaled'] = scaler.transform(train['measure_scaled'].values.reshape(-1,1))\n",
    "test['measure_scaled'] = scaler.transform(test['measure_scaled'].values.reshape(-1,1))\n",
    "val['measure_scaled'] = scaler.transform(val['measure_scaled'].values.reshape(-1,1))"
   ]
  },
  {
   "cell_type": "code",
   "execution_count": 133,
   "metadata": {},
   "outputs": [
    {
     "data": {
      "text/plain": [
       "array([[149.17173063],\n",
       "       [149.17173063],\n",
       "       [149.17173063],\n",
       "       ...,\n",
       "       [ 28.81139571],\n",
       "       [ 28.81139571],\n",
       "       [ 28.81139571]])"
      ]
     },
     "execution_count": 133,
     "metadata": {},
     "output_type": "execute_result"
    }
   ],
   "source": [
    "scaler.inverse_transform(train['measure_scaled'].values.reshape(-1,1))"
   ]
  },
  {
   "cell_type": "code",
   "execution_count": 134,
   "metadata": {},
   "outputs": [
    {
     "data": {
      "text/plain": [
       "['normalizer_measure']"
      ]
     },
     "execution_count": 134,
     "metadata": {},
     "output_type": "execute_result"
    }
   ],
   "source": [
    "joblib.dump(scaler, 'normalizer_measure')"
   ]
  },
  {
   "cell_type": "code",
   "execution_count": 135,
   "metadata": {},
   "outputs": [
    {
     "data": {
      "text/plain": [
       "MinMaxScaler()"
      ]
     },
     "execution_count": 135,
     "metadata": {},
     "output_type": "execute_result"
    }
   ],
   "source": [
    "scaler = MinMaxScaler()\n",
    "measure_normalized = train['measures']\n",
    "scaler.fit(measure_normalized.values.reshape(-1,1))"
   ]
  },
  {
   "cell_type": "code",
   "execution_count": 136,
   "metadata": {},
   "outputs": [
    {
     "name": "stderr",
     "output_type": "stream",
     "text": [
      "/data/kpusteln/my-envs/swin/lib/python3.7/site-packages/ipykernel_launcher.py:1: SettingWithCopyWarning: \n",
      "A value is trying to be set on a copy of a slice from a DataFrame.\n",
      "Try using .loc[row_indexer,col_indexer] = value instead\n",
      "\n",
      "See the caveats in the documentation: https://pandas.pydata.org/pandas-docs/stable/user_guide/indexing.html#returning-a-view-versus-a-copy\n",
      "  \"\"\"Entry point for launching an IPython kernel.\n"
     ]
    }
   ],
   "source": [
    "train['measure_normalized'] = scaler.transform(train['measures'].values.reshape(-1,1))\n",
    "test['measure_normalized'] = scaler.transform(test['measures'].values.reshape(-1,1))\n",
    "val['measure_normalized'] = scaler.transform(val['measures'].values.reshape(-1,1))"
   ]
  },
  {
   "cell_type": "code",
   "execution_count": 137,
   "metadata": {},
   "outputs": [
    {
     "data": {
      "text/plain": [
       "['normalizer_measure_img_scaling']"
      ]
     },
     "execution_count": 137,
     "metadata": {},
     "output_type": "execute_result"
    }
   ],
   "source": [
    "joblib.dump(scaler, 'normalizer_measure_img_scaling')"
   ]
  },
  {
   "cell_type": "code",
   "execution_count": 138,
   "metadata": {},
   "outputs": [
    {
     "data": {
      "text/plain": [
       "array([[17.92],\n",
       "       [17.92],\n",
       "       [17.92],\n",
       "       ...,\n",
       "       [ 4.83],\n",
       "       [ 4.83],\n",
       "       [ 4.83]])"
      ]
     },
     "execution_count": 138,
     "metadata": {},
     "output_type": "execute_result"
    }
   ],
   "source": [
    "scaler.inverse_transform(train['measure_normalized'].values.reshape(-1,1))"
   ]
  },
  {
   "cell_type": "code",
   "execution_count": 139,
   "metadata": {},
   "outputs": [
    {
     "data": {
      "text/plain": [
       "MinMaxScaler()"
      ]
     },
     "execution_count": 139,
     "metadata": {},
     "output_type": "execute_result"
    }
   ],
   "source": [
    "scaler = MinMaxScaler()\n",
    "days_normalized = train['days']\n",
    "scaler.fit(days_normalized.values.reshape(-1,1))"
   ]
  },
  {
   "cell_type": "code",
   "execution_count": 140,
   "metadata": {},
   "outputs": [
    {
     "name": "stderr",
     "output_type": "stream",
     "text": [
      "/data/kpusteln/my-envs/swin/lib/python3.7/site-packages/ipykernel_launcher.py:1: SettingWithCopyWarning: \n",
      "A value is trying to be set on a copy of a slice from a DataFrame.\n",
      "Try using .loc[row_indexer,col_indexer] = value instead\n",
      "\n",
      "See the caveats in the documentation: https://pandas.pydata.org/pandas-docs/stable/user_guide/indexing.html#returning-a-view-versus-a-copy\n",
      "  \"\"\"Entry point for launching an IPython kernel.\n"
     ]
    }
   ],
   "source": [
    "train['days'] = scaler.transform(train['days'].values.reshape(-1,1))\n",
    "test['days'] = scaler.transform(test['days'].values.reshape(-1,1))\n",
    "val['days'] = scaler.transform(val['days'].values.reshape(-1,1))"
   ]
  },
  {
   "cell_type": "code",
   "execution_count": 141,
   "metadata": {},
   "outputs": [
    {
     "data": {
      "text/plain": [
       "array([[147.],\n",
       "       [147.],\n",
       "       [147.],\n",
       "       ...,\n",
       "       [178.],\n",
       "       [178.],\n",
       "       [178.]])"
      ]
     },
     "execution_count": 141,
     "metadata": {},
     "output_type": "execute_result"
    }
   ],
   "source": [
    "scaler.inverse_transform(train['days'].values.reshape(-1,1))"
   ]
  },
  {
   "cell_type": "code",
   "execution_count": 142,
   "metadata": {},
   "outputs": [],
   "source": [
    "train.to_csv('/data/kpusteln/Fetal-RL/data_preparation/data_biometry/ete_model/biometry_scaled_ps/biometry_train_scaled_size_subset.csv', index = False)\n",
    "val.to_csv('/data/kpusteln/Fetal-RL/data_preparation/data_biometry/ete_model/biometry_scaled_ps/biometry_val_scaled_size_subset.csv', index = False)\n",
    "test.to_csv('/data/kpusteln/Fetal-RL/data_preparation/data_biometry/ete_model/biometry_scaled_ps/biometry_test_scaled_size_subset.csv', index = False)"
   ]
  }
 ],
 "metadata": {
  "kernelspec": {
   "display_name": "swin",
   "language": "python",
   "name": "python3"
  },
  "language_info": {
   "codemirror_mode": {
    "name": "ipython",
    "version": 3
   },
   "file_extension": ".py",
   "mimetype": "text/x-python",
   "name": "python",
   "nbconvert_exporter": "python",
   "pygments_lexer": "ipython3",
   "version": "3.7.12"
  },
  "orig_nbformat": 4,
  "vscode": {
   "interpreter": {
    "hash": "5b772ba6196d99b64d9019a11b57c24f8066632039bdf84a783d1d6c99c4aa12"
   }
  }
 },
 "nbformat": 4,
 "nbformat_minor": 2
}
