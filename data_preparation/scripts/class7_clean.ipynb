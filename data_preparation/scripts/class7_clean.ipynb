{
 "cells": [
  {
   "cell_type": "code",
   "execution_count": 28,
   "metadata": {},
   "outputs": [],
   "source": [
    "import pandas as pd\n",
    "import torch\n",
    "import numpy as np\n",
    "import random\n",
    "import matplotlib.pyplot as plt\n",
    "from collections import Counter\n",
    "import scipy\n",
    "from scipy import stats\n",
    "import sklearn"
   ]
  },
  {
   "cell_type": "code",
   "execution_count": 29,
   "metadata": {},
   "outputs": [],
   "source": [
    "labels = pd.read_csv('/data/kpusteln/Fetal-RL/data_preparation/outputs/labels_corrected.csv')"
   ]
  },
  {
   "cell_type": "code",
   "execution_count": 30,
   "metadata": {},
   "outputs": [
    {
     "data": {
      "text/html": [
       "<div>\n",
       "<style scoped>\n",
       "    .dataframe tbody tr th:only-of-type {\n",
       "        vertical-align: middle;\n",
       "    }\n",
       "\n",
       "    .dataframe tbody tr th {\n",
       "        vertical-align: top;\n",
       "    }\n",
       "\n",
       "    .dataframe thead th {\n",
       "        text-align: right;\n",
       "    }\n",
       "</style>\n",
       "<table border=\"1\" class=\"dataframe\">\n",
       "  <thead>\n",
       "    <tr style=\"text-align: right;\">\n",
       "      <th></th>\n",
       "      <th>index</th>\n",
       "      <th>Class</th>\n",
       "      <th>video</th>\n",
       "    </tr>\n",
       "  </thead>\n",
       "  <tbody>\n",
       "    <tr>\n",
       "      <th>0</th>\n",
       "      <td>1_1_1</td>\n",
       "      <td>1</td>\n",
       "      <td>1_1</td>\n",
       "    </tr>\n",
       "    <tr>\n",
       "      <th>1</th>\n",
       "      <td>1_1_2</td>\n",
       "      <td>1</td>\n",
       "      <td>1_1</td>\n",
       "    </tr>\n",
       "    <tr>\n",
       "      <th>2</th>\n",
       "      <td>1_1_3</td>\n",
       "      <td>1</td>\n",
       "      <td>1_1</td>\n",
       "    </tr>\n",
       "    <tr>\n",
       "      <th>3</th>\n",
       "      <td>1_1_4</td>\n",
       "      <td>1</td>\n",
       "      <td>1_1</td>\n",
       "    </tr>\n",
       "    <tr>\n",
       "      <th>4</th>\n",
       "      <td>1_1_5</td>\n",
       "      <td>1</td>\n",
       "      <td>1_1</td>\n",
       "    </tr>\n",
       "    <tr>\n",
       "      <th>...</th>\n",
       "      <td>...</td>\n",
       "      <td>...</td>\n",
       "      <td>...</td>\n",
       "    </tr>\n",
       "    <tr>\n",
       "      <th>261760</th>\n",
       "      <td>708_3_75</td>\n",
       "      <td>5</td>\n",
       "      <td>708_3</td>\n",
       "    </tr>\n",
       "    <tr>\n",
       "      <th>261761</th>\n",
       "      <td>708_3_76</td>\n",
       "      <td>5</td>\n",
       "      <td>708_3</td>\n",
       "    </tr>\n",
       "    <tr>\n",
       "      <th>261762</th>\n",
       "      <td>708_3_77</td>\n",
       "      <td>5</td>\n",
       "      <td>708_3</td>\n",
       "    </tr>\n",
       "    <tr>\n",
       "      <th>261763</th>\n",
       "      <td>708_3_78</td>\n",
       "      <td>5</td>\n",
       "      <td>708_3</td>\n",
       "    </tr>\n",
       "    <tr>\n",
       "      <th>261764</th>\n",
       "      <td>708_3_79</td>\n",
       "      <td>5</td>\n",
       "      <td>708_3</td>\n",
       "    </tr>\n",
       "  </tbody>\n",
       "</table>\n",
       "<p>261765 rows × 3 columns</p>\n",
       "</div>"
      ],
      "text/plain": [
       "           index  Class  video\n",
       "0          1_1_1      1    1_1\n",
       "1          1_1_2      1    1_1\n",
       "2          1_1_3      1    1_1\n",
       "3          1_1_4      1    1_1\n",
       "4          1_1_5      1    1_1\n",
       "...          ...    ...    ...\n",
       "261760  708_3_75      5  708_3\n",
       "261761  708_3_76      5  708_3\n",
       "261762  708_3_77      5  708_3\n",
       "261763  708_3_78      5  708_3\n",
       "261764  708_3_79      5  708_3\n",
       "\n",
       "[261765 rows x 3 columns]"
      ]
     },
     "execution_count": 30,
     "metadata": {},
     "output_type": "execute_result"
    }
   ],
   "source": [
    "labels"
   ]
  },
  {
   "cell_type": "code",
   "execution_count": 31,
   "metadata": {},
   "outputs": [],
   "source": [
    "## Data split\n",
    "def probability_mass(data):\n",
    "    \n",
    "    counts = Counter(data) # counting the classes\n",
    "    total = sum(counts.values()) # total number of classes\n",
    "    probability_mass = {k:v/total for k,v in counts.items()} # probability mass of the classes\n",
    "    probability_mass = list(probability_mass.values()) # converting the dictionary to a list\n",
    "    return probability_mass\n",
    "    \n",
    "\n",
    "def train_test_split(data, train_size = 0.9, precision = 0.005):\n",
    "    \"\"\"splitting data into train and test sets keeping the same distribution of classes using wasertein's method\n",
    "    args: data - data frame containing the data\n",
    "    train_size - size of the train set default\n",
    "    precision - determines how close the train set size is to the train_size default 0.005 (the smaller the better, but it may take longer to generate sets)\"\"\"\n",
    "    \n",
    "    print('Splitting data into train and test sets...')\n",
    "    \n",
    "    #data = pd.read_csv(data) # loading the data\n",
    "    wass_dist = 1\n",
    "    videos = list(data['video'].unique()) # list of videos\n",
    "    train_size = int(train_size * len(videos)) # calculating the number of videos in the train set\n",
    "    while wass_dist > precision: # while the wasserstein distance is greater than 0.005\n",
    "        train = random.sample(videos, train_size) # sampling the train set\n",
    "        testval = [x for x in videos if x not in train] # sampling the test set\n",
    "        train_set = data.loc[data['video'].isin(train)] # creating the train set\n",
    "        testval_set = data.loc[data['video'].isin(testval)] # creating the test set\n",
    "        test_set = testval_set.sample(frac = 0.5) # sampling the test set\n",
    "        val_set = testval_set.drop(test_set.index) # sampling the validation set\n",
    "        probability_mass_train = probability_mass(train_set['Class']) # calculating the probability mass of the train set\n",
    "        probability_mass_test = probability_mass(test_set['Class']) # calculating the probability mass of the test set\n",
    "        wass_dist = scipy.stats.wasserstein_distance(probability_mass_train, probability_mass_test) # wasserstein distance between distributions\n",
    "    print('Done!')\n",
    "    return train_set, val_set, test_set\n",
    "    \n",
    "def histogram_class_plot(data, title):\n",
    "    \"\"\"plotting histogram of the classes\"\"\"\n",
    "    plt.figure(figsize=(10,10))\n",
    "    plt.hist(data['Class'], bins = 100)\n",
    "    plt.xlabel('Class')\n",
    "    plt.ylabel('Frequency')\n",
    "    plt.title(title)\n",
    "    plt.savefig(title + '.png')\n",
    "\n",
    "\n",
    "\n",
    "\n"
   ]
  },
  {
   "cell_type": "code",
   "execution_count": 32,
   "metadata": {},
   "outputs": [
    {
     "name": "stdout",
     "output_type": "stream",
     "text": [
      "Splitting data into train and test sets...\n",
      "Done!\n"
     ]
    }
   ],
   "source": [
    "train_set, val_set, test_set = train_test_split(labels, train_size = 0.9, precision = 0.005)"
   ]
  },
  {
   "cell_type": "code",
   "execution_count": null,
   "metadata": {},
   "outputs": [],
   "source": [
    "\"\"\"new_labels:\n",
    "0 - other\n",
    "1 - head non-standard plane\n",
    "2 - head standard plane\n",
    "3 - abdomen non-standard plane\n",
    "4 - abdomen standard plane\n",
    "5 - femur non standard plane\n",
    "6 - femur standard plane\"\"\""
   ]
  },
  {
   "cell_type": "code",
   "execution_count": 33,
   "metadata": {},
   "outputs": [
    {
     "data": {
      "text/plain": [
       "3    96947\n",
       "5    49773\n",
       "6    35551\n",
       "0    31740\n",
       "1    14138\n",
       "4     4442\n",
       "2     2705\n",
       "Name: Class, dtype: int64"
      ]
     },
     "execution_count": 33,
     "metadata": {},
     "output_type": "execute_result"
    }
   ],
   "source": [
    "train_set['Class'].value_counts()"
   ]
  },
  {
   "cell_type": "code",
   "execution_count": 34,
   "metadata": {},
   "outputs": [],
   "source": [
    "# train_set['Class'] = train_set['Class'].replace([3,5], [1,1])\n",
    "# val_set['Class'] = val_set['Class'].replace([3,5], [1,1])\n",
    "# test_set['Class'] = test_set['Class'].replace([3,5], [1,1])\n",
    "\n",
    "# train_set['Class'] = train_set['Class'].replace([4,6], [2,2])\n",
    "# val_set['Class'] = val_set['Class'].replace([4,6], [2,2])\n",
    "# test_set['Class'] = test_set['Class'].replace([4,6], [2,2])"
   ]
  },
  {
   "cell_type": "code",
   "execution_count": 35,
   "metadata": {},
   "outputs": [
    {
     "data": {
      "text/plain": [
       "3    5611\n",
       "5    2605\n",
       "6    2019\n",
       "0    1883\n",
       "1     761\n",
       "4     259\n",
       "2      97\n",
       "Name: Class, dtype: int64"
      ]
     },
     "execution_count": 35,
     "metadata": {},
     "output_type": "execute_result"
    }
   ],
   "source": [
    "val_set['Class'].value_counts()"
   ]
  },
  {
   "cell_type": "code",
   "execution_count": 36,
   "metadata": {},
   "outputs": [
    {
     "data": {
      "text/plain": [
       "'1'"
      ]
     },
     "execution_count": 36,
     "metadata": {},
     "output_type": "execute_result"
    }
   ],
   "source": [
    "val_set['video'].iloc[0].split('_')[1]"
   ]
  },
  {
   "cell_type": "code",
   "execution_count": 37,
   "metadata": {},
   "outputs": [],
   "source": [
    "train_set.to_csv('/data/kpusteln/fetal/standard_plane/class_data/train_set7.csv', index = False)\n",
    "val_set.to_csv('/data/kpusteln/fetal/standard_plane/class_data/val_set7.csv', index = False)\n",
    "test_set.to_csv('/data/kpusteln/fetal/standard_plane/class_data/test_set7.csv', index = False)"
   ]
  },
  {
   "cell_type": "code",
   "execution_count": 38,
   "metadata": {},
   "outputs": [],
   "source": [
    "from torchvision.models import efficientnet_v2_l"
   ]
  },
  {
   "cell_type": "code",
   "execution_count": 39,
   "metadata": {},
   "outputs": [],
   "source": [
    "model = efficientnet_v2_l()"
   ]
  },
  {
   "cell_type": "code",
   "execution_count": 40,
   "metadata": {},
   "outputs": [
    {
     "data": {
      "text/plain": [
       "Sequential(\n",
       "  (0): Dropout(p=0.4, inplace=True)\n",
       "  (1): Linear(in_features=1280, out_features=1000, bias=True)\n",
       ")"
      ]
     },
     "execution_count": 40,
     "metadata": {},
     "output_type": "execute_result"
    }
   ],
   "source": [
    "model.classifier"
   ]
  },
  {
   "cell_type": "code",
   "execution_count": null,
   "metadata": {},
   "outputs": [],
   "source": []
  }
 ],
 "metadata": {
  "kernelspec": {
   "display_name": "Python 3.7.12 ('swin': conda)",
   "language": "python",
   "name": "python3"
  },
  "language_info": {
   "codemirror_mode": {
    "name": "ipython",
    "version": 3
   },
   "file_extension": ".py",
   "mimetype": "text/x-python",
   "name": "python",
   "nbconvert_exporter": "python",
   "pygments_lexer": "ipython3",
   "version": "3.7.12 | packaged by conda-forge | (default, Oct 26 2021, 06:08:21) \n[GCC 9.4.0]"
  },
  "orig_nbformat": 4,
  "vscode": {
   "interpreter": {
    "hash": "5b772ba6196d99b64d9019a11b57c24f8066632039bdf84a783d1d6c99c4aa12"
   }
  }
 },
 "nbformat": 4,
 "nbformat_minor": 2
}
