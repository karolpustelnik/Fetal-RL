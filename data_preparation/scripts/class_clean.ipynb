{
 "cells": [
  {
   "cell_type": "code",
   "execution_count": 58,
   "metadata": {},
   "outputs": [],
   "source": [
    "import pandas as pd\n",
    "import torch\n",
    "import numpy as np\n",
    "import random\n",
    "import matplotlib.pyplot as plt\n",
    "from collections import Counter\n",
    "import scipy\n",
    "from scipy import stats\n",
    "import sklearn"
   ]
  },
  {
   "cell_type": "code",
   "execution_count": 34,
   "metadata": {},
   "outputs": [],
   "source": [
    "labels = pd.read_csv('/data/kpusteln/Fetal-RL/data_preparation/outputs/labels_corrected.csv')"
   ]
  },
  {
   "cell_type": "code",
   "execution_count": 4,
   "metadata": {},
   "outputs": [
    {
     "data": {
      "text/html": [
       "<div>\n",
       "<style scoped>\n",
       "    .dataframe tbody tr th:only-of-type {\n",
       "        vertical-align: middle;\n",
       "    }\n",
       "\n",
       "    .dataframe tbody tr th {\n",
       "        vertical-align: top;\n",
       "    }\n",
       "\n",
       "    .dataframe thead th {\n",
       "        text-align: right;\n",
       "    }\n",
       "</style>\n",
       "<table border=\"1\" class=\"dataframe\">\n",
       "  <thead>\n",
       "    <tr style=\"text-align: right;\">\n",
       "      <th></th>\n",
       "      <th>index</th>\n",
       "      <th>Class</th>\n",
       "      <th>video</th>\n",
       "    </tr>\n",
       "  </thead>\n",
       "  <tbody>\n",
       "    <tr>\n",
       "      <th>0</th>\n",
       "      <td>1_1_1</td>\n",
       "      <td>1</td>\n",
       "      <td>1_1</td>\n",
       "    </tr>\n",
       "    <tr>\n",
       "      <th>1</th>\n",
       "      <td>1_1_2</td>\n",
       "      <td>1</td>\n",
       "      <td>1_1</td>\n",
       "    </tr>\n",
       "    <tr>\n",
       "      <th>2</th>\n",
       "      <td>1_1_3</td>\n",
       "      <td>1</td>\n",
       "      <td>1_1</td>\n",
       "    </tr>\n",
       "    <tr>\n",
       "      <th>3</th>\n",
       "      <td>1_1_4</td>\n",
       "      <td>1</td>\n",
       "      <td>1_1</td>\n",
       "    </tr>\n",
       "    <tr>\n",
       "      <th>4</th>\n",
       "      <td>1_1_5</td>\n",
       "      <td>1</td>\n",
       "      <td>1_1</td>\n",
       "    </tr>\n",
       "    <tr>\n",
       "      <th>...</th>\n",
       "      <td>...</td>\n",
       "      <td>...</td>\n",
       "      <td>...</td>\n",
       "    </tr>\n",
       "    <tr>\n",
       "      <th>261760</th>\n",
       "      <td>708_3_75</td>\n",
       "      <td>5</td>\n",
       "      <td>708_3</td>\n",
       "    </tr>\n",
       "    <tr>\n",
       "      <th>261761</th>\n",
       "      <td>708_3_76</td>\n",
       "      <td>5</td>\n",
       "      <td>708_3</td>\n",
       "    </tr>\n",
       "    <tr>\n",
       "      <th>261762</th>\n",
       "      <td>708_3_77</td>\n",
       "      <td>5</td>\n",
       "      <td>708_3</td>\n",
       "    </tr>\n",
       "    <tr>\n",
       "      <th>261763</th>\n",
       "      <td>708_3_78</td>\n",
       "      <td>5</td>\n",
       "      <td>708_3</td>\n",
       "    </tr>\n",
       "    <tr>\n",
       "      <th>261764</th>\n",
       "      <td>708_3_79</td>\n",
       "      <td>5</td>\n",
       "      <td>708_3</td>\n",
       "    </tr>\n",
       "  </tbody>\n",
       "</table>\n",
       "<p>261765 rows × 3 columns</p>\n",
       "</div>"
      ],
      "text/plain": [
       "           index  Class  video\n",
       "0          1_1_1      1    1_1\n",
       "1          1_1_2      1    1_1\n",
       "2          1_1_3      1    1_1\n",
       "3          1_1_4      1    1_1\n",
       "4          1_1_5      1    1_1\n",
       "...          ...    ...    ...\n",
       "261760  708_3_75      5  708_3\n",
       "261761  708_3_76      5  708_3\n",
       "261762  708_3_77      5  708_3\n",
       "261763  708_3_78      5  708_3\n",
       "261764  708_3_79      5  708_3\n",
       "\n",
       "[261765 rows x 3 columns]"
      ]
     },
     "execution_count": 4,
     "metadata": {},
     "output_type": "execute_result"
    }
   ],
   "source": [
    "# 1 - head\n",
    "# 2 - abdomen\n",
    "# 3 - femur\n",
    "\n",
    "labels"
   ]
  },
  {
   "cell_type": "code",
   "execution_count": 35,
   "metadata": {},
   "outputs": [],
   "source": [
    "femur_labels = labels[labels['video'].str.split('_').str[-1] == '3']\n",
    "head_labels = labels[labels['video'].str.split('_').str[-1] == '1']\n",
    "abdomen_labels = labels[labels['video'].str.split('_').str[-1] == '2']"
   ]
  },
  {
   "cell_type": "code",
   "execution_count": 36,
   "metadata": {},
   "outputs": [
    {
     "data": {
      "text/plain": [
       "'new_labels:\\n0 - other\\n1 - head non-standard plane\\n2 - head standard plane\\n3 - abdomen non-standard plane\\n4 - abdomen standard plane\\n5 - femur non standard plane\\n6 - femur standard plane'"
      ]
     },
     "execution_count": 36,
     "metadata": {},
     "output_type": "execute_result"
    }
   ],
   "source": [
    "\"\"\"new_labels:\n",
    "0 - other\n",
    "1 - head non-standard plane\n",
    "2 - head standard plane\n",
    "3 - abdomen non-standard plane\n",
    "4 - abdomen standard plane\n",
    "5 - femur non standard plane\n",
    "6 - femur standard plane\"\"\""
   ]
  },
  {
   "cell_type": "code",
   "execution_count": 37,
   "metadata": {},
   "outputs": [
    {
     "name": "stderr",
     "output_type": "stream",
     "text": [
      "/data/kpusteln/my-envs/swin/lib/python3.7/site-packages/ipykernel_launcher.py:1: SettingWithCopyWarning: \n",
      "A value is trying to be set on a copy of a slice from a DataFrame.\n",
      "Try using .loc[row_indexer,col_indexer] = value instead\n",
      "\n",
      "See the caveats in the documentation: https://pandas.pydata.org/pandas-docs/stable/user_guide/indexing.html#returning-a-view-versus-a-copy\n",
      "  \"\"\"Entry point for launching an IPython kernel.\n"
     ]
    }
   ],
   "source": [
    "abdomen_labels['Class'] = abdomen_labels['Class'].replace([6,2,5,1], 0)"
   ]
  },
  {
   "cell_type": "code",
   "execution_count": 38,
   "metadata": {},
   "outputs": [
    {
     "data": {
      "text/plain": [
       "3    105108\n",
       "0      8678\n",
       "4      4917\n",
       "Name: Class, dtype: int64"
      ]
     },
     "execution_count": 38,
     "metadata": {},
     "output_type": "execute_result"
    }
   ],
   "source": [
    "abdomen_labels['Class'].value_counts()"
   ]
  },
  {
   "cell_type": "code",
   "execution_count": 39,
   "metadata": {},
   "outputs": [
    {
     "data": {
      "text/plain": [
       "5    54750\n",
       "6    39610\n",
       "0    28059\n",
       "3     2905\n",
       "1      167\n",
       "4       35\n",
       "2       14\n",
       "Name: Class, dtype: int64"
      ]
     },
     "execution_count": 39,
     "metadata": {},
     "output_type": "execute_result"
    }
   ],
   "source": [
    "femur_labels['Class'].value_counts()"
   ]
  },
  {
   "cell_type": "code",
   "execution_count": 40,
   "metadata": {},
   "outputs": [
    {
     "name": "stderr",
     "output_type": "stream",
     "text": [
      "/data/kpusteln/my-envs/swin/lib/python3.7/site-packages/ipykernel_launcher.py:1: SettingWithCopyWarning: \n",
      "A value is trying to be set on a copy of a slice from a DataFrame.\n",
      "Try using .loc[row_indexer,col_indexer] = value instead\n",
      "\n",
      "See the caveats in the documentation: https://pandas.pydata.org/pandas-docs/stable/user_guide/indexing.html#returning-a-view-versus-a-copy\n",
      "  \"\"\"Entry point for launching an IPython kernel.\n"
     ]
    }
   ],
   "source": [
    "femur_labels['Class'] = femur_labels['Class'].replace([1,2,3,4], 0)"
   ]
  },
  {
   "cell_type": "code",
   "execution_count": 41,
   "metadata": {},
   "outputs": [
    {
     "data": {
      "text/plain": [
       "5    54750\n",
       "6    39610\n",
       "0    31180\n",
       "Name: Class, dtype: int64"
      ]
     },
     "execution_count": 41,
     "metadata": {},
     "output_type": "execute_result"
    }
   ],
   "source": [
    "femur_labels['Class'].value_counts()"
   ]
  },
  {
   "cell_type": "code",
   "execution_count": 42,
   "metadata": {},
   "outputs": [
    {
     "data": {
      "text/plain": [
       "1    13410\n",
       "2     2840\n",
       "0     1272\n",
       "Name: Class, dtype: int64"
      ]
     },
     "execution_count": 42,
     "metadata": {},
     "output_type": "execute_result"
    }
   ],
   "source": [
    "head_labels['Class'].value_counts()"
   ]
  },
  {
   "cell_type": "code",
   "execution_count": 43,
   "metadata": {},
   "outputs": [
    {
     "data": {
      "text/plain": [
       "'new_labels:\\n0 - other\\n1 - head non-standard plane\\n2 - head standard plane\\n3 - abdomen non-standard plane\\n4 - abdomen standard plane\\n5 - femur non standard plane\\n6 - femur standard plane'"
      ]
     },
     "execution_count": 43,
     "metadata": {},
     "output_type": "execute_result"
    }
   ],
   "source": [
    "\"\"\"new_labels:\n",
    "0 - other\n",
    "1 - head non-standard plane\n",
    "2 - head standard plane\n",
    "3 - abdomen non-standard plane\n",
    "4 - abdomen standard plane\n",
    "5 - femur non standard plane\n",
    "6 - femur standard plane\"\"\""
   ]
  },
  {
   "cell_type": "code",
   "execution_count": 44,
   "metadata": {},
   "outputs": [
    {
     "data": {
      "text/plain": [
       "1    13410\n",
       "2     2840\n",
       "0     1272\n",
       "Name: Class, dtype: int64"
      ]
     },
     "execution_count": 44,
     "metadata": {},
     "output_type": "execute_result"
    }
   ],
   "source": [
    "head_labels['Class'].value_counts()"
   ]
  },
  {
   "cell_type": "code",
   "execution_count": 48,
   "metadata": {},
   "outputs": [
    {
     "name": "stderr",
     "output_type": "stream",
     "text": [
      "/data/kpusteln/my-envs/swin/lib/python3.7/site-packages/ipykernel_launcher.py:2: SettingWithCopyWarning: \n",
      "A value is trying to be set on a copy of a slice from a DataFrame.\n",
      "Try using .loc[row_indexer,col_indexer] = value instead\n",
      "\n",
      "See the caveats in the documentation: https://pandas.pydata.org/pandas-docs/stable/user_guide/indexing.html#returning-a-view-versus-a-copy\n",
      "  \n",
      "/data/kpusteln/my-envs/swin/lib/python3.7/site-packages/ipykernel_launcher.py:3: SettingWithCopyWarning: \n",
      "A value is trying to be set on a copy of a slice from a DataFrame.\n",
      "Try using .loc[row_indexer,col_indexer] = value instead\n",
      "\n",
      "See the caveats in the documentation: https://pandas.pydata.org/pandas-docs/stable/user_guide/indexing.html#returning-a-view-versus-a-copy\n",
      "  This is separate from the ipykernel package so we can avoid doing imports until\n"
     ]
    }
   ],
   "source": [
    "#Changing labels from 5,6 to 1,2 to avoid problems with cross entropy loss\n",
    "femur_labels['Class'] = femur_labels['Class'].replace(5, 1)\n",
    "femur_labels['Class'] = femur_labels['Class'].replace(6, 2)"
   ]
  },
  {
   "cell_type": "code",
   "execution_count": 49,
   "metadata": {},
   "outputs": [
    {
     "data": {
      "text/plain": [
       "1    54750\n",
       "2    39610\n",
       "0    31180\n",
       "Name: Class, dtype: int64"
      ]
     },
     "execution_count": 49,
     "metadata": {},
     "output_type": "execute_result"
    }
   ],
   "source": [
    "femur_labels['Class'].value_counts()"
   ]
  },
  {
   "cell_type": "code",
   "execution_count": 51,
   "metadata": {},
   "outputs": [
    {
     "name": "stderr",
     "output_type": "stream",
     "text": [
      "/data/kpusteln/my-envs/swin/lib/python3.7/site-packages/ipykernel_launcher.py:1: SettingWithCopyWarning: \n",
      "A value is trying to be set on a copy of a slice from a DataFrame.\n",
      "Try using .loc[row_indexer,col_indexer] = value instead\n",
      "\n",
      "See the caveats in the documentation: https://pandas.pydata.org/pandas-docs/stable/user_guide/indexing.html#returning-a-view-versus-a-copy\n",
      "  \"\"\"Entry point for launching an IPython kernel.\n",
      "/data/kpusteln/my-envs/swin/lib/python3.7/site-packages/ipykernel_launcher.py:2: SettingWithCopyWarning: \n",
      "A value is trying to be set on a copy of a slice from a DataFrame.\n",
      "Try using .loc[row_indexer,col_indexer] = value instead\n",
      "\n",
      "See the caveats in the documentation: https://pandas.pydata.org/pandas-docs/stable/user_guide/indexing.html#returning-a-view-versus-a-copy\n",
      "  \n"
     ]
    }
   ],
   "source": [
    "abdomen_labels['Class'] = abdomen_labels['Class'].replace(3, 1)\n",
    "abdomen_labels['Class'] = abdomen_labels['Class'].replace(4, 2)"
   ]
  },
  {
   "cell_type": "code",
   "execution_count": 52,
   "metadata": {},
   "outputs": [
    {
     "data": {
      "text/plain": [
       "1    105108\n",
       "0      8678\n",
       "2      4917\n",
       "Name: Class, dtype: int64"
      ]
     },
     "execution_count": 52,
     "metadata": {},
     "output_type": "execute_result"
    }
   ],
   "source": [
    "abdomen_labels['Class'].value_counts()"
   ]
  },
  {
   "cell_type": "code",
   "execution_count": 53,
   "metadata": {},
   "outputs": [],
   "source": [
    "## Data split\n",
    "def probability_mass(data):\n",
    "    \n",
    "    counts = Counter(data) # counting the classes\n",
    "    total = sum(counts.values()) # total number of classes\n",
    "    probability_mass = {k:v/total for k,v in counts.items()} # probability mass of the classes\n",
    "    probability_mass = list(probability_mass.values()) # converting the dictionary to a list\n",
    "    return probability_mass\n",
    "    \n",
    "\n",
    "def train_test_split(data, train_size = 0.9, precision = 0.005):\n",
    "    \"\"\"splitting data into train and test sets keeping the same distribution of classes using wasertein's method\n",
    "    args: data - data frame containing the data\n",
    "    train_size - size of the train set default\n",
    "    precision - determines how close the train set size is to the train_size default 0.005 (the smaller the better, but it may take longer to generate sets)\"\"\"\n",
    "    \n",
    "    print('Splitting data into train and test sets...')\n",
    "    \n",
    "    #data = pd.read_csv(data) # loading the data\n",
    "    wass_dist = 1\n",
    "    videos = list(data['video'].unique()) # list of videos\n",
    "    train_size = int(train_size * len(videos)) # calculating the number of videos in the train set\n",
    "    while wass_dist > precision: # while the wasserstein distance is greater than 0.005\n",
    "        train = random.sample(videos, train_size) # sampling the train set\n",
    "        testval = [x for x in videos if x not in train] # sampling the test set\n",
    "        train_set = data.loc[data['video'].isin(train)] # creating the train set\n",
    "        testval_set = data.loc[data['video'].isin(testval)] # creating the test set\n",
    "        test_set = testval_set.sample(frac = 0.5) # sampling the test set\n",
    "        val_set = testval_set.drop(test_set.index) # sampling the validation set\n",
    "        probability_mass_train = probability_mass(train_set['Class']) # calculating the probability mass of the train set\n",
    "        probability_mass_test = probability_mass(test_set['Class']) # calculating the probability mass of the test set\n",
    "        wass_dist = scipy.stats.wasserstein_distance(probability_mass_train, probability_mass_test) # wasserstein distance between distributions\n",
    "    print('Done!')\n",
    "    return train_set, val_set, test_set\n",
    "    \n",
    "def histogram_class_plot(data, title):\n",
    "    \"\"\"plotting histogram of the classes\"\"\"\n",
    "    plt.figure(figsize=(10,10))\n",
    "    plt.hist(data['Class'], bins = 100)\n",
    "    plt.xlabel('Class')\n",
    "    plt.ylabel('Frequency')\n",
    "    plt.title(title)\n",
    "    plt.savefig(title + '.png')\n",
    "\n",
    "\n",
    "\n",
    "\n"
   ]
  },
  {
   "cell_type": "code",
   "execution_count": 54,
   "metadata": {},
   "outputs": [
    {
     "name": "stdout",
     "output_type": "stream",
     "text": [
      "Splitting data into train and test sets...\n",
      "Done!\n",
      "Splitting data into train and test sets...\n",
      "Done!\n",
      "Splitting data into train and test sets...\n",
      "Done!\n"
     ]
    }
   ],
   "source": [
    "abdomen_train, abdomen_val, abdomen_test = train_test_split(abdomen_labels)\n",
    "femur_train, femur_val, femur_test = train_test_split(femur_labels)\n",
    "head_train, head_val, head_test = train_test_split(head_labels)"
   ]
  },
  {
   "cell_type": "code",
   "execution_count": 55,
   "metadata": {},
   "outputs": [],
   "source": [
    "abdomen_train.to_csv('/data/kpusteln/fetal/standard_plane/class_data/abdomen_train.csv', index = False)\n",
    "abdomen_val.to_csv('/data/kpusteln/fetal/standard_plane/class_data/abdomen_val.csv', index = False)\n",
    "abdomen_test.to_csv('/data/kpusteln/fetal/standard_plane/class_data/abdomen_test.csv', index = False)\n",
    "\n",
    "femur_train.to_csv('/data/kpusteln/fetal/standard_plane/class_data/femur_train.csv', index = False)\n",
    "femur_val.to_csv('/data/kpusteln/fetal/standard_plane/class_data/femur_val.csv', index = False)\n",
    "femur_test.to_csv('/data/kpusteln/fetal/standard_plane/class_data/femur_test.csv', index = False)\n",
    "\n",
    "head_train.to_csv('/data/kpusteln/fetal/standard_plane/class_data/head_train.csv', index = False)\n",
    "head_val.to_csv('/data/kpusteln/fetal/standard_plane/class_data/head_val.csv', index = False)\n",
    "head_test.to_csv('/data/kpusteln/fetal/standard_plane/class_data/head_test.csv', index = False)"
   ]
  },
  {
   "cell_type": "code",
   "execution_count": 56,
   "metadata": {},
   "outputs": [
    {
     "data": {
      "text/plain": [
       "1    94652\n",
       "0     7906\n",
       "2     4453\n",
       "Name: Class, dtype: int64"
      ]
     },
     "execution_count": 56,
     "metadata": {},
     "output_type": "execute_result"
    }
   ],
   "source": [
    "abdomen_train['Class'].value_counts()"
   ]
  },
  {
   "cell_type": "code",
   "execution_count": 80,
   "metadata": {},
   "outputs": [],
   "source": [
    "abd_classes = abdomen_train['Class']\n",
    "hd_classes = head_train['Class']\n",
    "fm_classes = femur_train['Class']"
   ]
  },
  {
   "cell_type": "code",
   "execution_count": 81,
   "metadata": {},
   "outputs": [],
   "source": [
    "# Class balancing\n",
    "abd_class_weights = sklearn.utils.class_weight.compute_class_weight(class_weight= 'balanced', classes = np.unique(abd_classes), \n",
    "                                                y = abd_classes)\n",
    "fm_class_weights = sklearn.utils.class_weight.compute_class_weight(class_weight= 'balanced', classes = np.unique(fm_classes),\n",
    "                                                y = fm_classes)\n",
    "\n",
    "hd_class_weights = sklearn.utils.class_weight.compute_class_weight(class_weight= 'balanced', classes = np.unique(hd_classes),\n",
    "                                                y = hd_classes)\n",
    "                                                                   "
   ]
  },
  {
   "cell_type": "code",
   "execution_count": 86,
   "metadata": {},
   "outputs": [
    {
     "data": {
      "text/plain": [
       "array([4.51180538, 0.37685768, 8.01040497])"
      ]
     },
     "execution_count": 86,
     "metadata": {},
     "output_type": "execute_result"
    }
   ],
   "source": [
    "abd_class_weights"
   ]
  },
  {
   "cell_type": "code",
   "execution_count": null,
   "metadata": {},
   "outputs": [],
   "source": []
  }
 ],
 "metadata": {
  "kernelspec": {
   "display_name": "Python 3.7.12 ('swin': conda)",
   "language": "python",
   "name": "python3"
  },
  "language_info": {
   "codemirror_mode": {
    "name": "ipython",
    "version": 3
   },
   "file_extension": ".py",
   "mimetype": "text/x-python",
   "name": "python",
   "nbconvert_exporter": "python",
   "pygments_lexer": "ipython3",
   "version": "3.7.12 | packaged by conda-forge | (default, Oct 26 2021, 06:08:21) \n[GCC 9.4.0]"
  },
  "orig_nbformat": 4,
  "vscode": {
   "interpreter": {
    "hash": "5b772ba6196d99b64d9019a11b57c24f8066632039bdf84a783d1d6c99c4aa12"
   }
  }
 },
 "nbformat": 4,
 "nbformat_minor": 2
}
